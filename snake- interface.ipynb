{
 "cells": [
  {
   "cell_type": "code",
   "execution_count": 1,
   "metadata": {},
   "outputs": [],
   "source": [
    "large = 10\n",
    "high = 4 #6 "
   ]
  },
  {
   "cell_type": "code",
   "execution_count": 24,
   "metadata": {},
   "outputs": [
    {
     "name": "stdout",
     "output_type": "stream",
     "text": [
      "The autoreload extension is already loaded. To reload it, use:\n",
      "  %reload_ext autoreload\n"
     ]
    }
   ],
   "source": [
    "%load_ext autoreload\n",
    "%autoreload 2\n",
    "%config Completer.use_jedi = False"
   ]
  },
  {
   "cell_type": "code",
   "execution_count": 3,
   "metadata": {},
   "outputs": [],
   "source": [
    "import math\n",
    "from utils import Grille\n",
    "import random\n",
    "from IPython.display import clear_output"
   ]
  },
  {
   "cell_type": "code",
   "execution_count": 4,
   "metadata": {},
   "outputs": [],
   "source": [
    "def build_grille(large, high):\n",
    "    if large < 1 or high < 1:\n",
    "        print(\"WARNING: 0 sized or negative grid\")\n",
    "    if large < high:\n",
    "        print(\"WARNING: grille should be larger than high\")\n",
    "    if large > 23 or high > 50:\n",
    "        print(\"WARNING: grille is too big\")\n",
    "    grille = Grille()\n",
    "    first_row = [1] * (large + 2)\n",
    "    grille.append(first_row)\n",
    "\n",
    "    for row in range(high):\n",
    "        new_row = [1] + [0] * large + [1]\n",
    "        grille.append(new_row)\n",
    "    last_row  = [1] * (large + 2)\n",
    "    grille.append(last_row)\n",
    "    return grille"
   ]
  },
  {
   "cell_type": "code",
   "execution_count": 5,
   "metadata": {},
   "outputs": [],
   "source": [
    "def initialize_snake(grille, large, high):\n",
    "    init_x =  math.ceil(large /2)\n",
    "    init_y =  math.ceil(high/2)\n",
    "    init_coords = (init_x, init_y)\n",
    "    if grille[init_y][init_x] != 0:\n",
    "        print(\"snake initialized on grid border\")\n",
    "    else:\n",
    "        grille[init_y][3] = 3 # snake head\n",
    "        grille[init_y][2] = 2  #snake body\n",
    "        grille[init_y][1] = 2  #snake body\n",
    "    return grille"
   ]
  },
  {
   "cell_type": "code",
   "execution_count": 6,
   "metadata": {},
   "outputs": [],
   "source": [
    "input_to_dir = {\n",
    "    4 :\"left\",\n",
    "    6 :\"right\",\n",
    "    8 : \"up\",\n",
    "    5:\"down\"\n",
    "}\n",
    "\n",
    "def run(grille_intialized):\n",
    "    \n",
    "    from pprint import pprint\n",
    "    last_head = find_head(grille_intialized)\n",
    "    last_head = (last_head[0], last_head[1] - 1)\n",
    "    grille = grille_intialized\n",
    "    snake = initial_snake(high)\n",
    "    did_eat = True\n",
    "    grille = spawn_food(grille, snake)\n",
    "    score = 0\n",
    "    while True:           \n",
    "        pprint(grille)\n",
    "        current_head = find_head(grille)\n",
    "        user_input = move()\n",
    "        last_direction = define_movement(last_head, current_head)\n",
    "        print(\"last_direction\", last_direction)\n",
    "        if check_input(last_direction, user_input) == 1:\n",
    "            user_input = \"continue\"\n",
    "            # last direction does not change\n",
    "        else:\n",
    "            if user_input == 9:\n",
    "                user_input = \"continue\"\n",
    "                # last_direction does not change\n",
    "            elif user_input == 8:\n",
    "                last_direction = \"up\"\n",
    "            elif user_input == 6:\n",
    "                last_direction = \"right\"\n",
    "            elif user_input == 4:\n",
    "                last_direction = \"left\"\n",
    "            elif user_input == 5:\n",
    "                last_direction = \"down\"\n",
    "            else:\n",
    "                print(\"wrong input\")\n",
    "                continue\n",
    "\n",
    "        print(\"direction\", last_direction)\n",
    "        print(\"user_input\", user_input)\n",
    "        grille, snake, score = continuing(last_direction,\n",
    "                                          snake,\n",
    "                                          grille,\n",
    "                                          score)\n",
    "        if not grille:\n",
    "            pprint(grille)\n",
    "            print(\"crash: Final Score is {}\".format(score))\n",
    "            return score\n",
    "        last_head = current_head\n",
    "        clear_output()\n",
    "        print(\"Score : {}\".format(score))"
   ]
  },
  {
   "cell_type": "code",
   "execution_count": 7,
   "metadata": {},
   "outputs": [],
   "source": [
    "def initial_snake(high):\n",
    "    # (x, y)\n",
    "    head = (math.ceil((high -1)/2), 3)\n",
    "    \n",
    "    snake = [(head[0], head[1] - 2), (head[0], head[1] - 1), head]\n",
    "    return snake"
   ]
  },
  {
   "cell_type": "code",
   "execution_count": 8,
   "metadata": {},
   "outputs": [],
   "source": [
    "#last_head = (4, 5)\n",
    "#current_head = (5, 5)\n",
    "\n",
    "def define_movement(last_head, current_head):\n",
    "    var_row = last_head[0] - current_head[0]\n",
    "    var_col = last_head[1] - current_head[1]\n",
    "    if (var_row, var_col) == (0, 1):\n",
    "        direction = \"left\"\n",
    "    elif (var_row, var_col) == (0, -1):\n",
    "        direction = \"right\"\n",
    "    elif (var_row, var_col) == (-1, 0):\n",
    "        direction = \"down\"\n",
    "    elif (var_row, var_col) == (+1, 0):\n",
    "        direction = \"up\"\n",
    "    else:\n",
    "        print('problem with directions')\n",
    "    return direction\n",
    "#define_movement(last_head, current_head)"
   ]
  },
  {
   "cell_type": "code",
   "execution_count": 9,
   "metadata": {},
   "outputs": [],
   "source": [
    "def check_input(last_direction, user_input):\n",
    "    if user_input not in [4,5,6,8,9]:\n",
    "        print(\"impossible\")\n",
    "        return 1\n",
    "    \n",
    "    user_input = input_to_dir[user_input]\n",
    "    if last_direction == user_input:\n",
    "        print(\"impossible\")\n",
    "        return 1\n",
    "    elif last_direction == \"left\" and user_input == \"right\":\n",
    "        print(\"impossible\")\n",
    "        return 1\n",
    "    elif last_direction == \"right\" and user_input == \"left\":\n",
    "        print(\"impossible\")\n",
    "        return 1\n",
    "    elif last_direction == \"up\" and user_input == \"down\":\n",
    "        print(\"impossible\")\n",
    "        return 1\n",
    "    elif last_direction == \"down\" and user_input == \"up\":\n",
    "        print(\"impossible\")\n",
    "        return 1\n",
    "    else:\n",
    "        #good input\n",
    "        return 0"
   ]
  },
  {
   "cell_type": "code",
   "execution_count": 10,
   "metadata": {},
   "outputs": [],
   "source": [
    "def continuing(last_direction, snake, grille, score):\n",
    "    # 1: modify grille\n",
    "    # replace value of new head by a 3\n",
    "    # add coords of directions to coord of head to find new head\n",
    "    did_eat = False\n",
    "    new_head = add_tuples(snake[-1] ,  dir_to_coord[last_direction])\n",
    "    if grille.get_coords(new_head) != 0 and grille.get_coords(new_head) != 4:\n",
    "        return None, None, None\n",
    "    # did eat\n",
    "    if grille.get_coords(new_head) == 4:\n",
    "        did_eat = True\n",
    "        \n",
    "    print(snake[-1])\n",
    "    print(new_head)\n",
    "    grille.set_value(new_head, 3) # position new head\n",
    "    grille.set_value(snake[-1], 2) # replace old head with body\n",
    "    \n",
    "    if did_eat:\n",
    "        print(\"eating, generating new food\")\n",
    "        grille = spawn_food(grille, snake)\n",
    "        print(\"implement eating\")\n",
    "    else:\n",
    "        grille.set_value(snake[0], 0) # replace queue of snake by 0\n",
    "    # 2 modify snake\n",
    "    def shift(l, n):\n",
    "        return l[n:] + l[:n] # shift list to left\n",
    "    if did_eat:\n",
    "        queue = snake[0]\n",
    "        snake = [queue] + shift(snake, 1)\n",
    "        snake[-1] = new_head\n",
    "    else:\n",
    "        snake = shift(snake, 1)\n",
    "        snake[-1] = new_head\n",
    "    if did_eat:\n",
    "        score += 10\n",
    "    return grille, snake, score\n",
    "#continuing(snake)"
   ]
  },
  {
   "cell_type": "code",
   "execution_count": 11,
   "metadata": {},
   "outputs": [],
   "source": [
    "\n",
    "dir_to_coord = dict(\n",
    "    right = (0, 1),\n",
    "    left = (0, -1),\n",
    "    up = (-1, 0),\n",
    "    down = (+1, 0)\n",
    ")\n",
    "def add_tuples(a, b):\n",
    "    return tuple((sum(a) for a in zip(a,b)))\n",
    "\n",
    "def find_snake(grille):\n",
    "    snake = {}\n",
    "    snake[\"body\"] = []\n",
    "    for i , rows in enumerate(grille):\n",
    "        for j, value in enumerate(rows):\n",
    "            if value == 3:\n",
    "                snake[\"head\"] = (i, j)\n",
    "            if value == 2:\n",
    "                snake[\"body\"].append((i,j))\n",
    "    return snake\n",
    "\n",
    "def find_head(grille):\n",
    "    return find_snake(grille)['head']\n",
    "\n",
    "#last_head = find_head(grille_intialized)\n",
    "#snake = find_snake(grille_intialized)             \n",
    "\n",
    "def spawn_food(grille, snake):\n",
    "    while True:\n",
    "        sizes = grille.get_size()\n",
    "        r = random.randint(a=1, b= sizes[0] - 2 )\n",
    "        c = random.randint(a=1, b= sizes[1] - 2 )\n",
    "        food_spawn = (r,c)\n",
    "        if food_spawn not in snake:\n",
    "            grille.set_value(food_spawn, 4)\n",
    "            return grille"
   ]
  },
  {
   "cell_type": "code",
   "execution_count": 12,
   "metadata": {},
   "outputs": [],
   "source": [
    "def move():\n",
    "    # 1 find head\n",
    "    # 2 find closest body\n",
    "    user_input = int(input('move'))\n",
    "    return user_input"
   ]
  },
  {
   "cell_type": "code",
   "execution_count": 16,
   "metadata": {},
   "outputs": [],
   "source": [
    "grille_intialized = build_grille(large, high)"
   ]
  },
  {
   "cell_type": "code",
   "execution_count": 22,
   "metadata": {},
   "outputs": [],
   "source": [
    "grille_intialized = initialize_snake(grille_intialized, large, high)\n",
    "find_snake(grille_intialized)"
   ]
  },
  {
   "cell_type": "code",
   "execution_count": 25,
   "metadata": {},
   "outputs": [
    {
     "data": {
      "text/plain": [
       "[(2, 1), (2, 2), (2, 3)]"
      ]
     },
     "execution_count": 25,
     "metadata": {},
     "output_type": "execute_result"
    }
   ],
   "source": [
    "snake = initial_snake(high)\n",
    "snake"
   ]
  },
  {
   "cell_type": "code",
   "execution_count": 26,
   "metadata": {},
   "outputs": [
    {
     "data": {
      "text/plain": [
       "[(2, 1), (2, 2), (2, 3), (3, 4)]"
      ]
     },
     "execution_count": 26,
     "metadata": {},
     "output_type": "execute_result"
    }
   ],
   "source": [
    "def shift(l, n):\n",
    "    return l[n:] + l[:n]\n",
    "new_head = (3, 4)\n",
    "queue = snake[0]\n",
    "n_snake = [queue] + shift(snake, 1)\n",
    "n_snake[-1] = new_head\n",
    "n_snake"
   ]
  },
  {
   "cell_type": "code",
   "execution_count": 27,
   "metadata": {},
   "outputs": [
    {
     "data": {
      "text/plain": [
       "[(3, 2), (3, 3), (3, 3), (3, 4)]"
      ]
     },
     "execution_count": 27,
     "metadata": {},
     "output_type": "execute_result"
    }
   ],
   "source": [
    "[(3, 2), (3, 3), (3, 3), (3 , 4)]"
   ]
  },
  {
   "cell_type": "code",
   "execution_count": 28,
   "metadata": {},
   "outputs": [
    {
     "data": {
      "text/plain": [
       "[(2, 1), (2, 2), (2, 3), (3, 4)]"
      ]
     },
     "execution_count": 28,
     "metadata": {},
     "output_type": "execute_result"
    }
   ],
   "source": [
    "n_snake"
   ]
  },
  {
   "cell_type": "code",
   "execution_count": 33,
   "metadata": {},
   "outputs": [
    {
     "data": {
      "text/plain": [
       "3"
      ]
     },
     "execution_count": 33,
     "metadata": {},
     "output_type": "execute_result"
    }
   ],
   "source": [
    "grille_intialized.get_coords(snake[-1])"
   ]
  },
  {
   "cell_type": "code",
   "execution_count": 34,
   "metadata": {},
   "outputs": [
    {
     "ename": "TypeError",
     "evalue": "continuing() missing 1 required positional argument: 'score'",
     "output_type": "error",
     "traceback": [
      "\u001b[0;31m---------------------------------------------------------------------------\u001b[0m",
      "\u001b[0;31mTypeError\u001b[0m                                 Traceback (most recent call last)",
      "\u001b[0;32m<ipython-input-34-0391e998df7a>\u001b[0m in \u001b[0;36m<module>\u001b[0;34m\u001b[0m\n\u001b[1;32m      1\u001b[0m \u001b[0mlast_direction\u001b[0m \u001b[0;34m=\u001b[0m \u001b[0;34m\"right\"\u001b[0m\u001b[0;34m\u001b[0m\u001b[0;34m\u001b[0m\u001b[0m\n\u001b[0;32m----> 2\u001b[0;31m \u001b[0ma\u001b[0m\u001b[0;34m,\u001b[0m \u001b[0msnake\u001b[0m \u001b[0;34m=\u001b[0m \u001b[0mcontinuing\u001b[0m\u001b[0;34m(\u001b[0m\u001b[0mlast_direction\u001b[0m\u001b[0;34m,\u001b[0m \u001b[0mgrille\u001b[0m\u001b[0;34m=\u001b[0m \u001b[0mgrille_intialized\u001b[0m\u001b[0;34m,\u001b[0m \u001b[0msnake\u001b[0m\u001b[0;34m=\u001b[0m \u001b[0msnake\u001b[0m\u001b[0;34m)\u001b[0m\u001b[0;34m\u001b[0m\u001b[0;34m\u001b[0m\u001b[0m\n\u001b[0m",
      "\u001b[0;31mTypeError\u001b[0m: continuing() missing 1 required positional argument: 'score'"
     ]
    }
   ],
   "source": [
    "last_direction = \"right\"\n",
    "a, snake = continuing(last_direction, grille= grille_intialized, snake= snake)"
   ]
  },
  {
   "cell_type": "code",
   "execution_count": 36,
   "metadata": {},
   "outputs": [
    {
     "name": "stdout",
     "output_type": "stream",
     "text": [
      "[[1, 1, 1, 1, 1, 1, 1, 1, 1, 1, 1, 1],\n",
      " [1, 0, 0, 0, 0, 0, 0, 0, 0, 0, 0, 1],\n",
      " [1, 2, 2, 3, 0, 0, 0, 0, 0, 0, 0, 1],\n",
      " [1, 0, 0, 0, 0, 0, 0, 0, 0, 0, 0, 1],\n",
      " [1, 0, 0, 0, 0, 0, 0, 4, 0, 0, 0, 1],\n",
      " [1, 1, 1, 1, 1, 1, 1, 1, 1, 1, 1, 1]]\n"
     ]
    },
    {
     "ename": "KeyboardInterrupt",
     "evalue": "Interrupted by user",
     "output_type": "error",
     "traceback": [
      "\u001b[0;31m---------------------------------------------------------------------------\u001b[0m",
      "\u001b[0;31mKeyboardInterrupt\u001b[0m                         Traceback (most recent call last)",
      "\u001b[0;32m<ipython-input-36-67795510aaa1>\u001b[0m in \u001b[0;36m<module>\u001b[0;34m\u001b[0m\n\u001b[1;32m      3\u001b[0m \u001b[0;31m#snake = initial_snake(high)\u001b[0m\u001b[0;34m\u001b[0m\u001b[0;34m\u001b[0m\u001b[0;34m\u001b[0m\u001b[0m\n\u001b[1;32m      4\u001b[0m \u001b[0;34m\u001b[0m\u001b[0m\n\u001b[0;32m----> 5\u001b[0;31m \u001b[0mrun\u001b[0m\u001b[0;34m(\u001b[0m\u001b[0mgrille_intialized\u001b[0m\u001b[0;34m)\u001b[0m\u001b[0;34m\u001b[0m\u001b[0;34m\u001b[0m\u001b[0m\n\u001b[0m",
      "\u001b[0;32m<ipython-input-6-f033630a05b9>\u001b[0m in \u001b[0;36mrun\u001b[0;34m(grille_intialized)\u001b[0m\n\u001b[1;32m     19\u001b[0m         \u001b[0mpprint\u001b[0m\u001b[0;34m(\u001b[0m\u001b[0mgrille\u001b[0m\u001b[0;34m)\u001b[0m\u001b[0;34m\u001b[0m\u001b[0;34m\u001b[0m\u001b[0m\n\u001b[1;32m     20\u001b[0m         \u001b[0mcurrent_head\u001b[0m \u001b[0;34m=\u001b[0m \u001b[0mfind_head\u001b[0m\u001b[0;34m(\u001b[0m\u001b[0mgrille\u001b[0m\u001b[0;34m)\u001b[0m\u001b[0;34m\u001b[0m\u001b[0;34m\u001b[0m\u001b[0m\n\u001b[0;32m---> 21\u001b[0;31m         \u001b[0muser_input\u001b[0m \u001b[0;34m=\u001b[0m \u001b[0mmove\u001b[0m\u001b[0;34m(\u001b[0m\u001b[0;34m)\u001b[0m\u001b[0;34m\u001b[0m\u001b[0;34m\u001b[0m\u001b[0m\n\u001b[0m\u001b[1;32m     22\u001b[0m         \u001b[0mlast_direction\u001b[0m \u001b[0;34m=\u001b[0m \u001b[0mdefine_movement\u001b[0m\u001b[0;34m(\u001b[0m\u001b[0mlast_head\u001b[0m\u001b[0;34m,\u001b[0m \u001b[0mcurrent_head\u001b[0m\u001b[0;34m)\u001b[0m\u001b[0;34m\u001b[0m\u001b[0;34m\u001b[0m\u001b[0m\n\u001b[1;32m     23\u001b[0m         \u001b[0mprint\u001b[0m\u001b[0;34m(\u001b[0m\u001b[0;34m\"last_direction\"\u001b[0m\u001b[0;34m,\u001b[0m \u001b[0mlast_direction\u001b[0m\u001b[0;34m)\u001b[0m\u001b[0;34m\u001b[0m\u001b[0;34m\u001b[0m\u001b[0m\n",
      "\u001b[0;32m<ipython-input-12-54cde1207b0b>\u001b[0m in \u001b[0;36mmove\u001b[0;34m()\u001b[0m\n\u001b[1;32m      2\u001b[0m     \u001b[0;31m# 1 find head\u001b[0m\u001b[0;34m\u001b[0m\u001b[0;34m\u001b[0m\u001b[0;34m\u001b[0m\u001b[0m\n\u001b[1;32m      3\u001b[0m     \u001b[0;31m# 2 find closest body\u001b[0m\u001b[0;34m\u001b[0m\u001b[0;34m\u001b[0m\u001b[0;34m\u001b[0m\u001b[0m\n\u001b[0;32m----> 4\u001b[0;31m     \u001b[0muser_input\u001b[0m \u001b[0;34m=\u001b[0m \u001b[0mint\u001b[0m\u001b[0;34m(\u001b[0m\u001b[0minput\u001b[0m\u001b[0;34m(\u001b[0m\u001b[0;34m'move'\u001b[0m\u001b[0;34m)\u001b[0m\u001b[0;34m)\u001b[0m\u001b[0;34m\u001b[0m\u001b[0;34m\u001b[0m\u001b[0m\n\u001b[0m\u001b[1;32m      5\u001b[0m     \u001b[0;32mreturn\u001b[0m \u001b[0muser_input\u001b[0m\u001b[0;34m\u001b[0m\u001b[0;34m\u001b[0m\u001b[0m\n",
      "\u001b[0;32m~/.local/lib/python3.8/site-packages/ipykernel/kernelbase.py\u001b[0m in \u001b[0;36mraw_input\u001b[0;34m(self, prompt)\u001b[0m\n\u001b[1;32m    855\u001b[0m                 \u001b[0;34m\"raw_input was called, but this frontend does not support input requests.\"\u001b[0m\u001b[0;34m\u001b[0m\u001b[0;34m\u001b[0m\u001b[0m\n\u001b[1;32m    856\u001b[0m             )\n\u001b[0;32m--> 857\u001b[0;31m         return self._input_request(str(prompt),\n\u001b[0m\u001b[1;32m    858\u001b[0m             \u001b[0mself\u001b[0m\u001b[0;34m.\u001b[0m\u001b[0m_parent_ident\u001b[0m\u001b[0;34m,\u001b[0m\u001b[0;34m\u001b[0m\u001b[0;34m\u001b[0m\u001b[0m\n\u001b[1;32m    859\u001b[0m             \u001b[0mself\u001b[0m\u001b[0;34m.\u001b[0m\u001b[0m_parent_header\u001b[0m\u001b[0;34m,\u001b[0m\u001b[0;34m\u001b[0m\u001b[0;34m\u001b[0m\u001b[0m\n",
      "\u001b[0;32m~/.local/lib/python3.8/site-packages/ipykernel/kernelbase.py\u001b[0m in \u001b[0;36m_input_request\u001b[0;34m(self, prompt, ident, parent, password)\u001b[0m\n\u001b[1;32m    899\u001b[0m             \u001b[0;32mexcept\u001b[0m \u001b[0mKeyboardInterrupt\u001b[0m\u001b[0;34m:\u001b[0m\u001b[0;34m\u001b[0m\u001b[0;34m\u001b[0m\u001b[0m\n\u001b[1;32m    900\u001b[0m                 \u001b[0;31m# re-raise KeyboardInterrupt, to truncate traceback\u001b[0m\u001b[0;34m\u001b[0m\u001b[0;34m\u001b[0m\u001b[0;34m\u001b[0m\u001b[0m\n\u001b[0;32m--> 901\u001b[0;31m                 \u001b[0;32mraise\u001b[0m \u001b[0mKeyboardInterrupt\u001b[0m\u001b[0;34m(\u001b[0m\u001b[0;34m\"Interrupted by user\"\u001b[0m\u001b[0;34m)\u001b[0m \u001b[0;32mfrom\u001b[0m \u001b[0;32mNone\u001b[0m\u001b[0;34m\u001b[0m\u001b[0;34m\u001b[0m\u001b[0m\n\u001b[0m\u001b[1;32m    902\u001b[0m             \u001b[0;32mexcept\u001b[0m \u001b[0mException\u001b[0m \u001b[0;32mas\u001b[0m \u001b[0me\u001b[0m\u001b[0;34m:\u001b[0m\u001b[0;34m\u001b[0m\u001b[0;34m\u001b[0m\u001b[0m\n\u001b[1;32m    903\u001b[0m                 \u001b[0mself\u001b[0m\u001b[0;34m.\u001b[0m\u001b[0mlog\u001b[0m\u001b[0;34m.\u001b[0m\u001b[0mwarning\u001b[0m\u001b[0;34m(\u001b[0m\u001b[0;34m\"Invalid Message:\"\u001b[0m\u001b[0;34m,\u001b[0m \u001b[0mexc_info\u001b[0m\u001b[0;34m=\u001b[0m\u001b[0;32mTrue\u001b[0m\u001b[0;34m)\u001b[0m\u001b[0;34m\u001b[0m\u001b[0;34m\u001b[0m\u001b[0m\n",
      "\u001b[0;31mKeyboardInterrupt\u001b[0m: Interrupted by user"
     ]
    }
   ],
   "source": [
    "grille = build_grille(large, high)\n",
    "grille_intialized = initialize_snake(grille, large, high)\n",
    "#snake = initial_snake(high)\n",
    "\n",
    "run(grille_intialized)"
   ]
  },
  {
   "cell_type": "code",
   "execution_count": 1,
   "metadata": {},
   "outputs": [],
   "source": [
    "import pygame"
   ]
  },
  {
   "cell_type": "markdown",
   "metadata": {},
   "source": [
    "## Next steps\n",
    "- 1: make it object\n",
    "- 1: test that snake is same on the grille and snake coords.\n",
    "- 2: try to make it real time\n",
    "- 3: write a bot interface\n",
    "- 4: write wall less version  "
   ]
  },
  {
   "cell_type": "code",
   "execution_count": null,
   "metadata": {
    "collapsed": true
   },
   "outputs": [],
   "source": [
    "### write stupid bot"
   ]
  }
 ],
 "metadata": {
  "anaconda-cloud": {},
  "kernelspec": {
   "display_name": "Python 3",
   "language": "python",
   "name": "python3"
  },
  "language_info": {
   "codemirror_mode": {
    "name": "ipython",
    "version": 3
   },
   "file_extension": ".py",
   "mimetype": "text/x-python",
   "name": "python",
   "nbconvert_exporter": "python",
   "pygments_lexer": "ipython3",
   "version": "3.8.5"
  }
 },
 "nbformat": 4,
 "nbformat_minor": 1
}
