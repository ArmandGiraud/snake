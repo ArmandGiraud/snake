{
 "cells": [
  {
   "cell_type": "code",
   "execution_count": 70,
   "metadata": {
    "collapsed": false
   },
   "outputs": [
    {
     "name": "stdout",
     "output_type": "stream",
     "text": [
      "The autoreload extension is already loaded. To reload it, use:\n",
      "  %reload_ext autoreload\n"
     ]
    }
   ],
   "source": [
    "%load_ext autoreload\n",
    "%autoreload 2\n",
    "\n",
    "from utils import Snake\n",
    "import random"
   ]
  },
  {
   "cell_type": "markdown",
   "metadata": {},
   "source": [
    "### player mode"
   ]
  },
  {
   "cell_type": "code",
   "execution_count": 109,
   "metadata": {
    "collapsed": false
   },
   "outputs": [
    {
     "name": "stdout",
     "output_type": "stream",
     "text": [
      "Score : 0\n",
      "[[1, 1, 1, 1, 1, 1, 1, 1, 1, 1],\n",
      " [1, 0, 0, 0, 0, 0, 0, 0, 0, 1],\n",
      " [1, 0, 0, 0, 0, 0, 0, 0, 0, 1],\n",
      " [1, 0, 0, 0, 0, 0, 2, 2, 3, 1],\n",
      " [1, 0, 0, 0, 0, 0, 0, 0, 4, 1],\n",
      " [1, 0, 0, 0, 0, 0, 0, 0, 0, 1],\n",
      " [1, 0, 0, 0, 0, 0, 0, 0, 0, 1],\n",
      " [1, 1, 1, 1, 1, 1, 1, 1, 1, 1]]\n",
      "Move:62\n",
      "last_direction right\n",
      "impossible\n",
      "direction right\n",
      "user_input continue\n",
      "None\n",
      "crash: Final Score is 0\n"
     ]
    },
    {
     "data": {
      "text/plain": [
       "0"
      ]
     },
     "execution_count": 109,
     "metadata": {},
     "output_type": "execute_result"
    }
   ],
   "source": [
    "from utils import Snake\n",
    "sizes = (8, 6)\n",
    "sn = Snake(sizes)\n",
    "sn.play()"
   ]
  },
  {
   "cell_type": "markdown",
   "metadata": {},
   "source": [
    "### Stupid Bot"
   ]
  },
  {
   "cell_type": "code",
   "execution_count": 110,
   "metadata": {
    "collapsed": true
   },
   "outputs": [],
   "source": [
    "class StupidBot():\n",
    "    def __init__(self):\n",
    "        pass\n",
    "    def compute(snake = None, grille = None):\n",
    "        rand = random.randint(1, 4)\n",
    "        rand_to_input = {\n",
    "                    1 : 6, #right\n",
    "                    2 : 4,\n",
    "                    3 : 8,\n",
    "                    4 : 5\n",
    "\n",
    "                }\n",
    "        return rand_to_input[rand]"
   ]
  },
  {
   "cell_type": "code",
   "execution_count": 111,
   "metadata": {
    "collapsed": true
   },
   "outputs": [],
   "source": [
    "sbot = StupidBot()"
   ]
  },
  {
   "cell_type": "code",
   "execution_count": 121,
   "metadata": {
    "collapsed": false
   },
   "outputs": [],
   "source": [
    "from utils import Snake\n",
    "sizes = (8, 6)\n",
    "sn = Snake(sizes, sbot)"
   ]
  },
  {
   "cell_type": "code",
   "execution_count": 122,
   "metadata": {
    "collapsed": false
   },
   "outputs": [
    {
     "name": "stdout",
     "output_type": "stream",
     "text": [
      "Score : 0\n",
      "[[1, 1, 1, 1, 1, 1, 1, 1, 1, 1],\n",
      " [1, 0, 0, 0, 0, 0, 4, 0, 0, 1],\n",
      " [1, 0, 0, 0, 0, 0, 0, 0, 0, 1],\n",
      " [1, 0, 0, 0, 0, 0, 0, 0, 0, 1],\n",
      " [1, 0, 0, 0, 0, 2, 0, 0, 0, 1],\n",
      " [1, 0, 0, 0, 0, 2, 0, 0, 0, 1],\n",
      " [1, 0, 0, 0, 0, 3, 0, 0, 0, 1],\n",
      " [1, 1, 1, 1, 1, 1, 1, 1, 1, 1]]\n",
      "last_direction down\n",
      "impossible\n",
      "direction down\n",
      "user_input continue\n",
      "None\n",
      "crash: Final Score is 0\n"
     ]
    }
   ],
   "source": [
    "score = sn.play()"
   ]
  },
  {
   "cell_type": "markdown",
   "metadata": {},
   "source": [
    "### Simulate average score for 1000 games of stupid bot"
   ]
  },
  {
   "cell_type": "code",
   "execution_count": 128,
   "metadata": {
    "collapsed": false
   },
   "outputs": [
    {
     "name": "stdout",
     "output_type": "stream",
     "text": [
      "Score : 0\n",
      "[[1, 1, 1, 1, 1, 1, 1, 1, 1, 1],\n",
      " [1, 0, 0, 0, 0, 0, 0, 0, 0, 1],\n",
      " [1, 0, 0, 0, 0, 0, 0, 0, 0, 1],\n",
      " [1, 0, 0, 0, 0, 0, 0, 0, 0, 1],\n",
      " [1, 3, 0, 0, 0, 0, 0, 0, 0, 1],\n",
      " [1, 2, 2, 0, 0, 0, 0, 0, 0, 1],\n",
      " [1, 0, 0, 4, 0, 0, 0, 0, 0, 1],\n",
      " [1, 1, 1, 1, 1, 1, 1, 1, 1, 1]]\n",
      "last_direction up\n",
      "direction left\n",
      "user_input 4\n",
      "None\n",
      "crash: Final Score is 0\n"
     ]
    }
   ],
   "source": [
    "scores = []\n",
    "for i in range(10):\n",
    "    sizes = (8, 6)\n",
    "    sn = Snake(sizes, sbot)\n",
    "    scores.append(sn.play())"
   ]
  },
  {
   "cell_type": "code",
   "execution_count": 129,
   "metadata": {
    "collapsed": false
   },
   "outputs": [
    {
     "data": {
      "text/plain": [
       "[0, 10, 0, 0, 0, 0, 0, 0, 10, 0]"
      ]
     },
     "execution_count": 129,
     "metadata": {},
     "output_type": "execute_result"
    }
   ],
   "source": [
    "scores"
   ]
  },
  {
   "cell_type": "code",
   "execution_count": 130,
   "metadata": {
    "collapsed": false
   },
   "outputs": [
    {
     "data": {
      "text/plain": [
       "2.0"
      ]
     },
     "execution_count": 130,
     "metadata": {},
     "output_type": "execute_result"
    }
   ],
   "source": [
    "import numpy as np\n",
    "np.mean(scores)"
   ]
  },
  {
   "cell_type": "code",
   "execution_count": null,
   "metadata": {
    "collapsed": true
   },
   "outputs": [],
   "source": []
  }
 ],
 "metadata": {
  "anaconda-cloud": {},
  "kernelspec": {
   "display_name": "Python [conda root]",
   "language": "python",
   "name": "conda-root-py"
  },
  "language_info": {
   "codemirror_mode": {
    "name": "ipython",
    "version": 3
   },
   "file_extension": ".py",
   "mimetype": "text/x-python",
   "name": "python",
   "nbconvert_exporter": "python",
   "pygments_lexer": "ipython3",
   "version": "3.5.2"
  }
 },
 "nbformat": 4,
 "nbformat_minor": 1
}
