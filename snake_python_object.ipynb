{
 "cells": [
  {
   "cell_type": "code",
   "execution_count": 1,
   "metadata": {
    "collapsed": false
   },
   "outputs": [],
   "source": [
    "%load_ext autoreload\n",
    "%autoreload 2\n",
    "\n",
    "from utils import Snake\n",
    "import random"
   ]
  },
  {
   "cell_type": "code",
   "execution_count": 2,
   "metadata": {
    "collapsed": false
   },
   "outputs": [
    {
     "ename": "SyntaxError",
     "evalue": "invalid syntax (<ipython-input-2-0cfa672a3176>, line 2)",
     "output_type": "error",
     "traceback": [
      "\u001b[0;36m  File \u001b[0;32m\"<ipython-input-2-0cfa672a3176>\"\u001b[0;36m, line \u001b[0;32m2\u001b[0m\n\u001b[0;31m    write q_learning bot\u001b[0m\n\u001b[0m                   ^\u001b[0m\n\u001b[0;31mSyntaxError\u001b[0m\u001b[0;31m:\u001b[0m invalid syntax\n"
     ]
    }
   ],
   "source": [
    "# to do\n",
    "write q_learning bot"
   ]
  },
  {
   "cell_type": "markdown",
   "metadata": {},
   "source": [
    "### player mode"
   ]
  },
  {
   "cell_type": "code",
   "execution_count": 3,
   "metadata": {
    "collapsed": false
   },
   "outputs": [
    {
     "data": {
      "text/plain": [
       "<generator object Snake.play at 0x000001F20EE87E60>"
      ]
     },
     "execution_count": 3,
     "metadata": {},
     "output_type": "execute_result"
    }
   ],
   "source": [
    "from utils import Snake\n",
    "sizes = (8, 6)\n",
    "sn = Snake(sizes)\n",
    "sn.play()"
   ]
  },
  {
   "cell_type": "code",
   "execution_count": 65,
   "metadata": {
    "collapsed": false
   },
   "outputs": [
    {
     "data": {
      "text/plain": [
       "[[1, 1, 1, 1, 1, 1, 1, 1, 1, 1],\n",
       " [1, 0, 0, 0, 0, 0, 0, 0, 0, 1],\n",
       " [1, 0, 0, 0, 0, 0, 0, 0, 0, 1],\n",
       " [1, 2, 2, 3, 0, 0, 0, 0, 0, 1],\n",
       " [1, 0, 0, 0, 0, 0, 0, 0, 0, 1],\n",
       " [1, 0, 0, 0, 0, 0, 0, 0, 0, 1],\n",
       " [1, 0, 0, 0, 0, 0, 0, 0, 0, 1],\n",
       " [1, 1, 1, 1, 1, 1, 1, 1, 1, 1]]"
      ]
     },
     "execution_count": 65,
     "metadata": {},
     "output_type": "execute_result"
    }
   ],
   "source": [
    "sn.reset()"
   ]
  },
  {
   "cell_type": "markdown",
   "metadata": {},
   "source": [
    "### Stupid Bot"
   ]
  },
  {
   "cell_type": "code",
   "execution_count": 3,
   "metadata": {
    "collapsed": true
   },
   "outputs": [],
   "source": [
    "class StupidBot():\n",
    "    def __init__(self):\n",
    "        pass\n",
    "    def compute(snake = None, grille = None):\n",
    "        rand = random.randint(1, 4)\n",
    "        rand_to_input = {\n",
    "                    1 : 6, #right\n",
    "                    2 : 4,\n",
    "                    3 : 8,\n",
    "                    4 : 5\n",
    "\n",
    "                }\n",
    "        return rand_to_input[rand]"
   ]
  },
  {
   "cell_type": "code",
   "execution_count": 6,
   "metadata": {
    "collapsed": true
   },
   "outputs": [],
   "source": [
    "sbot = StupidBot()"
   ]
  },
  {
   "cell_type": "code",
   "execution_count": 121,
   "metadata": {
    "collapsed": false
   },
   "outputs": [],
   "source": [
    "from utils import Snake\n",
    "sizes = (8, 6)\n",
    "sn = Snake(sizes, sbot)"
   ]
  },
  {
   "cell_type": "code",
   "execution_count": 122,
   "metadata": {
    "collapsed": false
   },
   "outputs": [
    {
     "name": "stdout",
     "output_type": "stream",
     "text": [
      "Score : 0\n",
      "[[1, 1, 1, 1, 1, 1, 1, 1, 1, 1],\n",
      " [1, 0, 0, 0, 0, 0, 4, 0, 0, 1],\n",
      " [1, 0, 0, 0, 0, 0, 0, 0, 0, 1],\n",
      " [1, 0, 0, 0, 0, 0, 0, 0, 0, 1],\n",
      " [1, 0, 0, 0, 0, 2, 0, 0, 0, 1],\n",
      " [1, 0, 0, 0, 0, 2, 0, 0, 0, 1],\n",
      " [1, 0, 0, 0, 0, 3, 0, 0, 0, 1],\n",
      " [1, 1, 1, 1, 1, 1, 1, 1, 1, 1]]\n",
      "last_direction down\n",
      "impossible\n",
      "direction down\n",
      "user_input continue\n",
      "None\n",
      "crash: Final Score is 0\n"
     ]
    }
   ],
   "source": [
    "score = sn.play()"
   ]
  },
  {
   "cell_type": "markdown",
   "metadata": {},
   "source": [
    "### Simulate average score for 1000 games of stupid bot"
   ]
  },
  {
   "cell_type": "code",
   "execution_count": 30,
   "metadata": {
    "collapsed": false
   },
   "outputs": [
    {
     "name": "stdout",
     "output_type": "stream",
     "text": [
      "Score : 0\n",
      "[[1, 1, 1, 1, 1, 1, 1, 1, 1, 1],\n",
      " [1, 0, 0, 0, 0, 0, 0, 0, 0, 1],\n",
      " [1, 0, 0, 0, 0, 0, 0, 0, 0, 1],\n",
      " [1, 0, 0, 0, 0, 0, 0, 0, 0, 1],\n",
      " [1, 3, 2, 2, 0, 0, 0, 0, 0, 1],\n",
      " [1, 0, 0, 0, 4, 0, 0, 0, 0, 1],\n",
      " [1, 0, 0, 0, 0, 0, 0, 0, 0, 1],\n",
      " [1, 1, 1, 1, 1, 1, 1, 1, 1, 1]]\n",
      "last_direction left\n",
      "impossible\n",
      "direction left\n",
      "user_input continue\n",
      "None\n",
      "crash: Final Score is 0\n"
     ]
    }
   ],
   "source": [
    "histories = []\n",
    "scores = []\n",
    "for i in range(1000):\n",
    "    sizes = (8, 6)\n",
    "    sn = Snake(sizes, sbot)\n",
    "    score, history = sn.play()\n",
    "    scores.append(score)\n",
    "    histories.append(history)"
   ]
  },
  {
   "cell_type": "markdown",
   "metadata": {},
   "source": [
    "fix error for one thousand "
   ]
  },
  {
   "cell_type": "code",
   "execution_count": 31,
   "metadata": {
    "collapsed": false
   },
   "outputs": [
    {
     "data": {
      "text/plain": [
       "1.66"
      ]
     },
     "execution_count": 31,
     "metadata": {},
     "output_type": "execute_result"
    }
   ],
   "source": [
    "import numpy as np\n",
    "np.mean(scores)"
   ]
  },
  {
   "cell_type": "code",
   "execution_count": 15,
   "metadata": {
    "collapsed": false
   },
   "outputs": [
    {
     "data": {
      "text/plain": [
       "[392, 539, 585, 943]"
      ]
     },
     "execution_count": 15,
     "metadata": {},
     "output_type": "execute_result"
    }
   ],
   "source": [
    "[i for i,s in enumerate(scores) if s ==\"score\"]"
   ]
  },
  {
   "cell_type": "code",
   "execution_count": 18,
   "metadata": {
    "collapsed": false
   },
   "outputs": [
    {
     "data": {
      "text/plain": [
       "{'grille': [[[1, 1, 1, 1, 1, 1, 1, 1, 1, 1],\n",
       "   [1, 0, 0, 0, 0, 0, 0, 0, 0, 1],\n",
       "   [1, 0, 0, 0, 0, 0, 0, 0, 0, 1],\n",
       "   [1, 2, 2, 3, 0, 0, 0, 0, 0, 1],\n",
       "   [1, 0, 0, 0, 0, 0, 0, 0, 0, 1],\n",
       "   [1, 0, 0, 0, 0, 0, 0, 0, 0, 1],\n",
       "   [1, 0, 0, 0, 4, 0, 0, 0, 0, 1],\n",
       "   [1, 1, 1, 1, 1, 1, 1, 1, 1, 1]],\n",
       "  [[1, 1, 1, 1, 1, 1, 1, 1, 1, 1],\n",
       "   [1, 0, 0, 0, 0, 0, 0, 0, 0, 1],\n",
       "   [1, 0, 0, 0, 0, 0, 0, 0, 0, 1],\n",
       "   [1, 0, 2, 2, 3, 0, 0, 0, 0, 1],\n",
       "   [1, 0, 0, 0, 0, 0, 0, 0, 0, 1],\n",
       "   [1, 0, 0, 0, 0, 0, 0, 0, 0, 1],\n",
       "   [1, 0, 0, 0, 4, 0, 0, 0, 0, 1],\n",
       "   [1, 1, 1, 1, 1, 1, 1, 1, 1, 1]],\n",
       "  [[1, 1, 1, 1, 1, 1, 1, 1, 1, 1],\n",
       "   [1, 0, 0, 0, 0, 0, 0, 0, 0, 1],\n",
       "   [1, 0, 0, 0, 0, 0, 0, 0, 0, 1],\n",
       "   [1, 0, 0, 2, 2, 0, 0, 0, 0, 1],\n",
       "   [1, 0, 0, 0, 3, 0, 0, 0, 0, 1],\n",
       "   [1, 0, 0, 0, 0, 0, 0, 0, 0, 1],\n",
       "   [1, 0, 0, 0, 4, 0, 0, 0, 0, 1],\n",
       "   [1, 1, 1, 1, 1, 1, 1, 1, 1, 1]],\n",
       "  [[1, 1, 1, 1, 1, 1, 1, 1, 1, 1],\n",
       "   [1, 0, 0, 0, 0, 0, 0, 0, 0, 1],\n",
       "   [1, 0, 0, 0, 0, 0, 0, 0, 0, 1],\n",
       "   [1, 0, 0, 0, 2, 0, 0, 0, 0, 1],\n",
       "   [1, 0, 0, 0, 2, 0, 0, 0, 0, 1],\n",
       "   [1, 0, 0, 0, 3, 0, 0, 0, 0, 1],\n",
       "   [1, 0, 0, 0, 4, 0, 0, 0, 0, 1],\n",
       "   [1, 1, 1, 1, 1, 1, 1, 1, 1, 1]],\n",
       "  [[1, 1, 1, 1, 1, 1, 1, 1, 1, 1],\n",
       "   [1, 0, 0, 0, 0, 0, 0, 0, 0, 1],\n",
       "   [1, 0, 0, 0, 0, 0, 0, 0, 0, 1],\n",
       "   [1, 0, 0, 0, 2, 0, 0, 0, 0, 1],\n",
       "   [1, 0, 0, 0, 2, 0, 0, 0, 0, 1],\n",
       "   [1, 0, 0, 0, 2, 0, 0, 0, 0, 1],\n",
       "   [1, 0, 0, 0, 4, 0, 0, 0, 0, 1],\n",
       "   [1, 1, 1, 1, 1, 1, 1, 1, 1, 1]]],\n",
       " 'snake': [[(3, 1), (3, 2), (3, 3)],\n",
       "  [(3, 2), (3, 3), (3, 4)],\n",
       "  [(3, 3), (3, 4), (4, 4)],\n",
       "  [(3, 4), (4, 4), (5, 4)],\n",
       "  [(3, 4), (4, 4), (5, 4), (6, 4)]]}"
      ]
     },
     "execution_count": 18,
     "metadata": {},
     "output_type": "execute_result"
    }
   ],
   "source": [
    "histories[585]"
   ]
  },
  {
   "cell_type": "code",
   "execution_count": 11,
   "metadata": {
    "collapsed": false
   },
   "outputs": [],
   "source": [
    "sbot = StupidBot()\n",
    "sizes = (8, 6)\n",
    "sn = Snake(sizes, sbot)"
   ]
  },
  {
   "cell_type": "code",
   "execution_count": 12,
   "metadata": {
    "collapsed": false
   },
   "outputs": [
    {
     "name": "stdout",
     "output_type": "stream",
     "text": [
      "Score : 0\n",
      "[[1, 1, 1, 1, 1, 1, 1, 1, 1, 1],\n",
      " [1, 0, 0, 0, 0, 0, 0, 0, 0, 1],\n",
      " [1, 0, 0, 0, 0, 0, 0, 0, 0, 1],\n",
      " [1, 0, 0, 0, 0, 0, 0, 0, 0, 1],\n",
      " [1, 0, 0, 0, 2, 0, 0, 0, 0, 1],\n",
      " [1, 4, 0, 0, 2, 0, 0, 0, 0, 1],\n",
      " [1, 0, 0, 0, 3, 0, 0, 0, 0, 1],\n",
      " [1, 1, 1, 1, 1, 1, 1, 1, 1, 1]]\n",
      "last_direction down\n",
      "impossible\n",
      "direction down\n",
      "user_input continue\n",
      "None\n",
      "crash: Final Score is 0\n"
     ]
    },
    {
     "data": {
      "text/plain": [
       "(0,\n",
       " {'grille': [[[1, 1, 1, 1, 1, 1, 1, 1, 1, 1],\n",
       "    [1, 0, 0, 0, 0, 0, 0, 0, 0, 1],\n",
       "    [1, 0, 0, 0, 0, 0, 0, 0, 0, 1],\n",
       "    [1, 2, 2, 3, 0, 0, 0, 0, 0, 1],\n",
       "    [1, 0, 0, 0, 0, 0, 0, 0, 0, 1],\n",
       "    [1, 4, 0, 0, 0, 0, 0, 0, 0, 1],\n",
       "    [1, 0, 0, 0, 0, 0, 0, 0, 0, 1],\n",
       "    [1, 1, 1, 1, 1, 1, 1, 1, 1, 1]],\n",
       "   [[1, 1, 1, 1, 1, 1, 1, 1, 1, 1],\n",
       "    [1, 0, 0, 0, 0, 0, 0, 0, 0, 1],\n",
       "    [1, 0, 0, 0, 0, 0, 0, 0, 0, 1],\n",
       "    [1, 0, 2, 2, 3, 0, 0, 0, 0, 1],\n",
       "    [1, 0, 0, 0, 0, 0, 0, 0, 0, 1],\n",
       "    [1, 4, 0, 0, 0, 0, 0, 0, 0, 1],\n",
       "    [1, 0, 0, 0, 0, 0, 0, 0, 0, 1],\n",
       "    [1, 1, 1, 1, 1, 1, 1, 1, 1, 1]],\n",
       "   [[1, 1, 1, 1, 1, 1, 1, 1, 1, 1],\n",
       "    [1, 0, 0, 0, 0, 0, 0, 0, 0, 1],\n",
       "    [1, 0, 0, 0, 0, 0, 0, 0, 0, 1],\n",
       "    [1, 0, 0, 2, 2, 0, 0, 0, 0, 1],\n",
       "    [1, 0, 0, 0, 3, 0, 0, 0, 0, 1],\n",
       "    [1, 4, 0, 0, 0, 0, 0, 0, 0, 1],\n",
       "    [1, 0, 0, 0, 0, 0, 0, 0, 0, 1],\n",
       "    [1, 1, 1, 1, 1, 1, 1, 1, 1, 1]],\n",
       "   [[1, 1, 1, 1, 1, 1, 1, 1, 1, 1],\n",
       "    [1, 0, 0, 0, 0, 0, 0, 0, 0, 1],\n",
       "    [1, 0, 0, 0, 0, 0, 0, 0, 0, 1],\n",
       "    [1, 0, 0, 0, 2, 0, 0, 0, 0, 1],\n",
       "    [1, 0, 0, 0, 2, 0, 0, 0, 0, 1],\n",
       "    [1, 4, 0, 0, 3, 0, 0, 0, 0, 1],\n",
       "    [1, 0, 0, 0, 0, 0, 0, 0, 0, 1],\n",
       "    [1, 1, 1, 1, 1, 1, 1, 1, 1, 1]],\n",
       "   [[1, 1, 1, 1, 1, 1, 1, 1, 1, 1],\n",
       "    [1, 0, 0, 0, 0, 0, 0, 0, 0, 1],\n",
       "    [1, 0, 0, 0, 0, 0, 0, 0, 0, 1],\n",
       "    [1, 0, 0, 0, 0, 0, 0, 0, 0, 1],\n",
       "    [1, 0, 0, 0, 2, 0, 0, 0, 0, 1],\n",
       "    [1, 4, 0, 0, 2, 0, 0, 0, 0, 1],\n",
       "    [1, 0, 0, 0, 3, 0, 0, 0, 0, 1],\n",
       "    [1, 1, 1, 1, 1, 1, 1, 1, 1, 1]]],\n",
       "  'snake': [[(3, 1), (3, 2), (3, 3)],\n",
       "   [(3, 2), (3, 3), (3, 4)],\n",
       "   [(3, 3), (3, 4), (4, 4)],\n",
       "   [(3, 4), (4, 4), (5, 4)],\n",
       "   [(4, 4), (5, 4), (6, 4)]]})"
      ]
     },
     "execution_count": 12,
     "metadata": {},
     "output_type": "execute_result"
    }
   ],
   "source": [
    "sn.play()"
   ]
  },
  {
   "cell_type": "code",
   "execution_count": 174,
   "metadata": {
    "collapsed": true
   },
   "outputs": [],
   "source": [
    "a = [1,2,3]\n",
    "b = copy(a)\n",
    "a.append(1)"
   ]
  },
  {
   "cell_type": "code",
   "execution_count": 181,
   "metadata": {
    "collapsed": false
   },
   "outputs": [
    {
     "data": {
      "text/plain": [
       "[1, 2, 3]"
      ]
     },
     "execution_count": 181,
     "metadata": {},
     "output_type": "execute_result"
    }
   ],
   "source": [
    "b"
   ]
  },
  {
   "cell_type": "code",
   "execution_count": 169,
   "metadata": {
    "collapsed": false
   },
   "outputs": [
    {
     "name": "stdout",
     "output_type": "stream",
     "text": [
      "Le fichier sp‚cifi‚ est introuvable.\n"
     ]
    }
   ],
   "source": [
    "copy(a)"
   ]
  },
  {
   "cell_type": "code",
   "execution_count": 170,
   "metadata": {
    "collapsed": true
   },
   "outputs": [],
   "source": [
    "from copy import copy"
   ]
  },
  {
   "cell_type": "code",
   "execution_count": 36,
   "metadata": {
    "collapsed": false
   },
   "outputs": [],
   "source": [
    "a = histories[2][\"grille\"][0]"
   ]
  },
  {
   "cell_type": "code",
   "execution_count": 43,
   "metadata": {
    "collapsed": false
   },
   "outputs": [
    {
     "name": "stdout",
     "output_type": "stream",
     "text": [
      "array([[ 0.        ,  0.70710678,  0.70710678,  0.37796447,  1.73205081,\n",
      "         1.73205081,  1.73205081,  0.19245009,  1.73205081,  0.        ],\n",
      "       [ 0.        , -0.70710678, -0.70710678, -0.62994079, -0.57735027,\n",
      "        -0.57735027, -0.57735027,  2.50185117, -0.57735027,  0.        ],\n",
      "       [ 0.        , -0.70710678, -0.70710678, -0.62994079, -0.57735027,\n",
      "        -0.57735027, -0.57735027, -0.57735027, -0.57735027,  0.        ],\n",
      "       [ 0.        ,  2.12132034,  2.12132034,  2.393775  , -0.57735027,\n",
      "        -0.57735027, -0.57735027, -0.57735027, -0.57735027,  0.        ],\n",
      "       [ 0.        , -0.70710678, -0.70710678, -0.62994079, -0.57735027,\n",
      "        -0.57735027, -0.57735027, -0.57735027, -0.57735027,  0.        ],\n",
      "       [ 0.        , -0.70710678, -0.70710678, -0.62994079, -0.57735027,\n",
      "        -0.57735027, -0.57735027, -0.57735027, -0.57735027,  0.        ],\n",
      "       [ 0.        , -0.70710678, -0.70710678, -0.62994079, -0.57735027,\n",
      "        -0.57735027, -0.57735027, -0.57735027, -0.57735027,  0.        ],\n",
      "       [ 0.        ,  0.70710678,  0.70710678,  0.37796447,  1.73205081,\n",
      "         1.73205081,  1.73205081,  0.19245009,  1.73205081,  0.        ]])\n"
     ]
    },
    {
     "name": "stderr",
     "output_type": "stream",
     "text": [
      "C:\\Users\\arman\\Anaconda3\\lib\\site-packages\\sklearn\\utils\\validation.py:475: DataConversionWarning: Data with input dtype int32 was converted to float64 by the scale function.\n",
      "  warnings.warn(msg, DataConversionWarning)\n"
     ]
    }
   ],
   "source": [
    "from sklearn.preprocessing import scale\n",
    "import pprint\n",
    "pprint.pprint(scale(np.matrix(a)))"
   ]
  },
  {
   "cell_type": "code",
   "execution_count": 45,
   "metadata": {
    "collapsed": false
   },
   "outputs": [],
   "source": [
    "b = histories[2][\"grille\"][1]"
   ]
  },
  {
   "cell_type": "code",
   "execution_count": 48,
   "metadata": {
    "collapsed": false
   },
   "outputs": [
    {
     "data": {
      "text/plain": [
       "matrix([[ 0,  0,  0,  0,  0,  0,  0,  0,  0,  0],\n",
       "        [ 0,  0,  0,  0,  0,  0,  0,  0,  0,  0],\n",
       "        [ 0,  0,  0,  0,  0,  0,  0,  0,  0,  0],\n",
       "        [ 0, -2,  0, -1,  3,  0,  0,  0,  0,  0],\n",
       "        [ 0,  0,  0,  0,  0,  0,  0,  0,  0,  0],\n",
       "        [ 0,  0,  0,  0,  0,  0,  0,  0,  0,  0],\n",
       "        [ 0,  0,  0,  0,  0,  0,  0,  0,  0,  0],\n",
       "        [ 0,  0,  0,  0,  0,  0,  0,  0,  0,  0]])"
      ]
     },
     "execution_count": 48,
     "metadata": {},
     "output_type": "execute_result"
    }
   ],
   "source": [
    "np.matrix(b) - np.matrix(a)"
   ]
  },
  {
   "cell_type": "code",
   "execution_count": 49,
   "metadata": {
    "collapsed": false
   },
   "outputs": [
    {
     "data": {
      "text/plain": [
       "[[1, 1, 1, 1, 1, 1, 1, 1, 1, 1],\n",
       " [1, 0, 0, 0, 0, 0, 0, 4, 0, 1],\n",
       " [1, 0, 0, 0, 0, 0, 0, 0, 0, 1],\n",
       " [1, 0, 2, 2, 3, 0, 0, 0, 0, 1],\n",
       " [1, 0, 0, 0, 0, 0, 0, 0, 0, 1],\n",
       " [1, 0, 0, 0, 0, 0, 0, 0, 0, 1],\n",
       " [1, 0, 0, 0, 0, 0, 0, 0, 0, 1],\n",
       " [1, 1, 1, 1, 1, 1, 1, 1, 1, 1]]"
      ]
     },
     "execution_count": 49,
     "metadata": {},
     "output_type": "execute_result"
    }
   ],
   "source": [
    "# Karpathy code\n",
    "# https://gist.github.com/karpathy/a4166c7fe253700972fcbc77e4ea32c5\n"
   ]
  },
  {
   "cell_type": "code",
   "execution_count": 54,
   "metadata": {
    "collapsed": false
   },
   "outputs": [],
   "source": [
    "a = np.array(a)\n",
    "scale(a.reshape(-1, 1))"
   ]
  },
  {
   "cell_type": "code",
   "execution_count": 57,
   "metadata": {
    "collapsed": false
   },
   "outputs": [
    {
     "name": "stderr",
     "output_type": "stream",
     "text": [
      "C:\\Users\\arman\\Anaconda3\\lib\\site-packages\\sklearn\\utils\\validation.py:475: DataConversionWarning: Data with input dtype int32 was converted to float64 by the scale function.\n",
      "  warnings.warn(msg, DataConversionWarning)\n"
     ]
    },
    {
     "data": {
      "text/plain": [
       "array([[ 0.63916724],\n",
       "       [ 0.63916724],\n",
       "       [ 0.63916724],\n",
       "       [ 0.63916724],\n",
       "       [ 0.63916724],\n",
       "       [ 0.63916724],\n",
       "       [ 0.63916724],\n",
       "       [ 0.63916724],\n",
       "       [ 0.63916724],\n",
       "       [ 0.63916724],\n",
       "       [ 0.63916724],\n",
       "       [-0.74281599],\n",
       "       [-0.74281599],\n",
       "       [-0.74281599],\n",
       "       [-0.74281599],\n",
       "       [-0.74281599],\n",
       "       [-0.74281599],\n",
       "       [ 4.78511693],\n",
       "       [-0.74281599],\n",
       "       [ 0.63916724],\n",
       "       [ 0.63916724],\n",
       "       [-0.74281599],\n",
       "       [-0.74281599],\n",
       "       [-0.74281599],\n",
       "       [-0.74281599],\n",
       "       [-0.74281599],\n",
       "       [-0.74281599],\n",
       "       [-0.74281599],\n",
       "       [-0.74281599],\n",
       "       [ 0.63916724],\n",
       "       [ 0.63916724],\n",
       "       [ 2.02115047],\n",
       "       [ 2.02115047],\n",
       "       [ 3.4031337 ],\n",
       "       [-0.74281599],\n",
       "       [-0.74281599],\n",
       "       [-0.74281599],\n",
       "       [-0.74281599],\n",
       "       [-0.74281599],\n",
       "       [ 0.63916724],\n",
       "       [ 0.63916724],\n",
       "       [-0.74281599],\n",
       "       [-0.74281599],\n",
       "       [-0.74281599],\n",
       "       [-0.74281599],\n",
       "       [-0.74281599],\n",
       "       [-0.74281599],\n",
       "       [-0.74281599],\n",
       "       [-0.74281599],\n",
       "       [ 0.63916724],\n",
       "       [ 0.63916724],\n",
       "       [-0.74281599],\n",
       "       [-0.74281599],\n",
       "       [-0.74281599],\n",
       "       [-0.74281599],\n",
       "       [-0.74281599],\n",
       "       [-0.74281599],\n",
       "       [-0.74281599],\n",
       "       [-0.74281599],\n",
       "       [ 0.63916724],\n",
       "       [ 0.63916724],\n",
       "       [-0.74281599],\n",
       "       [-0.74281599],\n",
       "       [-0.74281599],\n",
       "       [-0.74281599],\n",
       "       [-0.74281599],\n",
       "       [-0.74281599],\n",
       "       [-0.74281599],\n",
       "       [-0.74281599],\n",
       "       [ 0.63916724],\n",
       "       [ 0.63916724],\n",
       "       [ 0.63916724],\n",
       "       [ 0.63916724],\n",
       "       [ 0.63916724],\n",
       "       [ 0.63916724],\n",
       "       [ 0.63916724],\n",
       "       [ 0.63916724],\n",
       "       [ 0.63916724],\n",
       "       [ 0.63916724],\n",
       "       [ 0.63916724]])"
      ]
     },
     "execution_count": 57,
     "metadata": {},
     "output_type": "execute_result"
    }
   ],
   "source": [
    "scale(a.reshape(-1, 1))"
   ]
  },
  {
   "cell_type": "code",
   "execution_count": null,
   "metadata": {
    "collapsed": true
   },
   "outputs": [],
   "source": []
  }
 ],
 "metadata": {
  "anaconda-cloud": {},
  "kernelspec": {
   "display_name": "Python [conda root]",
   "language": "python",
   "name": "conda-root-py"
  },
  "language_info": {
   "codemirror_mode": {
    "name": "ipython",
    "version": 3
   },
   "file_extension": ".py",
   "mimetype": "text/x-python",
   "name": "python",
   "nbconvert_exporter": "python",
   "pygments_lexer": "ipython3",
   "version": "3.5.2"
  }
 },
 "nbformat": 4,
 "nbformat_minor": 1
}
