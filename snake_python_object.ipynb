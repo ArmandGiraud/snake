{
 "cells": [
  {
   "cell_type": "code",
   "execution_count": 31,
   "metadata": {
    "collapsed": false
   },
   "outputs": [
    {
     "name": "stdout",
     "output_type": "stream",
     "text": [
      "The autoreload extension is already loaded. To reload it, use:\n",
      "  %reload_ext autoreload\n"
     ]
    }
   ],
   "source": [
    "%load_ext autoreload\n",
    "%autoreload 2\n",
    "\n",
    "from utils import Snake"
   ]
  },
  {
   "cell_type": "code",
   "execution_count": 33,
   "metadata": {
    "collapsed": false
   },
   "outputs": [
    {
     "name": "stdout",
     "output_type": "stream",
     "text": [
      "Score : 0\n",
      "[[1, 1, 1, 1, 1, 1, 1, 1, 1, 1],\n",
      " [1, 0, 0, 0, 0, 0, 0, 4, 0, 1],\n",
      " [1, 0, 0, 0, 0, 0, 0, 0, 0, 1],\n",
      " [1, 0, 0, 0, 0, 0, 0, 0, 0, 1],\n",
      " [1, 0, 0, 0, 0, 2, 0, 0, 0, 1],\n",
      " [1, 0, 0, 0, 0, 2, 0, 0, 0, 1],\n",
      " [1, 0, 0, 0, 0, 3, 0, 0, 0, 1],\n",
      " [1, 1, 1, 1, 1, 1, 1, 1, 1, 1]]\n",
      "Move:5\n",
      "last_direction down\n",
      "impossible\n",
      "direction down\n",
      "user_input continue\n",
      "None\n",
      "crash: Final Score is 0\n"
     ]
    }
   ],
   "source": [
    "sizes = (8, 6)\n",
    "sn = Snake(sizes)"
   ]
  },
  {
   "cell_type": "code",
   "execution_count": null,
   "metadata": {
    "collapsed": true
   },
   "outputs": [],
   "source": []
  }
 ],
 "metadata": {
  "anaconda-cloud": {},
  "kernelspec": {
   "display_name": "Python [conda root]",
   "language": "python",
   "name": "conda-root-py"
  },
  "language_info": {
   "codemirror_mode": {
    "name": "ipython",
    "version": 3
   },
   "file_extension": ".py",
   "mimetype": "text/x-python",
   "name": "python",
   "nbconvert_exporter": "python",
   "pygments_lexer": "ipython3",
   "version": "3.5.2"
  }
 },
 "nbformat": 4,
 "nbformat_minor": 1
}
