{
 "cells": [
  {
   "cell_type": "code",
   "execution_count": 30,
   "metadata": {},
   "outputs": [
    {
     "name": "stdout",
     "output_type": "stream",
     "text": [
      "The autoreload extension is already loaded. To reload it, use:\n",
      "  %reload_ext autoreload\n"
     ]
    }
   ],
   "source": [
    "%load_ext autoreload\n",
    "%autoreload 2\n",
    "%config Completer.use_jedi = False\n",
    "from utils import Snake\n",
    "import random\n",
    "import pickle\n",
    "import numpy as np\n",
    "import torch.nn as nn"
   ]
  },
  {
   "cell_type": "code",
   "execution_count": 31,
   "metadata": {},
   "outputs": [],
   "source": [
    "class StupidBot():\n",
    "    def __init__(self):\n",
    "        pass\n",
    "    def compute(snake = None, grille = None):\n",
    "        rand = random.randint(1, 4)\n",
    "        rand_to_input = {\n",
    "                    1 : 6, #right\n",
    "                    2 : 4,\n",
    "                    3 : 8,\n",
    "                    4 : 5\n",
    "\n",
    "                }\n",
    "        return rand_to_input[rand]\n",
    "    \n",
    "class SmartBot():\n",
    "    def __init__(self):\n",
    "        pass\n",
    "    \n",
    "    def compute(self, state):\n",
    "        return action\n",
    "    \n",
    "position_to_input = {\n",
    "    0:4,\n",
    "    1:5,\n",
    "    2:6,\n",
    "    3:8\n",
    "}\n",
    "\n",
    "input_to_dir = {\n",
    "    0 :\"left\",\n",
    "    2 :\"right\",\n",
    "    3 :\"up\",\n",
    "    1 :\"down\"\n",
    "}\n",
    "input_to_position = {v:k for k, v in position_to_input.items()}\n"
   ]
  },
  {
   "cell_type": "code",
   "execution_count": 32,
   "metadata": {},
   "outputs": [],
   "source": [
    "sizes = (10, 10)\n",
    "sbot = StupidBot()\n",
    "sn = Snake(sizes, sbot)\n",
    "g = sn.reset()"
   ]
  },
  {
   "cell_type": "code",
   "execution_count": 33,
   "metadata": {},
   "outputs": [
    {
     "data": {
      "text/plain": [
       "<matplotlib.image.AxesImage at 0x7f0c1d0b6d90>"
      ]
     },
     "execution_count": 33,
     "metadata": {},
     "output_type": "execute_result"
    },
    {
     "data": {
      "image/png": "[encoded data removed]",
      "text/plain": [
       "<Figure size 288x288 with 1 Axes>"
      ]
     },
     "metadata": {
      "needs_background": "light"
     },
     "output_type": "display_data"
    }
   ],
   "source": [
    "import matplotlib.pyplot as plt\n",
    "plt.matshow(grille_torch)"
   ]
  },
  {
   "cell_type": "code",
   "execution_count": 38,
   "metadata": {},
   "outputs": [
    {
     "data": {
      "text/plain": [
       "[[1, 1, 1, 1, 1, 1, 1, 1, 1, 1, 1, 1],\n",
       " [1, 0, 0, 0, 0, 0, 0, 0, 0, -9, 0, 1],\n",
       " [1, 0, 0, 0, 0, 0, 0, 0, 0, 0, 0, 1],\n",
       " [1, 0, 0, 0, 0, 0, 0, 0, 0, 0, 0, 1],\n",
       " [1, 0, 0, 0, 0, 0, 0, 0, 0, 0, 0, 1],\n",
       " [1, 2, 2, 3, 0, 0, 0, 0, 0, 0, 0, 1],\n",
       " [1, 0, 0, 0, 0, 0, 0, 0, 0, 0, 0, 1],\n",
       " [1, 0, 0, 0, 0, 0, 0, 0, 0, 0, 0, 1],\n",
       " [1, 0, 0, 0, 0, 0, 0, 0, 0, 0, 0, 1],\n",
       " [1, 0, 0, 0, 0, 0, 0, 0, 0, 0, 0, 1],\n",
       " [1, 0, 0, 0, 0, 0, 0, 0, 0, 0, 0, 1],\n",
       " [1, 1, 1, 1, 1, 1, 1, 1, 1, 1, 1, 1]]"
      ]
     },
     "execution_count": 38,
     "metadata": {},
     "output_type": "execute_result"
    }
   ],
   "source": [
    "grille_torch"
   ]
  },
  {
   "cell_type": "code",
   "execution_count": 46,
   "metadata": {},
   "outputs": [
    {
     "data": {
      "application/vnd.plotly.v1+json": {
       "config": {
        "plotlyServerURL": "https://plot.ly"
       },
       "data": [
        {
         "type": "heatmap",
         "z": [
          [
           1,
           1,
           1,
           1,
           1,
           1,
           1,
           1,
           1,
           1,
           1,
           1
          ],
          [
           1,
           0,
           0,
           0,
           0,
           0,
           0,
           0,
           0,
           -9,
           0,
           1
          ],
          [
           1,
           0,
           0,
           0,
           0,
           0,
           0,
           0,
           0,
           0,
           0,
           1
          ],
          [
           1,
           0,
           0,
           0,
           0,
           0,
           0,
           0,
           0,
           0,
           0,
           1
          ],
          [
           1,
           0,
           0,
           0,
           0,
           0,
           0,
           0,
           0,
           0,
           0,
           1
          ],
          [
           1,
           2,
           2,
           3,
           0,
           0,
           0,
           0,
           0,
           0,
           0,
           1
          ],
          [
           1,
           0,
           0,
           0,
           0,
           0,
           0,
           0,
           0,
           0,
           0,
           1
          ],
          [
           1,
           0,
           0,
           0,
           0,
           0,
           0,
           0,
           0,
           0,
           0,
           1
          ],
          [
           1,
           0,
           0,
           0,
           0,
           0,
           0,
           0,
           0,
           0,
           0,
           1
          ],
          [
           1,
           0,
           0,
           0,
           0,
           0,
           0,
           0,
           0,
           0,
           0,
           1
          ],
          [
           1,
           0,
           0,
           0,
           0,
           0,
           0,
           0,
           0,
           0,
           0,
           1
          ],
          [
           1,
           1,
           1,
           1,
           1,
           1,
           1,
           1,
           1,
           1,
           1,
           1
          ]
         ]
        }
       ],
       "layout": {
        "autosize": false,
        "height": 700,
        "template": {
         "data": {
          "bar": [
           {
            "error_x": {
             "color": "#2a3f5f"
            },
            "error_y": {
             "color": "#2a3f5f"
            },
            "marker": {
             "line": {
              "color": "#E5ECF6",
              "width": 0.5
             }
            },
            "type": "bar"
           }
          ],
          "barpolar": [
           {
            "marker": {
             "line": {
              "color": "#E5ECF6",
              "width": 0.5
             }
            },
            "type": "barpolar"
           }
          ],
          "carpet": [
           {
            "aaxis": {
             "endlinecolor": "#2a3f5f",
             "gridcolor": "white",
             "linecolor": "white",
             "minorgridcolor": "white",
             "startlinecolor": "#2a3f5f"
            },
            "baxis": {
             "endlinecolor": "#2a3f5f",
             "gridcolor": "white",
             "linecolor": "white",
             "minorgridcolor": "white",
             "startlinecolor": "#2a3f5f"
            },
            "type": "carpet"
           }
          ],
          "choropleth": [
           {
            "colorbar": {
             "outlinewidth": 0,
             "ticks": ""
            },
            "type": "choropleth"
           }
          ],
          "contour": [
           {
            "colorbar": {
             "outlinewidth": 0,
             "ticks": ""
            },
            "colorscale": [
             [
              0,
              "#0d0887"
             ],
             [
              0.1111111111111111,
              "#46039f"
             ],
             [
              0.2222222222222222,
              "#7201a8"
             ],
             [
              0.3333333333333333,
              "#9c179e"
             ],
             [
              0.4444444444444444,
              "#bd3786"
             ],
             [
              0.5555555555555556,
              "#d8576b"
             ],
             [
              0.6666666666666666,
              "#ed7953"
             ],
             [
              0.7777777777777778,
              "#fb9f3a"
             ],
             [
              0.8888888888888888,
              "#fdca26"
             ],
             [
              1,
              "#f0f921"
             ]
            ],
            "type": "contour"
           }
          ],
          "contourcarpet": [
           {
            "colorbar": {
             "outlinewidth": 0,
             "ticks": ""
            },
            "type": "contourcarpet"
           }
          ],
          "heatmap": [
           {
            "colorbar": {
             "outlinewidth": 0,
             "ticks": ""
            },
            "colorscale": [
             [
              0,
              "#0d0887"
             ],
             [
              0.1111111111111111,
              "#46039f"
             ],
             [
              0.2222222222222222,
              "#7201a8"
             ],
             [
              0.3333333333333333,
              "#9c179e"
             ],
             [
              0.4444444444444444,
              "#bd3786"
             ],
             [
              0.5555555555555556,
              "#d8576b"
             ],
             [
              0.6666666666666666,
              "#ed7953"
             ],
             [
              0.7777777777777778,
              "#fb9f3a"
             ],
             [
              0.8888888888888888,
              "#fdca26"
             ],
             [
              1,
              "#f0f921"
             ]
            ],
            "type": "heatmap"
           }
          ],
          "heatmapgl": [
           {
            "colorbar": {
             "outlinewidth": 0,
             "ticks": ""
            },
            "colorscale": [
             [
              0,
              "#0d0887"
             ],
             [
              0.1111111111111111,
              "#46039f"
             ],
             [
              0.2222222222222222,
              "#7201a8"
             ],
             [
              0.3333333333333333,
              "#9c179e"
             ],
             [
              0.4444444444444444,
              "#bd3786"
             ],
             [
              0.5555555555555556,
              "#d8576b"
             ],
             [
              0.6666666666666666,
              "#ed7953"
             ],
             [
              0.7777777777777778,
              "#fb9f3a"
             ],
             [
              0.8888888888888888,
              "#fdca26"
             ],
             [
              1,
              "#f0f921"
             ]
            ],
            "type": "heatmapgl"
           }
          ],
          "histogram": [
           {
            "marker": {
             "colorbar": {
              "outlinewidth": 0,
              "ticks": ""
             }
            },
            "type": "histogram"
           }
          ],
          "histogram2d": [
           {
            "colorbar": {
             "outlinewidth": 0,
             "ticks": ""
            },
            "colorscale": [
             [
              0,
              "#0d0887"
             ],
             [
              0.1111111111111111,
              "#46039f"
             ],
             [
              0.2222222222222222,
              "#7201a8"
             ],
             [
              0.3333333333333333,
              "#9c179e"
             ],
             [
              0.4444444444444444,
              "#bd3786"
             ],
             [
              0.5555555555555556,
              "#d8576b"
             ],
             [
              0.6666666666666666,
              "#ed7953"
             ],
             [
              0.7777777777777778,
              "#fb9f3a"
             ],
             [
              0.8888888888888888,
              "#fdca26"
             ],
             [
              1,
              "#f0f921"
             ]
            ],
            "type": "histogram2d"
           }
          ],
          "histogram2dcontour": [
           {
            "colorbar": {
             "outlinewidth": 0,
             "ticks": ""
            },
            "colorscale": [
             [
              0,
              "#0d0887"
             ],
             [
              0.1111111111111111,
              "#46039f"
             ],
             [
              0.2222222222222222,
              "#7201a8"
             ],
             [
              0.3333333333333333,
              "#9c179e"
             ],
             [
              0.4444444444444444,
              "#bd3786"
             ],
             [
              0.5555555555555556,
              "#d8576b"
             ],
             [
              0.6666666666666666,
              "#ed7953"
             ],
             [
              0.7777777777777778,
              "#fb9f3a"
             ],
             [
              0.8888888888888888,
              "#fdca26"
             ],
             [
              1,
              "#f0f921"
             ]
            ],
            "type": "histogram2dcontour"
           }
          ],
          "mesh3d": [
           {
            "colorbar": {
             "outlinewidth": 0,
             "ticks": ""
            },
            "type": "mesh3d"
           }
          ],
          "parcoords": [
           {
            "line": {
             "colorbar": {
              "outlinewidth": 0,
              "ticks": ""
             }
            },
            "type": "parcoords"
           }
          ],
          "pie": [
           {
            "automargin": true,
            "type": "pie"
           }
          ],
          "scatter": [
           {
            "marker": {
             "colorbar": {
              "outlinewidth": 0,
              "ticks": ""
             }
            },
            "type": "scatter"
           }
          ],
          "scatter3d": [
           {
            "line": {
             "colorbar": {
              "outlinewidth": 0,
              "ticks": ""
             }
            },
            "marker": {
             "colorbar": {
              "outlinewidth": 0,
              "ticks": ""
             }
            },
            "type": "scatter3d"
           }
          ],
          "scattercarpet": [
           {
            "marker": {
             "colorbar": {
              "outlinewidth": 0,
              "ticks": ""
             }
            },
            "type": "scattercarpet"
           }
          ],
          "scattergeo": [
           {
            "marker": {
             "colorbar": {
              "outlinewidth": 0,
              "ticks": ""
             }
            },
            "type": "scattergeo"
           }
          ],
          "scattergl": [
           {
            "marker": {
             "colorbar": {
              "outlinewidth": 0,
              "ticks": ""
             }
            },
            "type": "scattergl"
           }
          ],
          "scattermapbox": [
           {
            "marker": {
             "colorbar": {
              "outlinewidth": 0,
              "ticks": ""
             }
            },
            "type": "scattermapbox"
           }
          ],
          "scatterpolar": [
           {
            "marker": {
             "colorbar": {
              "outlinewidth": 0,
              "ticks": ""
             }
            },
            "type": "scatterpolar"
           }
          ],
          "scatterpolargl": [
           {
            "marker": {
             "colorbar": {
              "outlinewidth": 0,
              "ticks": ""
             }
            },
            "type": "scatterpolargl"
           }
          ],
          "scatterternary": [
           {
            "marker": {
             "colorbar": {
              "outlinewidth": 0,
              "ticks": ""
             }
            },
            "type": "scatterternary"
           }
          ],
          "surface": [
           {
            "colorbar": {
             "outlinewidth": 0,
             "ticks": ""
            },
            "colorscale": [
             [
              0,
              "#0d0887"
             ],
             [
              0.1111111111111111,
              "#46039f"
             ],
             [
              0.2222222222222222,
              "#7201a8"
             ],
             [
              0.3333333333333333,
              "#9c179e"
             ],
             [
              0.4444444444444444,
              "#bd3786"
             ],
             [
              0.5555555555555556,
              "#d8576b"
             ],
             [
              0.6666666666666666,
              "#ed7953"
             ],
             [
              0.7777777777777778,
              "#fb9f3a"
             ],
             [
              0.8888888888888888,
              "#fdca26"
             ],
             [
              1,
              "#f0f921"
             ]
            ],
            "type": "surface"
           }
          ],
          "table": [
           {
            "cells": {
             "fill": {
              "color": "#EBF0F8"
             },
             "line": {
              "color": "white"
             }
            },
            "header": {
             "fill": {
              "color": "#C8D4E3"
             },
             "line": {
              "color": "white"
             }
            },
            "type": "table"
           }
          ]
         },
         "layout": {
          "annotationdefaults": {
           "arrowcolor": "#2a3f5f",
           "arrowhead": 0,
           "arrowwidth": 1
          },
          "autotypenumbers": "strict",
          "coloraxis": {
           "colorbar": {
            "outlinewidth": 0,
            "ticks": ""
           }
          },
          "colorscale": {
           "diverging": [
            [
             0,
             "#8e0152"
            ],
            [
             0.1,
             "#c51b7d"
            ],
            [
             0.2,
             "#de77ae"
            ],
            [
             0.3,
             "#f1b6da"
            ],
            [
             0.4,
             "#fde0ef"
            ],
            [
             0.5,
             "#f7f7f7"
            ],
            [
             0.6,
             "#e6f5d0"
            ],
            [
             0.7,
             "#b8e186"
            ],
            [
             0.8,
             "#7fbc41"
            ],
            [
             0.9,
             "#4d9221"
            ],
            [
             1,
             "#276419"
            ]
           ],
           "sequential": [
            [
             0,
             "#0d0887"
            ],
            [
             0.1111111111111111,
             "#46039f"
            ],
            [
             0.2222222222222222,
             "#7201a8"
            ],
            [
             0.3333333333333333,
             "#9c179e"
            ],
            [
             0.4444444444444444,
             "#bd3786"
            ],
            [
             0.5555555555555556,
             "#d8576b"
            ],
            [
             0.6666666666666666,
             "#ed7953"
            ],
            [
             0.7777777777777778,
             "#fb9f3a"
            ],
            [
             0.8888888888888888,
             "#fdca26"
            ],
            [
             1,
             "#f0f921"
            ]
           ],
           "sequentialminus": [
            [
             0,
             "#0d0887"
            ],
            [
             0.1111111111111111,
             "#46039f"
            ],
            [
             0.2222222222222222,
             "#7201a8"
            ],
            [
             0.3333333333333333,
             "#9c179e"
            ],
            [
             0.4444444444444444,
             "#bd3786"
            ],
            [
             0.5555555555555556,
             "#d8576b"
            ],
            [
             0.6666666666666666,
             "#ed7953"
            ],
            [
             0.7777777777777778,
             "#fb9f3a"
            ],
            [
             0.8888888888888888,
             "#fdca26"
            ],
            [
             1,
             "#f0f921"
            ]
           ]
          },
          "colorway": [
           "#636efa",
           "#EF553B",
           "#00cc96",
           "#ab63fa",
           "#FFA15A",
           "#19d3f3",
           "#FF6692",
           "#B6E880",
           "#FF97FF",
           "#FECB52"
          ],
          "font": {
           "color": "#2a3f5f"
          },
          "geo": {
           "bgcolor": "white",
           "lakecolor": "white",
           "landcolor": "#E5ECF6",
           "showlakes": true,
           "showland": true,
           "subunitcolor": "white"
          },
          "hoverlabel": {
           "align": "left"
          },
          "hovermode": "closest",
          "mapbox": {
           "style": "light"
          },
          "paper_bgcolor": "white",
          "plot_bgcolor": "#E5ECF6",
          "polar": {
           "angularaxis": {
            "gridcolor": "white",
            "linecolor": "white",
            "ticks": ""
           },
           "bgcolor": "#E5ECF6",
           "radialaxis": {
            "gridcolor": "white",
            "linecolor": "white",
            "ticks": ""
           }
          },
          "scene": {
           "xaxis": {
            "backgroundcolor": "#E5ECF6",
            "gridcolor": "white",
            "gridwidth": 2,
            "linecolor": "white",
            "showbackground": true,
            "ticks": "",
            "zerolinecolor": "white"
           },
           "yaxis": {
            "backgroundcolor": "#E5ECF6",
            "gridcolor": "white",
            "gridwidth": 2,
            "linecolor": "white",
            "showbackground": true,
            "ticks": "",
            "zerolinecolor": "white"
           },
           "zaxis": {
            "backgroundcolor": "#E5ECF6",
            "gridcolor": "white",
            "gridwidth": 2,
            "linecolor": "white",
            "showbackground": true,
            "ticks": "",
            "zerolinecolor": "white"
           }
          },
          "shapedefaults": {
           "line": {
            "color": "#2a3f5f"
           }
          },
          "ternary": {
           "aaxis": {
            "gridcolor": "white",
            "linecolor": "white",
            "ticks": ""
           },
           "baxis": {
            "gridcolor": "white",
            "linecolor": "white",
            "ticks": ""
           },
           "bgcolor": "#E5ECF6",
           "caxis": {
            "gridcolor": "white",
            "linecolor": "white",
            "ticks": ""
           }
          },
          "title": {
           "x": 0.05
          },
          "xaxis": {
           "automargin": true,
           "gridcolor": "white",
           "linecolor": "white",
           "ticks": "",
           "title": {
            "standoff": 15
           },
           "zerolinecolor": "white",
           "zerolinewidth": 2
          },
          "yaxis": {
           "automargin": true,
           "gridcolor": "white",
           "linecolor": "white",
           "ticks": "",
           "title": {
            "standoff": 15
           },
           "zerolinecolor": "white",
           "zerolinewidth": 2
          }
         }
        },
        "width": 700
       }
      },
      "text/html": [
       "<div>                            <div id=\"03c9821c-44db-41b5-962b-5ecc257d6dcf\" class=\"plotly-graph-div\" style=\"height:700px; width:700px;\"></div>            <script type=\"text/javascript\">                require([\"plotly\"], function(Plotly) {                    window.PLOTLYENV=window.PLOTLYENV || {};                                    if (document.getElementById(\"03c9821c-44db-41b5-962b-5ecc257d6dcf\")) {                    Plotly.newPlot(                        \"03c9821c-44db-41b5-962b-5ecc257d6dcf\",                        [{\"type\": \"heatmap\", \"z\": [[1, 1, 1, 1, 1, 1, 1, 1, 1, 1, 1, 1], [1, 0, 0, 0, 0, 0, 0, 0, 0, -9, 0, 1], [1, 0, 0, 0, 0, 0, 0, 0, 0, 0, 0, 1], [1, 0, 0, 0, 0, 0, 0, 0, 0, 0, 0, 1], [1, 0, 0, 0, 0, 0, 0, 0, 0, 0, 0, 1], [1, 2, 2, 3, 0, 0, 0, 0, 0, 0, 0, 1], [1, 0, 0, 0, 0, 0, 0, 0, 0, 0, 0, 1], [1, 0, 0, 0, 0, 0, 0, 0, 0, 0, 0, 1], [1, 0, 0, 0, 0, 0, 0, 0, 0, 0, 0, 1], [1, 0, 0, 0, 0, 0, 0, 0, 0, 0, 0, 1], [1, 0, 0, 0, 0, 0, 0, 0, 0, 0, 0, 1], [1, 1, 1, 1, 1, 1, 1, 1, 1, 1, 1, 1]]}],                        {\"autosize\": false, \"height\": 700, \"template\": {\"data\": {\"bar\": [{\"error_x\": {\"color\": \"#2a3f5f\"}, \"error_y\": {\"color\": \"#2a3f5f\"}, \"marker\": {\"line\": {\"color\": \"#E5ECF6\", \"width\": 0.5}}, \"type\": \"bar\"}], \"barpolar\": [{\"marker\": {\"line\": {\"color\": \"#E5ECF6\", \"width\": 0.5}}, \"type\": \"barpolar\"}], \"carpet\": [{\"aaxis\": {\"endlinecolor\": \"#2a3f5f\", \"gridcolor\": \"white\", \"linecolor\": \"white\", \"minorgridcolor\": \"white\", \"startlinecolor\": \"#2a3f5f\"}, \"baxis\": {\"endlinecolor\": \"#2a3f5f\", \"gridcolor\": \"white\", \"linecolor\": \"white\", \"minorgridcolor\": \"white\", \"startlinecolor\": \"#2a3f5f\"}, \"type\": \"carpet\"}], \"choropleth\": [{\"colorbar\": {\"outlinewidth\": 0, \"ticks\": \"\"}, \"type\": \"choropleth\"}], \"contour\": [{\"colorbar\": {\"outlinewidth\": 0, \"ticks\": \"\"}, \"colorscale\": [[0.0, \"#0d0887\"], [0.1111111111111111, \"#46039f\"], [0.2222222222222222, \"#7201a8\"], [0.3333333333333333, \"#9c179e\"], [0.4444444444444444, \"#bd3786\"], [0.5555555555555556, \"#d8576b\"], [0.6666666666666666, \"#ed7953\"], [0.7777777777777778, \"#fb9f3a\"], [0.8888888888888888, \"#fdca26\"], [1.0, \"#f0f921\"]], \"type\": \"contour\"}], \"contourcarpet\": [{\"colorbar\": {\"outlinewidth\": 0, \"ticks\": \"\"}, \"type\": \"contourcarpet\"}], \"heatmap\": [{\"colorbar\": {\"outlinewidth\": 0, \"ticks\": \"\"}, \"colorscale\": [[0.0, \"#0d0887\"], [0.1111111111111111, \"#46039f\"], [0.2222222222222222, \"#7201a8\"], [0.3333333333333333, \"#9c179e\"], [0.4444444444444444, \"#bd3786\"], [0.5555555555555556, \"#d8576b\"], [0.6666666666666666, \"#ed7953\"], [0.7777777777777778, \"#fb9f3a\"], [0.8888888888888888, \"#fdca26\"], [1.0, \"#f0f921\"]], \"type\": \"heatmap\"}], \"heatmapgl\": [{\"colorbar\": {\"outlinewidth\": 0, \"ticks\": \"\"}, \"colorscale\": [[0.0, \"#0d0887\"], [0.1111111111111111, \"#46039f\"], [0.2222222222222222, \"#7201a8\"], [0.3333333333333333, \"#9c179e\"], [0.4444444444444444, \"#bd3786\"], [0.5555555555555556, \"#d8576b\"], [0.6666666666666666, \"#ed7953\"], [0.7777777777777778, \"#fb9f3a\"], [0.8888888888888888, \"#fdca26\"], [1.0, \"#f0f921\"]], \"type\": \"heatmapgl\"}], \"histogram\": [{\"marker\": {\"colorbar\": {\"outlinewidth\": 0, \"ticks\": \"\"}}, \"type\": \"histogram\"}], \"histogram2d\": [{\"colorbar\": {\"outlinewidth\": 0, \"ticks\": \"\"}, \"colorscale\": [[0.0, \"#0d0887\"], [0.1111111111111111, \"#46039f\"], [0.2222222222222222, \"#7201a8\"], [0.3333333333333333, \"#9c179e\"], [0.4444444444444444, \"#bd3786\"], [0.5555555555555556, \"#d8576b\"], [0.6666666666666666, \"#ed7953\"], [0.7777777777777778, \"#fb9f3a\"], [0.8888888888888888, \"#fdca26\"], [1.0, \"#f0f921\"]], \"type\": \"histogram2d\"}], \"histogram2dcontour\": [{\"colorbar\": {\"outlinewidth\": 0, \"ticks\": \"\"}, \"colorscale\": [[0.0, \"#0d0887\"], [0.1111111111111111, \"#46039f\"], [0.2222222222222222, \"#7201a8\"], [0.3333333333333333, \"#9c179e\"], [0.4444444444444444, \"#bd3786\"], [0.5555555555555556, \"#d8576b\"], [0.6666666666666666, \"#ed7953\"], [0.7777777777777778, \"#fb9f3a\"], [0.8888888888888888, \"#fdca26\"], [1.0, \"#f0f921\"]], \"type\": \"histogram2dcontour\"}], \"mesh3d\": [{\"colorbar\": {\"outlinewidth\": 0, \"ticks\": \"\"}, \"type\": \"mesh3d\"}], \"parcoords\": [{\"line\": {\"colorbar\": {\"outlinewidth\": 0, \"ticks\": \"\"}}, \"type\": \"parcoords\"}], \"pie\": [{\"automargin\": true, \"type\": \"pie\"}], \"scatter\": [{\"marker\": {\"colorbar\": {\"outlinewidth\": 0, \"ticks\": \"\"}}, \"type\": \"scatter\"}], \"scatter3d\": [{\"line\": {\"colorbar\": {\"outlinewidth\": 0, \"ticks\": \"\"}}, \"marker\": {\"colorbar\": {\"outlinewidth\": 0, \"ticks\": \"\"}}, \"type\": \"scatter3d\"}], \"scattercarpet\": [{\"marker\": {\"colorbar\": {\"outlinewidth\": 0, \"ticks\": \"\"}}, \"type\": \"scattercarpet\"}], \"scattergeo\": [{\"marker\": {\"colorbar\": {\"outlinewidth\": 0, \"ticks\": \"\"}}, \"type\": \"scattergeo\"}], \"scattergl\": [{\"marker\": {\"colorbar\": {\"outlinewidth\": 0, \"ticks\": \"\"}}, \"type\": \"scattergl\"}], \"scattermapbox\": [{\"marker\": {\"colorbar\": {\"outlinewidth\": 0, \"ticks\": \"\"}}, \"type\": \"scattermapbox\"}], \"scatterpolar\": [{\"marker\": {\"colorbar\": {\"outlinewidth\": 0, \"ticks\": \"\"}}, \"type\": \"scatterpolar\"}], \"scatterpolargl\": [{\"marker\": {\"colorbar\": {\"outlinewidth\": 0, \"ticks\": \"\"}}, \"type\": \"scatterpolargl\"}], \"scatterternary\": [{\"marker\": {\"colorbar\": {\"outlinewidth\": 0, \"ticks\": \"\"}}, \"type\": \"scatterternary\"}], \"surface\": [{\"colorbar\": {\"outlinewidth\": 0, \"ticks\": \"\"}, \"colorscale\": [[0.0, \"#0d0887\"], [0.1111111111111111, \"#46039f\"], [0.2222222222222222, \"#7201a8\"], [0.3333333333333333, \"#9c179e\"], [0.4444444444444444, \"#bd3786\"], [0.5555555555555556, \"#d8576b\"], [0.6666666666666666, \"#ed7953\"], [0.7777777777777778, \"#fb9f3a\"], [0.8888888888888888, \"#fdca26\"], [1.0, \"#f0f921\"]], \"type\": \"surface\"}], \"table\": [{\"cells\": {\"fill\": {\"color\": \"#EBF0F8\"}, \"line\": {\"color\": \"white\"}}, \"header\": {\"fill\": {\"color\": \"#C8D4E3\"}, \"line\": {\"color\": \"white\"}}, \"type\": \"table\"}]}, \"layout\": {\"annotationdefaults\": {\"arrowcolor\": \"#2a3f5f\", \"arrowhead\": 0, \"arrowwidth\": 1}, \"autotypenumbers\": \"strict\", \"coloraxis\": {\"colorbar\": {\"outlinewidth\": 0, \"ticks\": \"\"}}, \"colorscale\": {\"diverging\": [[0, \"#8e0152\"], [0.1, \"#c51b7d\"], [0.2, \"#de77ae\"], [0.3, \"#f1b6da\"], [0.4, \"#fde0ef\"], [0.5, \"#f7f7f7\"], [0.6, \"#e6f5d0\"], [0.7, \"#b8e186\"], [0.8, \"#7fbc41\"], [0.9, \"#4d9221\"], [1, \"#276419\"]], \"sequential\": [[0.0, \"#0d0887\"], [0.1111111111111111, \"#46039f\"], [0.2222222222222222, \"#7201a8\"], [0.3333333333333333, \"#9c179e\"], [0.4444444444444444, \"#bd3786\"], [0.5555555555555556, \"#d8576b\"], [0.6666666666666666, \"#ed7953\"], [0.7777777777777778, \"#fb9f3a\"], [0.8888888888888888, \"#fdca26\"], [1.0, \"#f0f921\"]], \"sequentialminus\": [[0.0, \"#0d0887\"], [0.1111111111111111, \"#46039f\"], [0.2222222222222222, \"#7201a8\"], [0.3333333333333333, \"#9c179e\"], [0.4444444444444444, \"#bd3786\"], [0.5555555555555556, \"#d8576b\"], [0.6666666666666666, \"#ed7953\"], [0.7777777777777778, \"#fb9f3a\"], [0.8888888888888888, \"#fdca26\"], [1.0, \"#f0f921\"]]}, \"colorway\": [\"#636efa\", \"#EF553B\", \"#00cc96\", \"#ab63fa\", \"#FFA15A\", \"#19d3f3\", \"#FF6692\", \"#B6E880\", \"#FF97FF\", \"#FECB52\"], \"font\": {\"color\": \"#2a3f5f\"}, \"geo\": {\"bgcolor\": \"white\", \"lakecolor\": \"white\", \"landcolor\": \"#E5ECF6\", \"showlakes\": true, \"showland\": true, \"subunitcolor\": \"white\"}, \"hoverlabel\": {\"align\": \"left\"}, \"hovermode\": \"closest\", \"mapbox\": {\"style\": \"light\"}, \"paper_bgcolor\": \"white\", \"plot_bgcolor\": \"#E5ECF6\", \"polar\": {\"angularaxis\": {\"gridcolor\": \"white\", \"linecolor\": \"white\", \"ticks\": \"\"}, \"bgcolor\": \"#E5ECF6\", \"radialaxis\": {\"gridcolor\": \"white\", \"linecolor\": \"white\", \"ticks\": \"\"}}, \"scene\": {\"xaxis\": {\"backgroundcolor\": \"#E5ECF6\", \"gridcolor\": \"white\", \"gridwidth\": 2, \"linecolor\": \"white\", \"showbackground\": true, \"ticks\": \"\", \"zerolinecolor\": \"white\"}, \"yaxis\": {\"backgroundcolor\": \"#E5ECF6\", \"gridcolor\": \"white\", \"gridwidth\": 2, \"linecolor\": \"white\", \"showbackground\": true, \"ticks\": \"\", \"zerolinecolor\": \"white\"}, \"zaxis\": {\"backgroundcolor\": \"#E5ECF6\", \"gridcolor\": \"white\", \"gridwidth\": 2, \"linecolor\": \"white\", \"showbackground\": true, \"ticks\": \"\", \"zerolinecolor\": \"white\"}}, \"shapedefaults\": {\"line\": {\"color\": \"#2a3f5f\"}}, \"ternary\": {\"aaxis\": {\"gridcolor\": \"white\", \"linecolor\": \"white\", \"ticks\": \"\"}, \"baxis\": {\"gridcolor\": \"white\", \"linecolor\": \"white\", \"ticks\": \"\"}, \"bgcolor\": \"#E5ECF6\", \"caxis\": {\"gridcolor\": \"white\", \"linecolor\": \"white\", \"ticks\": \"\"}}, \"title\": {\"x\": 0.05}, \"xaxis\": {\"automargin\": true, \"gridcolor\": \"white\", \"linecolor\": \"white\", \"ticks\": \"\", \"title\": {\"standoff\": 15}, \"zerolinecolor\": \"white\", \"zerolinewidth\": 2}, \"yaxis\": {\"automargin\": true, \"gridcolor\": \"white\", \"linecolor\": \"white\", \"ticks\": \"\", \"title\": {\"standoff\": 15}, \"zerolinecolor\": \"white\", \"zerolinewidth\": 2}}}, \"width\": 700},                        {\"responsive\": true}                    ).then(function(){\n",
       "                            \n",
       "var gd = document.getElementById('03c9821c-44db-41b5-962b-5ecc257d6dcf');\n",
       "var x = new MutationObserver(function (mutations, observer) {{\n",
       "        var display = window.getComputedStyle(gd).display;\n",
       "        if (!display || display === 'none') {{\n",
       "            console.log([gd, 'removed!']);\n",
       "            Plotly.purge(gd);\n",
       "            observer.disconnect();\n",
       "        }}\n",
       "}});\n",
       "\n",
       "// Listen for the removal of the full notebook cells\n",
       "var notebookContainer = gd.closest('#notebook-container');\n",
       "if (notebookContainer) {{\n",
       "    x.observe(notebookContainer, {childList: true});\n",
       "}}\n",
       "\n",
       "// Listen for the clearing of the current output cell\n",
       "var outputEl = gd.closest('.output');\n",
       "if (outputEl) {{\n",
       "    x.observe(outputEl, {childList: true});\n",
       "}}\n",
       "\n",
       "                        })                };                });            </script>        </div>"
      ]
     },
     "metadata": {},
     "output_type": "display_data"
    }
   ],
   "source": [
    "fig = go.Figure(data=go.Heatmap(\n",
    "                    z=grille_torch))\n",
    "fig.update_layout(autosize=False,width = 700, height = 700,)\n",
    "fig.show()\n"
   ]
  },
  {
   "cell_type": "code",
   "execution_count": 44,
   "metadata": {},
   "outputs": [],
   "source": [
    "gt = np.array(grille_torch)\n",
    "gt[gt < 0 ] = 9\n"
   ]
  },
  {
   "cell_type": "code",
   "execution_count": 35,
   "metadata": {},
   "outputs": [
    {
     "data": {
      "application/vnd.plotly.v1+json": {
       "config": {
        "plotlyServerURL": "https://plot.ly"
       },
       "data": [
        {
         "type": "heatmap",
         "z": [
          [
           1,
           1,
           1,
           1,
           1,
           1,
           1,
           1,
           1,
           1,
           1,
           1
          ],
          [
           1,
           0,
           0,
           0,
           0,
           0,
           0,
           0,
           0,
           0,
           0,
           1
          ],
          [
           1,
           0,
           0,
           0,
           0,
           0,
           0,
           0,
           0,
           0,
           0,
           1
          ],
          [
           1,
           0,
           0,
           0,
           0,
           0,
           0,
           0,
           0,
           0,
           0,
           1
          ],
          [
           1,
           0,
           0,
           0,
           0,
           0,
           0,
           0,
           0,
           0,
           0,
           1
          ],
          [
           1,
           2,
           2,
           3,
           0,
           0,
           0,
           0,
           0,
           0,
           0,
           1
          ],
          [
           1,
           9,
           0,
           0,
           0,
           0,
           0,
           0,
           0,
           0,
           0,
           1
          ],
          [
           1,
           0,
           0,
           0,
           0,
           0,
           0,
           0,
           0,
           0,
           0,
           1
          ],
          [
           1,
           0,
           0,
           0,
           0,
           0,
           0,
           0,
           0,
           0,
           0,
           1
          ],
          [
           1,
           0,
           0,
           0,
           0,
           0,
           0,
           0,
           0,
           0,
           0,
           1
          ],
          [
           1,
           0,
           0,
           0,
           0,
           0,
           0,
           0,
           0,
           0,
           0,
           1
          ],
          [
           1,
           1,
           1,
           1,
           1,
           1,
           1,
           1,
           1,
           1,
           1,
           1
          ]
         ]
        }
       ],
       "frames": [
        {
         "data": [
          {
           "type": "heatmap",
           "z": [
            [
             1,
             1,
             1,
             1,
             1,
             1,
             1,
             1,
             1,
             1,
             1,
             1
            ],
            [
             1,
             0,
             0,
             0,
             0,
             0,
             0,
             0,
             0,
             0,
             0,
             1
            ],
            [
             1,
             0,
             0,
             0,
             0,
             0,
             0,
             0,
             0,
             0,
             0,
             1
            ],
            [
             1,
             0,
             0,
             0,
             0,
             0,
             0,
             0,
             0,
             0,
             0,
             1
            ],
            [
             1,
             0,
             0,
             0,
             0,
             0,
             0,
             0,
             0,
             0,
             0,
             1
            ],
            [
             1,
             2,
             2,
             3,
             0,
             0,
             0,
             0,
             0,
             0,
             0,
             1
            ],
            [
             1,
             9,
             0,
             0,
             0,
             0,
             0,
             0,
             0,
             0,
             0,
             1
            ],
            [
             1,
             0,
             0,
             0,
             0,
             0,
             0,
             0,
             0,
             0,
             0,
             1
            ],
            [
             1,
             0,
             0,
             0,
             0,
             0,
             0,
             0,
             0,
             0,
             0,
             1
            ],
            [
             1,
             0,
             0,
             0,
             0,
             0,
             0,
             0,
             0,
             0,
             0,
             1
            ],
            [
             1,
             0,
             0,
             0,
             0,
             0,
             0,
             0,
             0,
             0,
             0,
             1
            ],
            [
             1,
             1,
             1,
             1,
             1,
             1,
             1,
             1,
             1,
             1,
             1,
             1
            ]
           ]
          }
         ]
        },
        {
         "data": [
          {
           "type": "heatmap",
           "z": [
            [
             1,
             1,
             1,
             1,
             1,
             1,
             1,
             1,
             1,
             1,
             1,
             1
            ],
            [
             1,
             0,
             0,
             0,
             0,
             0,
             0,
             0,
             0,
             0,
             0,
             1
            ],
            [
             1,
             0,
             0,
             0,
             0,
             0,
             0,
             0,
             0,
             0,
             0,
             1
            ],
            [
             1,
             0,
             0,
             0,
             0,
             0,
             0,
             0,
             0,
             0,
             0,
             1
            ],
            [
             1,
             0,
             0,
             0,
             0,
             0,
             0,
             0,
             0,
             0,
             0,
             1
            ],
            [
             1,
             0,
             2,
             2,
             3,
             0,
             0,
             0,
             0,
             0,
             0,
             1
            ],
            [
             1,
             9,
             0,
             0,
             0,
             0,
             0,
             0,
             0,
             0,
             0,
             1
            ],
            [
             1,
             0,
             0,
             0,
             0,
             0,
             0,
             0,
             0,
             0,
             0,
             1
            ],
            [
             1,
             0,
             0,
             0,
             0,
             0,
             0,
             0,
             0,
             0,
             0,
             1
            ],
            [
             1,
             0,
             0,
             0,
             0,
             0,
             0,
             0,
             0,
             0,
             0,
             1
            ],
            [
             1,
             0,
             0,
             0,
             0,
             0,
             0,
             0,
             0,
             0,
             0,
             1
            ],
            [
             1,
             1,
             1,
             1,
             1,
             1,
             1,
             1,
             1,
             1,
             1,
             1
            ]
           ]
          }
         ]
        },
        {
         "data": [
          {
           "type": "heatmap",
           "z": [
            [
             1,
             1,
             1,
             1,
             1,
             1,
             1,
             1,
             1,
             1,
             1,
             1
            ],
            [
             1,
             0,
             0,
             0,
             0,
             0,
             0,
             0,
             0,
             0,
             0,
             1
            ],
            [
             1,
             0,
             0,
             0,
             0,
             0,
             0,
             0,
             0,
             0,
             0,
             1
            ],
            [
             1,
             0,
             0,
             0,
             0,
             0,
             0,
             0,
             0,
             0,
             0,
             1
            ],
            [
             1,
             0,
             0,
             0,
             0,
             0,
             0,
             0,
             0,
             0,
             0,
             1
            ],
            [
             1,
             0,
             0,
             2,
             2,
             0,
             0,
             0,
             0,
             0,
             0,
             1
            ],
            [
             1,
             9,
             0,
             0,
             3,
             0,
             0,
             0,
             0,
             0,
             0,
             1
            ],
            [
             1,
             0,
             0,
             0,
             0,
             0,
             0,
             0,
             0,
             0,
             0,
             1
            ],
            [
             1,
             0,
             0,
             0,
             0,
             0,
             0,
             0,
             0,
             0,
             0,
             1
            ],
            [
             1,
             0,
             0,
             0,
             0,
             0,
             0,
             0,
             0,
             0,
             0,
             1
            ],
            [
             1,
             0,
             0,
             0,
             0,
             0,
             0,
             0,
             0,
             0,
             0,
             1
            ],
            [
             1,
             1,
             1,
             1,
             1,
             1,
             1,
             1,
             1,
             1,
             1,
             1
            ]
           ]
          }
         ]
        },
        {
         "data": [
          {
           "type": "heatmap",
           "z": [
            [
             1,
             1,
             1,
             1,
             1,
             1,
             1,
             1,
             1,
             1,
             1,
             1
            ],
            [
             1,
             0,
             0,
             0,
             0,
             0,
             0,
             0,
             0,
             0,
             0,
             1
            ],
            [
             1,
             0,
             0,
             0,
             0,
             0,
             0,
             0,
             0,
             0,
             0,
             1
            ],
            [
             1,
             0,
             0,
             0,
             0,
             0,
             0,
             0,
             0,
             0,
             0,
             1
            ],
            [
             1,
             0,
             0,
             0,
             0,
             0,
             0,
             0,
             0,
             0,
             0,
             1
            ],
            [
             1,
             0,
             0,
             0,
             2,
             0,
             0,
             0,
             0,
             0,
             0,
             1
            ],
            [
             1,
             9,
             0,
             3,
             2,
             0,
             0,
             0,
             0,
             0,
             0,
             1
            ],
            [
             1,
             0,
             0,
             0,
             0,
             0,
             0,
             0,
             0,
             0,
             0,
             1
            ],
            [
             1,
             0,
             0,
             0,
             0,
             0,
             0,
             0,
             0,
             0,
             0,
             1
            ],
            [
             1,
             0,
             0,
             0,
             0,
             0,
             0,
             0,
             0,
             0,
             0,
             1
            ],
            [
             1,
             0,
             0,
             0,
             0,
             0,
             0,
             0,
             0,
             0,
             0,
             1
            ],
            [
             1,
             1,
             1,
             1,
             1,
             1,
             1,
             1,
             1,
             1,
             1,
             1
            ]
           ]
          }
         ]
        },
        {
         "data": [
          {
           "type": "heatmap",
           "z": [
            [
             1,
             1,
             1,
             1,
             1,
             1,
             1,
             1,
             1,
             1,
             1,
             1
            ],
            [
             1,
             0,
             0,
             0,
             0,
             0,
             0,
             0,
             0,
             0,
             0,
             1
            ],
            [
             1,
             0,
             0,
             0,
             0,
             0,
             0,
             0,
             0,
             0,
             0,
             1
            ],
            [
             1,
             0,
             0,
             0,
             0,
             0,
             0,
             0,
             0,
             0,
             0,
             1
            ],
            [
             1,
             0,
             0,
             0,
             0,
             0,
             0,
             0,
             0,
             0,
             0,
             1
            ],
            [
             1,
             0,
             0,
             3,
             0,
             0,
             0,
             0,
             0,
             0,
             0,
             1
            ],
            [
             1,
             9,
             0,
             2,
             2,
             0,
             0,
             0,
             0,
             0,
             0,
             1
            ],
            [
             1,
             0,
             0,
             0,
             0,
             0,
             0,
             0,
             0,
             0,
             0,
             1
            ],
            [
             1,
             0,
             0,
             0,
             0,
             0,
             0,
             0,
             0,
             0,
             0,
             1
            ],
            [
             1,
             0,
             0,
             0,
             0,
             0,
             0,
             0,
             0,
             0,
             0,
             1
            ],
            [
             1,
             0,
             0,
             0,
             0,
             0,
             0,
             0,
             0,
             0,
             0,
             1
            ],
            [
             1,
             1,
             1,
             1,
             1,
             1,
             1,
             1,
             1,
             1,
             1,
             1
            ]
           ]
          }
         ]
        },
        {
         "data": [
          {
           "type": "heatmap",
           "z": [
            [
             1,
             1,
             1,
             1,
             1,
             1,
             1,
             1,
             1,
             1,
             1,
             1
            ],
            [
             1,
             0,
             0,
             0,
             0,
             0,
             0,
             0,
             0,
             0,
             0,
             1
            ],
            [
             1,
             0,
             0,
             0,
             0,
             0,
             0,
             0,
             0,
             0,
             0,
             1
            ],
            [
             1,
             0,
             0,
             0,
             0,
             0,
             0,
             0,
             0,
             0,
             0,
             1
            ],
            [
             1,
             0,
             0,
             3,
             0,
             0,
             0,
             0,
             0,
             0,
             0,
             1
            ],
            [
             1,
             0,
             0,
             2,
             0,
             0,
             0,
             0,
             0,
             0,
             0,
             1
            ],
            [
             1,
             9,
             0,
             2,
             0,
             0,
             0,
             0,
             0,
             0,
             0,
             1
            ],
            [
             1,
             0,
             0,
             0,
             0,
             0,
             0,
             0,
             0,
             0,
             0,
             1
            ],
            [
             1,
             0,
             0,
             0,
             0,
             0,
             0,
             0,
             0,
             0,
             0,
             1
            ],
            [
             1,
             0,
             0,
             0,
             0,
             0,
             0,
             0,
             0,
             0,
             0,
             1
            ],
            [
             1,
             0,
             0,
             0,
             0,
             0,
             0,
             0,
             0,
             0,
             0,
             1
            ],
            [
             1,
             1,
             1,
             1,
             1,
             1,
             1,
             1,
             1,
             1,
             1,
             1
            ]
           ]
          }
         ]
        },
        {
         "data": [
          {
           "type": "heatmap",
           "z": [
            [
             1,
             1,
             1,
             1,
             1,
             1,
             1,
             1,
             1,
             1,
             1,
             1
            ],
            [
             1,
             0,
             0,
             0,
             0,
             0,
             0,
             0,
             0,
             0,
             0,
             1
            ],
            [
             1,
             0,
             0,
             0,
             0,
             0,
             0,
             0,
             0,
             0,
             0,
             1
            ],
            [
             1,
             0,
             0,
             3,
             0,
             0,
             0,
             0,
             0,
             0,
             0,
             1
            ],
            [
             1,
             0,
             0,
             2,
             0,
             0,
             0,
             0,
             0,
             0,
             0,
             1
            ],
            [
             1,
             0,
             0,
             2,
             0,
             0,
             0,
             0,
             0,
             0,
             0,
             1
            ],
            [
             1,
             9,
             0,
             0,
             0,
             0,
             0,
             0,
             0,
             0,
             0,
             1
            ],
            [
             1,
             0,
             0,
             0,
             0,
             0,
             0,
             0,
             0,
             0,
             0,
             1
            ],
            [
             1,
             0,
             0,
             0,
             0,
             0,
             0,
             0,
             0,
             0,
             0,
             1
            ],
            [
             1,
             0,
             0,
             0,
             0,
             0,
             0,
             0,
             0,
             0,
             0,
             1
            ],
            [
             1,
             0,
             0,
             0,
             0,
             0,
             0,
             0,
             0,
             0,
             0,
             1
            ],
            [
             1,
             1,
             1,
             1,
             1,
             1,
             1,
             1,
             1,
             1,
             1,
             1
            ]
           ]
          }
         ]
        },
        {
         "data": [
          {
           "type": "heatmap",
           "z": [
            [
             1,
             1,
             1,
             1,
             1,
             1,
             1,
             1,
             1,
             1,
             1,
             1
            ],
            [
             1,
             0,
             0,
             0,
             0,
             0,
             0,
             0,
             0,
             0,
             0,
             1
            ],
            [
             1,
             0,
             0,
             0,
             0,
             0,
             0,
             0,
             0,
             0,
             0,
             1
            ],
            [
             1,
             0,
             3,
             2,
             0,
             0,
             0,
             0,
             0,
             0,
             0,
             1
            ],
            [
             1,
             0,
             0,
             2,
             0,
             0,
             0,
             0,
             0,
             0,
             0,
             1
            ],
            [
             1,
             0,
             0,
             0,
             0,
             0,
             0,
             0,
             0,
             0,
             0,
             1
            ],
            [
             1,
             9,
             0,
             0,
             0,
             0,
             0,
             0,
             0,
             0,
             0,
             1
            ],
            [
             1,
             0,
             0,
             0,
             0,
             0,
             0,
             0,
             0,
             0,
             0,
             1
            ],
            [
             1,
             0,
             0,
             0,
             0,
             0,
             0,
             0,
             0,
             0,
             0,
             1
            ],
            [
             1,
             0,
             0,
             0,
             0,
             0,
             0,
             0,
             0,
             0,
             0,
             1
            ],
            [
             1,
             0,
             0,
             0,
             0,
             0,
             0,
             0,
             0,
             0,
             0,
             1
            ],
            [
             1,
             1,
             1,
             1,
             1,
             1,
             1,
             1,
             1,
             1,
             1,
             1
            ]
           ]
          }
         ]
        },
        {
         "data": [
          {
           "type": "heatmap",
           "z": [
            [
             1,
             1,
             1,
             1,
             1,
             1,
             1,
             1,
             1,
             1,
             1,
             1
            ],
            [
             1,
             0,
             0,
             0,
             0,
             0,
             0,
             0,
             0,
             0,
             0,
             1
            ],
            [
             1,
             0,
             0,
             0,
             0,
             0,
             0,
             0,
             0,
             0,
             0,
             1
            ],
            [
             1,
             0,
             2,
             2,
             0,
             0,
             0,
             0,
             0,
             0,
             0,
             1
            ],
            [
             1,
             0,
             3,
             0,
             0,
             0,
             0,
             0,
             0,
             0,
             0,
             1
            ],
            [
             1,
             0,
             0,
             0,
             0,
             0,
             0,
             0,
             0,
             0,
             0,
             1
            ],
            [
             1,
             9,
             0,
             0,
             0,
             0,
             0,
             0,
             0,
             0,
             0,
             1
            ],
            [
             1,
             0,
             0,
             0,
             0,
             0,
             0,
             0,
             0,
             0,
             0,
             1
            ],
            [
             1,
             0,
             0,
             0,
             0,
             0,
             0,
             0,
             0,
             0,
             0,
             1
            ],
            [
             1,
             0,
             0,
             0,
             0,
             0,
             0,
             0,
             0,
             0,
             0,
             1
            ],
            [
             1,
             0,
             0,
             0,
             0,
             0,
             0,
             0,
             0,
             0,
             0,
             1
            ],
            [
             1,
             1,
             1,
             1,
             1,
             1,
             1,
             1,
             1,
             1,
             1,
             1
            ]
           ]
          }
         ]
        },
        {
         "data": [
          {
           "type": "heatmap",
           "z": [
            [
             1,
             1,
             1,
             1,
             1,
             1,
             1,
             1,
             1,
             1,
             1,
             1
            ],
            [
             1,
             0,
             0,
             0,
             0,
             0,
             0,
             0,
             0,
             0,
             0,
             1
            ],
            [
             1,
             0,
             0,
             0,
             0,
             0,
             0,
             0,
             0,
             0,
             0,
             1
            ],
            [
             1,
             0,
             2,
             0,
             0,
             0,
             0,
             0,
             0,
             0,
             0,
             1
            ],
            [
             1,
             0,
             2,
             0,
             0,
             0,
             0,
             0,
             0,
             0,
             0,
             1
            ],
            [
             1,
             0,
             3,
             0,
             0,
             0,
             0,
             0,
             0,
             0,
             0,
             1
            ],
            [
             1,
             9,
             0,
             0,
             0,
             0,
             0,
             0,
             0,
             0,
             0,
             1
            ],
            [
             1,
             0,
             0,
             0,
             0,
             0,
             0,
             0,
             0,
             0,
             0,
             1
            ],
            [
             1,
             0,
             0,
             0,
             0,
             0,
             0,
             0,
             0,
             0,
             0,
             1
            ],
            [
             1,
             0,
             0,
             0,
             0,
             0,
             0,
             0,
             0,
             0,
             0,
             1
            ],
            [
             1,
             0,
             0,
             0,
             0,
             0,
             0,
             0,
             0,
             0,
             0,
             1
            ],
            [
             1,
             1,
             1,
             1,
             1,
             1,
             1,
             1,
             1,
             1,
             1,
             1
            ]
           ]
          }
         ]
        },
        {
         "data": [
          {
           "type": "heatmap",
           "z": [
            [
             1,
             1,
             1,
             1,
             1,
             1,
             1,
             1,
             1,
             1,
             1,
             1
            ],
            [
             1,
             0,
             0,
             0,
             0,
             0,
             0,
             0,
             0,
             0,
             0,
             1
            ],
            [
             1,
             0,
             0,
             0,
             0,
             0,
             0,
             0,
             0,
             0,
             0,
             1
            ],
            [
             1,
             0,
             0,
             0,
             0,
             0,
             0,
             0,
             0,
             0,
             0,
             1
            ],
            [
             1,
             0,
             2,
             0,
             0,
             0,
             0,
             0,
             0,
             0,
             0,
             1
            ],
            [
             1,
             0,
             2,
             3,
             0,
             0,
             0,
             0,
             0,
             0,
             0,
             1
            ],
            [
             1,
             9,
             0,
             0,
             0,
             0,
             0,
             0,
             0,
             0,
             0,
             1
            ],
            [
             1,
             0,
             0,
             0,
             0,
             0,
             0,
             0,
             0,
             0,
             0,
             1
            ],
            [
             1,
             0,
             0,
             0,
             0,
             0,
             0,
             0,
             0,
             0,
             0,
             1
            ],
            [
             1,
             0,
             0,
             0,
             0,
             0,
             0,
             0,
             0,
             0,
             0,
             1
            ],
            [
             1,
             0,
             0,
             0,
             0,
             0,
             0,
             0,
             0,
             0,
             0,
             1
            ],
            [
             1,
             1,
             1,
             1,
             1,
             1,
             1,
             1,
             1,
             1,
             1,
             1
            ]
           ]
          }
         ]
        },
        {
         "data": [
          {
           "type": "heatmap",
           "z": [
            [
             1,
             1,
             1,
             1,
             1,
             1,
             1,
             1,
             1,
             1,
             1,
             1
            ],
            [
             1,
             0,
             0,
             0,
             0,
             0,
             0,
             0,
             0,
             0,
             0,
             1
            ],
            [
             1,
             0,
             0,
             0,
             0,
             0,
             0,
             0,
             0,
             0,
             0,
             1
            ],
            [
             1,
             0,
             0,
             0,
             0,
             0,
             0,
             0,
             0,
             0,
             0,
             1
            ],
            [
             1,
             0,
             0,
             0,
             0,
             0,
             0,
             0,
             0,
             0,
             0,
             1
            ],
            [
             1,
             0,
             2,
             2,
             3,
             0,
             0,
             0,
             0,
             0,
             0,
             1
            ],
            [
             1,
             9,
             0,
             0,
             0,
             0,
             0,
             0,
             0,
             0,
             0,
             1
            ],
            [
             1,
             0,
             0,
             0,
             0,
             0,
             0,
             0,
             0,
             0,
             0,
             1
            ],
            [
             1,
             0,
             0,
             0,
             0,
             0,
             0,
             0,
             0,
             0,
             0,
             1
            ],
            [
             1,
             0,
             0,
             0,
             0,
             0,
             0,
             0,
             0,
             0,
             0,
             1
            ],
            [
             1,
             0,
             0,
             0,
             0,
             0,
             0,
             0,
             0,
             0,
             0,
             1
            ],
            [
             1,
             1,
             1,
             1,
             1,
             1,
             1,
             1,
             1,
             1,
             1,
             1
            ]
           ]
          }
         ]
        },
        {
         "data": [
          {
           "type": "heatmap",
           "z": [
            [
             1,
             1,
             1,
             1,
             1,
             1,
             1,
             1,
             1,
             1,
             1,
             1
            ],
            [
             1,
             0,
             0,
             0,
             0,
             0,
             0,
             0,
             0,
             0,
             0,
             1
            ],
            [
             1,
             0,
             0,
             0,
             0,
             0,
             0,
             0,
             0,
             0,
             0,
             1
            ],
            [
             1,
             0,
             0,
             0,
             0,
             0,
             0,
             0,
             0,
             0,
             0,
             1
            ],
            [
             1,
             0,
             0,
             0,
             0,
             0,
             0,
             0,
             0,
             0,
             0,
             1
            ],
            [
             1,
             0,
             0,
             2,
             2,
             3,
             0,
             0,
             0,
             0,
             0,
             1
            ],
            [
             1,
             9,
             0,
             0,
             0,
             0,
             0,
             0,
             0,
             0,
             0,
             1
            ],
            [
             1,
             0,
             0,
             0,
             0,
             0,
             0,
             0,
             0,
             0,
             0,
             1
            ],
            [
             1,
             0,
             0,
             0,
             0,
             0,
             0,
             0,
             0,
             0,
             0,
             1
            ],
            [
             1,
             0,
             0,
             0,
             0,
             0,
             0,
             0,
             0,
             0,
             0,
             1
            ],
            [
             1,
             0,
             0,
             0,
             0,
             0,
             0,
             0,
             0,
             0,
             0,
             1
            ],
            [
             1,
             1,
             1,
             1,
             1,
             1,
             1,
             1,
             1,
             1,
             1,
             1
            ]
           ]
          }
         ]
        },
        {
         "data": [
          {
           "type": "heatmap",
           "z": [
            [
             1,
             1,
             1,
             1,
             1,
             1,
             1,
             1,
             1,
             1,
             1,
             1
            ],
            [
             1,
             0,
             0,
             0,
             0,
             0,
             0,
             0,
             0,
             0,
             0,
             1
            ],
            [
             1,
             0,
             0,
             0,
             0,
             0,
             0,
             0,
             0,
             0,
             0,
             1
            ],
            [
             1,
             0,
             0,
             0,
             0,
             0,
             0,
             0,
             0,
             0,
             0,
             1
            ],
            [
             1,
             0,
             0,
             0,
             0,
             0,
             0,
             0,
             0,
             0,
             0,
             1
            ],
            [
             1,
             0,
             0,
             0,
             2,
             2,
             3,
             0,
             0,
             0,
             0,
             1
            ],
            [
             1,
             9,
             0,
             0,
             0,
             0,
             0,
             0,
             0,
             0,
             0,
             1
            ],
            [
             1,
             0,
             0,
             0,
             0,
             0,
             0,
             0,
             0,
             0,
             0,
             1
            ],
            [
             1,
             0,
             0,
             0,
             0,
             0,
             0,
             0,
             0,
             0,
             0,
             1
            ],
            [
             1,
             0,
             0,
             0,
             0,
             0,
             0,
             0,
             0,
             0,
             0,
             1
            ],
            [
             1,
             0,
             0,
             0,
             0,
             0,
             0,
             0,
             0,
             0,
             0,
             1
            ],
            [
             1,
             1,
             1,
             1,
             1,
             1,
             1,
             1,
             1,
             1,
             1,
             1
            ]
           ]
          }
         ]
        },
        {
         "data": [
          {
           "type": "heatmap",
           "z": [
            [
             1,
             1,
             1,
             1,
             1,
             1,
             1,
             1,
             1,
             1,
             1,
             1
            ],
            [
             1,
             0,
             0,
             0,
             0,
             0,
             0,
             0,
             0,
             0,
             0,
             1
            ],
            [
             1,
             0,
             0,
             0,
             0,
             0,
             0,
             0,
             0,
             0,
             0,
             1
            ],
            [
             1,
             0,
             0,
             0,
             0,
             0,
             0,
             0,
             0,
             0,
             0,
             1
            ],
            [
             1,
             0,
             0,
             0,
             0,
             0,
             0,
             0,
             0,
             0,
             0,
             1
            ],
            [
             1,
             0,
             0,
             0,
             0,
             2,
             2,
             3,
             0,
             0,
             0,
             1
            ],
            [
             1,
             9,
             0,
             0,
             0,
             0,
             0,
             0,
             0,
             0,
             0,
             1
            ],
            [
             1,
             0,
             0,
             0,
             0,
             0,
             0,
             0,
             0,
             0,
             0,
             1
            ],
            [
             1,
             0,
             0,
             0,
             0,
             0,
             0,
             0,
             0,
             0,
             0,
             1
            ],
            [
             1,
             0,
             0,
             0,
             0,
             0,
             0,
             0,
             0,
             0,
             0,
             1
            ],
            [
             1,
             0,
             0,
             0,
             0,
             0,
             0,
             0,
             0,
             0,
             0,
             1
            ],
            [
             1,
             1,
             1,
             1,
             1,
             1,
             1,
             1,
             1,
             1,
             1,
             1
            ]
           ]
          }
         ]
        },
        {
         "data": [
          {
           "type": "heatmap",
           "z": [
            [
             1,
             1,
             1,
             1,
             1,
             1,
             1,
             1,
             1,
             1,
             1,
             1
            ],
            [
             1,
             0,
             0,
             0,
             0,
             0,
             0,
             0,
             0,
             0,
             0,
             1
            ],
            [
             1,
             0,
             0,
             0,
             0,
             0,
             0,
             0,
             0,
             0,
             0,
             1
            ],
            [
             1,
             0,
             0,
             0,
             0,
             0,
             0,
             0,
             0,
             0,
             0,
             1
            ],
            [
             1,
             0,
             0,
             0,
             0,
             0,
             0,
             0,
             0,
             0,
             0,
             1
            ],
            [
             1,
             0,
             0,
             0,
             0,
             0,
             2,
             2,
             3,
             0,
             0,
             1
            ],
            [
             1,
             9,
             0,
             0,
             0,
             0,
             0,
             0,
             0,
             0,
             0,
             1
            ],
            [
             1,
             0,
             0,
             0,
             0,
             0,
             0,
             0,
             0,
             0,
             0,
             1
            ],
            [
             1,
             0,
             0,
             0,
             0,
             0,
             0,
             0,
             0,
             0,
             0,
             1
            ],
            [
             1,
             0,
             0,
             0,
             0,
             0,
             0,
             0,
             0,
             0,
             0,
             1
            ],
            [
             1,
             0,
             0,
             0,
             0,
             0,
             0,
             0,
             0,
             0,
             0,
             1
            ],
            [
             1,
             1,
             1,
             1,
             1,
             1,
             1,
             1,
             1,
             1,
             1,
             1
            ]
           ]
          }
         ]
        },
        {
         "data": [
          {
           "type": "heatmap",
           "z": [
            [
             1,
             1,
             1,
             1,
             1,
             1,
             1,
             1,
             1,
             1,
             1,
             1
            ],
            [
             1,
             0,
             0,
             0,
             0,
             0,
             0,
             0,
             0,
             0,
             0,
             1
            ],
            [
             1,
             0,
             0,
             0,
             0,
             0,
             0,
             0,
             0,
             0,
             0,
             1
            ],
            [
             1,
             0,
             0,
             0,
             0,
             0,
             0,
             0,
             0,
             0,
             0,
             1
            ],
            [
             1,
             0,
             0,
             0,
             0,
             0,
             0,
             0,
             0,
             0,
             0,
             1
            ],
            [
             1,
             0,
             0,
             0,
             0,
             0,
             0,
             2,
             2,
             3,
             0,
             1
            ],
            [
             1,
             9,
             0,
             0,
             0,
             0,
             0,
             0,
             0,
             0,
             0,
             1
            ],
            [
             1,
             0,
             0,
             0,
             0,
             0,
             0,
             0,
             0,
             0,
             0,
             1
            ],
            [
             1,
             0,
             0,
             0,
             0,
             0,
             0,
             0,
             0,
             0,
             0,
             1
            ],
            [
             1,
             0,
             0,
             0,
             0,
             0,
             0,
             0,
             0,
             0,
             0,
             1
            ],
            [
             1,
             0,
             0,
             0,
             0,
             0,
             0,
             0,
             0,
             0,
             0,
             1
            ],
            [
             1,
             1,
             1,
             1,
             1,
             1,
             1,
             1,
             1,
             1,
             1,
             1
            ]
           ]
          }
         ]
        },
        {
         "data": [
          {
           "type": "heatmap",
           "z": [
            [
             1,
             1,
             1,
             1,
             1,
             1,
             1,
             1,
             1,
             1,
             1,
             1
            ],
            [
             1,
             0,
             0,
             0,
             0,
             0,
             0,
             0,
             0,
             0,
             0,
             1
            ],
            [
             1,
             0,
             0,
             0,
             0,
             0,
             0,
             0,
             0,
             0,
             0,
             1
            ],
            [
             1,
             0,
             0,
             0,
             0,
             0,
             0,
             0,
             0,
             0,
             0,
             1
            ],
            [
             1,
             0,
             0,
             0,
             0,
             0,
             0,
             0,
             0,
             0,
             0,
             1
            ],
            [
             1,
             0,
             0,
             0,
             0,
             0,
             0,
             0,
             2,
             2,
             3,
             1
            ],
            [
             1,
             9,
             0,
             0,
             0,
             0,
             0,
             0,
             0,
             0,
             0,
             1
            ],
            [
             1,
             0,
             0,
             0,
             0,
             0,
             0,
             0,
             0,
             0,
             0,
             1
            ],
            [
             1,
             0,
             0,
             0,
             0,
             0,
             0,
             0,
             0,
             0,
             0,
             1
            ],
            [
             1,
             0,
             0,
             0,
             0,
             0,
             0,
             0,
             0,
             0,
             0,
             1
            ],
            [
             1,
             0,
             0,
             0,
             0,
             0,
             0,
             0,
             0,
             0,
             0,
             1
            ],
            [
             1,
             1,
             1,
             1,
             1,
             1,
             1,
             1,
             1,
             1,
             1,
             1
            ]
           ]
          }
         ]
        }
       ],
       "layout": {
        "autosize": false,
        "height": 700,
        "template": {
         "data": {
          "bar": [
           {
            "error_x": {
             "color": "#2a3f5f"
            },
            "error_y": {
             "color": "#2a3f5f"
            },
            "marker": {
             "line": {
              "color": "#E5ECF6",
              "width": 0.5
             }
            },
            "type": "bar"
           }
          ],
          "barpolar": [
           {
            "marker": {
             "line": {
              "color": "#E5ECF6",
              "width": 0.5
             }
            },
            "type": "barpolar"
           }
          ],
          "carpet": [
           {
            "aaxis": {
             "endlinecolor": "#2a3f5f",
             "gridcolor": "white",
             "linecolor": "white",
             "minorgridcolor": "white",
             "startlinecolor": "#2a3f5f"
            },
            "baxis": {
             "endlinecolor": "#2a3f5f",
             "gridcolor": "white",
             "linecolor": "white",
             "minorgridcolor": "white",
             "startlinecolor": "#2a3f5f"
            },
            "type": "carpet"
           }
          ],
          "choropleth": [
           {
            "colorbar": {
             "outlinewidth": 0,
             "ticks": ""
            },
            "type": "choropleth"
           }
          ],
          "contour": [
           {
            "colorbar": {
             "outlinewidth": 0,
             "ticks": ""
            },
            "colorscale": [
             [
              0,
              "#0d0887"
             ],
             [
              0.1111111111111111,
              "#46039f"
             ],
             [
              0.2222222222222222,
              "#7201a8"
             ],
             [
              0.3333333333333333,
              "#9c179e"
             ],
             [
              0.4444444444444444,
              "#bd3786"
             ],
             [
              0.5555555555555556,
              "#d8576b"
             ],
             [
              0.6666666666666666,
              "#ed7953"
             ],
             [
              0.7777777777777778,
              "#fb9f3a"
             ],
             [
              0.8888888888888888,
              "#fdca26"
             ],
             [
              1,
              "#f0f921"
             ]
            ],
            "type": "contour"
           }
          ],
          "contourcarpet": [
           {
            "colorbar": {
             "outlinewidth": 0,
             "ticks": ""
            },
            "type": "contourcarpet"
           }
          ],
          "heatmap": [
           {
            "colorbar": {
             "outlinewidth": 0,
             "ticks": ""
            },
            "colorscale": [
             [
              0,
              "#0d0887"
             ],
             [
              0.1111111111111111,
              "#46039f"
             ],
             [
              0.2222222222222222,
              "#7201a8"
             ],
             [
              0.3333333333333333,
              "#9c179e"
             ],
             [
              0.4444444444444444,
              "#bd3786"
             ],
             [
              0.5555555555555556,
              "#d8576b"
             ],
             [
              0.6666666666666666,
              "#ed7953"
             ],
             [
              0.7777777777777778,
              "#fb9f3a"
             ],
             [
              0.8888888888888888,
              "#fdca26"
             ],
             [
              1,
              "#f0f921"
             ]
            ],
            "type": "heatmap"
           }
          ],
          "heatmapgl": [
           {
            "colorbar": {
             "outlinewidth": 0,
             "ticks": ""
            },
            "colorscale": [
             [
              0,
              "#0d0887"
             ],
             [
              0.1111111111111111,
              "#46039f"
             ],
             [
              0.2222222222222222,
              "#7201a8"
             ],
             [
              0.3333333333333333,
              "#9c179e"
             ],
             [
              0.4444444444444444,
              "#bd3786"
             ],
             [
              0.5555555555555556,
              "#d8576b"
             ],
             [
              0.6666666666666666,
              "#ed7953"
             ],
             [
              0.7777777777777778,
              "#fb9f3a"
             ],
             [
              0.8888888888888888,
              "#fdca26"
             ],
             [
              1,
              "#f0f921"
             ]
            ],
            "type": "heatmapgl"
           }
          ],
          "histogram": [
           {
            "marker": {
             "colorbar": {
              "outlinewidth": 0,
              "ticks": ""
             }
            },
            "type": "histogram"
           }
          ],
          "histogram2d": [
           {
            "colorbar": {
             "outlinewidth": 0,
             "ticks": ""
            },
            "colorscale": [
             [
              0,
              "#0d0887"
             ],
             [
              0.1111111111111111,
              "#46039f"
             ],
             [
              0.2222222222222222,
              "#7201a8"
             ],
             [
              0.3333333333333333,
              "#9c179e"
             ],
             [
              0.4444444444444444,
              "#bd3786"
             ],
             [
              0.5555555555555556,
              "#d8576b"
             ],
             [
              0.6666666666666666,
              "#ed7953"
             ],
             [
              0.7777777777777778,
              "#fb9f3a"
             ],
             [
              0.8888888888888888,
              "#fdca26"
             ],
             [
              1,
              "#f0f921"
             ]
            ],
            "type": "histogram2d"
           }
          ],
          "histogram2dcontour": [
           {
            "colorbar": {
             "outlinewidth": 0,
             "ticks": ""
            },
            "colorscale": [
             [
              0,
              "#0d0887"
             ],
             [
              0.1111111111111111,
              "#46039f"
             ],
             [
              0.2222222222222222,
              "#7201a8"
             ],
             [
              0.3333333333333333,
              "#9c179e"
             ],
             [
              0.4444444444444444,
              "#bd3786"
             ],
             [
              0.5555555555555556,
              "#d8576b"
             ],
             [
              0.6666666666666666,
              "#ed7953"
             ],
             [
              0.7777777777777778,
              "#fb9f3a"
             ],
             [
              0.8888888888888888,
              "#fdca26"
             ],
             [
              1,
              "#f0f921"
             ]
            ],
            "type": "histogram2dcontour"
           }
          ],
          "mesh3d": [
           {
            "colorbar": {
             "outlinewidth": 0,
             "ticks": ""
            },
            "type": "mesh3d"
           }
          ],
          "parcoords": [
           {
            "line": {
             "colorbar": {
              "outlinewidth": 0,
              "ticks": ""
             }
            },
            "type": "parcoords"
           }
          ],
          "pie": [
           {
            "automargin": true,
            "type": "pie"
           }
          ],
          "scatter": [
           {
            "marker": {
             "colorbar": {
              "outlinewidth": 0,
              "ticks": ""
             }
            },
            "type": "scatter"
           }
          ],
          "scatter3d": [
           {
            "line": {
             "colorbar": {
              "outlinewidth": 0,
              "ticks": ""
             }
            },
            "marker": {
             "colorbar": {
              "outlinewidth": 0,
              "ticks": ""
             }
            },
            "type": "scatter3d"
           }
          ],
          "scattercarpet": [
           {
            "marker": {
             "colorbar": {
              "outlinewidth": 0,
              "ticks": ""
             }
            },
            "type": "scattercarpet"
           }
          ],
          "scattergeo": [
           {
            "marker": {
             "colorbar": {
              "outlinewidth": 0,
              "ticks": ""
             }
            },
            "type": "scattergeo"
           }
          ],
          "scattergl": [
           {
            "marker": {
             "colorbar": {
              "outlinewidth": 0,
              "ticks": ""
             }
            },
            "type": "scattergl"
           }
          ],
          "scattermapbox": [
           {
            "marker": {
             "colorbar": {
              "outlinewidth": 0,
              "ticks": ""
             }
            },
            "type": "scattermapbox"
           }
          ],
          "scatterpolar": [
           {
            "marker": {
             "colorbar": {
              "outlinewidth": 0,
              "ticks": ""
             }
            },
            "type": "scatterpolar"
           }
          ],
          "scatterpolargl": [
           {
            "marker": {
             "colorbar": {
              "outlinewidth": 0,
              "ticks": ""
             }
            },
            "type": "scatterpolargl"
           }
          ],
          "scatterternary": [
           {
            "marker": {
             "colorbar": {
              "outlinewidth": 0,
              "ticks": ""
             }
            },
            "type": "scatterternary"
           }
          ],
          "surface": [
           {
            "colorbar": {
             "outlinewidth": 0,
             "ticks": ""
            },
            "colorscale": [
             [
              0,
              "#0d0887"
             ],
             [
              0.1111111111111111,
              "#46039f"
             ],
             [
              0.2222222222222222,
              "#7201a8"
             ],
             [
              0.3333333333333333,
              "#9c179e"
             ],
             [
              0.4444444444444444,
              "#bd3786"
             ],
             [
              0.5555555555555556,
              "#d8576b"
             ],
             [
              0.6666666666666666,
              "#ed7953"
             ],
             [
              0.7777777777777778,
              "#fb9f3a"
             ],
             [
              0.8888888888888888,
              "#fdca26"
             ],
             [
              1,
              "#f0f921"
             ]
            ],
            "type": "surface"
           }
          ],
          "table": [
           {
            "cells": {
             "fill": {
              "color": "#EBF0F8"
             },
             "line": {
              "color": "white"
             }
            },
            "header": {
             "fill": {
              "color": "#C8D4E3"
             },
             "line": {
              "color": "white"
             }
            },
            "type": "table"
           }
          ]
         },
         "layout": {
          "annotationdefaults": {
           "arrowcolor": "#2a3f5f",
           "arrowhead": 0,
           "arrowwidth": 1
          },
          "autotypenumbers": "strict",
          "coloraxis": {
           "colorbar": {
            "outlinewidth": 0,
            "ticks": ""
           }
          },
          "colorscale": {
           "diverging": [
            [
             0,
             "#8e0152"
            ],
            [
             0.1,
             "#c51b7d"
            ],
            [
             0.2,
             "#de77ae"
            ],
            [
             0.3,
             "#f1b6da"
            ],
            [
             0.4,
             "#fde0ef"
            ],
            [
             0.5,
             "#f7f7f7"
            ],
            [
             0.6,
             "#e6f5d0"
            ],
            [
             0.7,
             "#b8e186"
            ],
            [
             0.8,
             "#7fbc41"
            ],
            [
             0.9,
             "#4d9221"
            ],
            [
             1,
             "#276419"
            ]
           ],
           "sequential": [
            [
             0,
             "#0d0887"
            ],
            [
             0.1111111111111111,
             "#46039f"
            ],
            [
             0.2222222222222222,
             "#7201a8"
            ],
            [
             0.3333333333333333,
             "#9c179e"
            ],
            [
             0.4444444444444444,
             "#bd3786"
            ],
            [
             0.5555555555555556,
             "#d8576b"
            ],
            [
             0.6666666666666666,
             "#ed7953"
            ],
            [
             0.7777777777777778,
             "#fb9f3a"
            ],
            [
             0.8888888888888888,
             "#fdca26"
            ],
            [
             1,
             "#f0f921"
            ]
           ],
           "sequentialminus": [
            [
             0,
             "#0d0887"
            ],
            [
             0.1111111111111111,
             "#46039f"
            ],
            [
             0.2222222222222222,
             "#7201a8"
            ],
            [
             0.3333333333333333,
             "#9c179e"
            ],
            [
             0.4444444444444444,
             "#bd3786"
            ],
            [
             0.5555555555555556,
             "#d8576b"
            ],
            [
             0.6666666666666666,
             "#ed7953"
            ],
            [
             0.7777777777777778,
             "#fb9f3a"
            ],
            [
             0.8888888888888888,
             "#fdca26"
            ],
            [
             1,
             "#f0f921"
            ]
           ]
          },
          "colorway": [
           "#636efa",
           "#EF553B",
           "#00cc96",
           "#ab63fa",
           "#FFA15A",
           "#19d3f3",
           "#FF6692",
           "#B6E880",
           "#FF97FF",
           "#FECB52"
          ],
          "font": {
           "color": "#2a3f5f"
          },
          "geo": {
           "bgcolor": "white",
           "lakecolor": "white",
           "landcolor": "#E5ECF6",
           "showlakes": true,
           "showland": true,
           "subunitcolor": "white"
          },
          "hoverlabel": {
           "align": "left"
          },
          "hovermode": "closest",
          "mapbox": {
           "style": "light"
          },
          "paper_bgcolor": "white",
          "plot_bgcolor": "#E5ECF6",
          "polar": {
           "angularaxis": {
            "gridcolor": "white",
            "linecolor": "white",
            "ticks": ""
           },
           "bgcolor": "#E5ECF6",
           "radialaxis": {
            "gridcolor": "white",
            "linecolor": "white",
            "ticks": ""
           }
          },
          "scene": {
           "xaxis": {
            "backgroundcolor": "#E5ECF6",
            "gridcolor": "white",
            "gridwidth": 2,
            "linecolor": "white",
            "showbackground": true,
            "ticks": "",
            "zerolinecolor": "white"
           },
           "yaxis": {
            "backgroundcolor": "#E5ECF6",
            "gridcolor": "white",
            "gridwidth": 2,
            "linecolor": "white",
            "showbackground": true,
            "ticks": "",
            "zerolinecolor": "white"
           },
           "zaxis": {
            "backgroundcolor": "#E5ECF6",
            "gridcolor": "white",
            "gridwidth": 2,
            "linecolor": "white",
            "showbackground": true,
            "ticks": "",
            "zerolinecolor": "white"
           }
          },
          "shapedefaults": {
           "line": {
            "color": "#2a3f5f"
           }
          },
          "ternary": {
           "aaxis": {
            "gridcolor": "white",
            "linecolor": "white",
            "ticks": ""
           },
           "baxis": {
            "gridcolor": "white",
            "linecolor": "white",
            "ticks": ""
           },
           "bgcolor": "#E5ECF6",
           "caxis": {
            "gridcolor": "white",
            "linecolor": "white",
            "ticks": ""
           }
          },
          "title": {
           "x": 0.05
          },
          "xaxis": {
           "automargin": true,
           "gridcolor": "white",
           "linecolor": "white",
           "ticks": "",
           "title": {
            "standoff": 15
           },
           "zerolinecolor": "white",
           "zerolinewidth": 2
          },
          "yaxis": {
           "automargin": true,
           "gridcolor": "white",
           "linecolor": "white",
           "ticks": "",
           "title": {
            "standoff": 15
           },
           "zerolinecolor": "white",
           "zerolinewidth": 2
          }
         }
        },
        "title": {
         "text": "Start Title"
        },
        "updatemenus": [
         {
          "buttons": [
           {
            "args": [
             null,
             {
              "frame": {
               "duration": 500,
               "redraw": true
              },
              "fromcurrent": true,
              "transition": {
               "duration": 300,
               "easing": "quadratic-in-out"
              }
             }
            ],
            "label": "Play",
            "method": "animate"
           },
           {
            "args": [
             [
              null
             ],
             {
              "frame": {
               "duration": 0,
               "redraw": true
              },
              "mode": "immediate",
              "transition": {
               "duration": 0
              }
             }
            ],
            "label": "Pause",
            "method": "animate"
           }
          ]
         }
        ],
        "width": 700
       }
      },
      "text/html": [
       "<div>                            <div id=\"b4414924-7027-4058-a0c4-68eae3fc248d\" class=\"plotly-graph-div\" style=\"height:700px; width:700px;\"></div>            <script type=\"text/javascript\">                require([\"plotly\"], function(Plotly) {                    window.PLOTLYENV=window.PLOTLYENV || {};                                    if (document.getElementById(\"b4414924-7027-4058-a0c4-68eae3fc248d\")) {                    Plotly.newPlot(                        \"b4414924-7027-4058-a0c4-68eae3fc248d\",                        [{\"type\": \"heatmap\", \"z\": [[1, 1, 1, 1, 1, 1, 1, 1, 1, 1, 1, 1], [1, 0, 0, 0, 0, 0, 0, 0, 0, 0, 0, 1], [1, 0, 0, 0, 0, 0, 0, 0, 0, 0, 0, 1], [1, 0, 0, 0, 0, 0, 0, 0, 0, 0, 0, 1], [1, 0, 0, 0, 0, 0, 0, 0, 0, 0, 0, 1], [1, 2, 2, 3, 0, 0, 0, 0, 0, 0, 0, 1], [1, 9, 0, 0, 0, 0, 0, 0, 0, 0, 0, 1], [1, 0, 0, 0, 0, 0, 0, 0, 0, 0, 0, 1], [1, 0, 0, 0, 0, 0, 0, 0, 0, 0, 0, 1], [1, 0, 0, 0, 0, 0, 0, 0, 0, 0, 0, 1], [1, 0, 0, 0, 0, 0, 0, 0, 0, 0, 0, 1], [1, 1, 1, 1, 1, 1, 1, 1, 1, 1, 1, 1]]}],                        {\"autosize\": false, \"height\": 700, \"template\": {\"data\": {\"bar\": [{\"error_x\": {\"color\": \"#2a3f5f\"}, \"error_y\": {\"color\": \"#2a3f5f\"}, \"marker\": {\"line\": {\"color\": \"#E5ECF6\", \"width\": 0.5}}, \"type\": \"bar\"}], \"barpolar\": [{\"marker\": {\"line\": {\"color\": \"#E5ECF6\", \"width\": 0.5}}, \"type\": \"barpolar\"}], \"carpet\": [{\"aaxis\": {\"endlinecolor\": \"#2a3f5f\", \"gridcolor\": \"white\", \"linecolor\": \"white\", \"minorgridcolor\": \"white\", \"startlinecolor\": \"#2a3f5f\"}, \"baxis\": {\"endlinecolor\": \"#2a3f5f\", \"gridcolor\": \"white\", \"linecolor\": \"white\", \"minorgridcolor\": \"white\", \"startlinecolor\": \"#2a3f5f\"}, \"type\": \"carpet\"}], \"choropleth\": [{\"colorbar\": {\"outlinewidth\": 0, \"ticks\": \"\"}, \"type\": \"choropleth\"}], \"contour\": [{\"colorbar\": {\"outlinewidth\": 0, \"ticks\": \"\"}, \"colorscale\": [[0.0, \"#0d0887\"], [0.1111111111111111, \"#46039f\"], [0.2222222222222222, \"#7201a8\"], [0.3333333333333333, \"#9c179e\"], [0.4444444444444444, \"#bd3786\"], [0.5555555555555556, \"#d8576b\"], [0.6666666666666666, \"#ed7953\"], [0.7777777777777778, \"#fb9f3a\"], [0.8888888888888888, \"#fdca26\"], [1.0, \"#f0f921\"]], \"type\": \"contour\"}], \"contourcarpet\": [{\"colorbar\": {\"outlinewidth\": 0, \"ticks\": \"\"}, \"type\": \"contourcarpet\"}], \"heatmap\": [{\"colorbar\": {\"outlinewidth\": 0, \"ticks\": \"\"}, \"colorscale\": [[0.0, \"#0d0887\"], [0.1111111111111111, \"#46039f\"], [0.2222222222222222, \"#7201a8\"], [0.3333333333333333, \"#9c179e\"], [0.4444444444444444, \"#bd3786\"], [0.5555555555555556, \"#d8576b\"], [0.6666666666666666, \"#ed7953\"], [0.7777777777777778, \"#fb9f3a\"], [0.8888888888888888, \"#fdca26\"], [1.0, \"#f0f921\"]], \"type\": \"heatmap\"}], \"heatmapgl\": [{\"colorbar\": {\"outlinewidth\": 0, \"ticks\": \"\"}, \"colorscale\": [[0.0, \"#0d0887\"], [0.1111111111111111, \"#46039f\"], [0.2222222222222222, \"#7201a8\"], [0.3333333333333333, \"#9c179e\"], [0.4444444444444444, \"#bd3786\"], [0.5555555555555556, \"#d8576b\"], [0.6666666666666666, \"#ed7953\"], [0.7777777777777778, \"#fb9f3a\"], [0.8888888888888888, \"#fdca26\"], [1.0, \"#f0f921\"]], \"type\": \"heatmapgl\"}], \"histogram\": [{\"marker\": {\"colorbar\": {\"outlinewidth\": 0, \"ticks\": \"\"}}, \"type\": \"histogram\"}], \"histogram2d\": [{\"colorbar\": {\"outlinewidth\": 0, \"ticks\": \"\"}, \"colorscale\": [[0.0, \"#0d0887\"], [0.1111111111111111, \"#46039f\"], [0.2222222222222222, \"#7201a8\"], [0.3333333333333333, \"#9c179e\"], [0.4444444444444444, \"#bd3786\"], [0.5555555555555556, \"#d8576b\"], [0.6666666666666666, \"#ed7953\"], [0.7777777777777778, \"#fb9f3a\"], [0.8888888888888888, \"#fdca26\"], [1.0, \"#f0f921\"]], \"type\": \"histogram2d\"}], \"histogram2dcontour\": [{\"colorbar\": {\"outlinewidth\": 0, \"ticks\": \"\"}, \"colorscale\": [[0.0, \"#0d0887\"], [0.1111111111111111, \"#46039f\"], [0.2222222222222222, \"#7201a8\"], [0.3333333333333333, \"#9c179e\"], [0.4444444444444444, \"#bd3786\"], [0.5555555555555556, \"#d8576b\"], [0.6666666666666666, \"#ed7953\"], [0.7777777777777778, \"#fb9f3a\"], [0.8888888888888888, \"#fdca26\"], [1.0, \"#f0f921\"]], \"type\": \"histogram2dcontour\"}], \"mesh3d\": [{\"colorbar\": {\"outlinewidth\": 0, \"ticks\": \"\"}, \"type\": \"mesh3d\"}], \"parcoords\": [{\"line\": {\"colorbar\": {\"outlinewidth\": 0, \"ticks\": \"\"}}, \"type\": \"parcoords\"}], \"pie\": [{\"automargin\": true, \"type\": \"pie\"}], \"scatter\": [{\"marker\": {\"colorbar\": {\"outlinewidth\": 0, \"ticks\": \"\"}}, \"type\": \"scatter\"}], \"scatter3d\": [{\"line\": {\"colorbar\": {\"outlinewidth\": 0, \"ticks\": \"\"}}, \"marker\": {\"colorbar\": {\"outlinewidth\": 0, \"ticks\": \"\"}}, \"type\": \"scatter3d\"}], \"scattercarpet\": [{\"marker\": {\"colorbar\": {\"outlinewidth\": 0, \"ticks\": \"\"}}, \"type\": \"scattercarpet\"}], \"scattergeo\": [{\"marker\": {\"colorbar\": {\"outlinewidth\": 0, \"ticks\": \"\"}}, \"type\": \"scattergeo\"}], \"scattergl\": [{\"marker\": {\"colorbar\": {\"outlinewidth\": 0, \"ticks\": \"\"}}, \"type\": \"scattergl\"}], \"scattermapbox\": [{\"marker\": {\"colorbar\": {\"outlinewidth\": 0, \"ticks\": \"\"}}, \"type\": \"scattermapbox\"}], \"scatterpolar\": [{\"marker\": {\"colorbar\": {\"outlinewidth\": 0, \"ticks\": \"\"}}, \"type\": \"scatterpolar\"}], \"scatterpolargl\": [{\"marker\": {\"colorbar\": {\"outlinewidth\": 0, \"ticks\": \"\"}}, \"type\": \"scatterpolargl\"}], \"scatterternary\": [{\"marker\": {\"colorbar\": {\"outlinewidth\": 0, \"ticks\": \"\"}}, \"type\": \"scatterternary\"}], \"surface\": [{\"colorbar\": {\"outlinewidth\": 0, \"ticks\": \"\"}, \"colorscale\": [[0.0, \"#0d0887\"], [0.1111111111111111, \"#46039f\"], [0.2222222222222222, \"#7201a8\"], [0.3333333333333333, \"#9c179e\"], [0.4444444444444444, \"#bd3786\"], [0.5555555555555556, \"#d8576b\"], [0.6666666666666666, \"#ed7953\"], [0.7777777777777778, \"#fb9f3a\"], [0.8888888888888888, \"#fdca26\"], [1.0, \"#f0f921\"]], \"type\": \"surface\"}], \"table\": [{\"cells\": {\"fill\": {\"color\": \"#EBF0F8\"}, \"line\": {\"color\": \"white\"}}, \"header\": {\"fill\": {\"color\": \"#C8D4E3\"}, \"line\": {\"color\": \"white\"}}, \"type\": \"table\"}]}, \"layout\": {\"annotationdefaults\": {\"arrowcolor\": \"#2a3f5f\", \"arrowhead\": 0, \"arrowwidth\": 1}, \"autotypenumbers\": \"strict\", \"coloraxis\": {\"colorbar\": {\"outlinewidth\": 0, \"ticks\": \"\"}}, \"colorscale\": {\"diverging\": [[0, \"#8e0152\"], [0.1, \"#c51b7d\"], [0.2, \"#de77ae\"], [0.3, \"#f1b6da\"], [0.4, \"#fde0ef\"], [0.5, \"#f7f7f7\"], [0.6, \"#e6f5d0\"], [0.7, \"#b8e186\"], [0.8, \"#7fbc41\"], [0.9, \"#4d9221\"], [1, \"#276419\"]], \"sequential\": [[0.0, \"#0d0887\"], [0.1111111111111111, \"#46039f\"], [0.2222222222222222, \"#7201a8\"], [0.3333333333333333, \"#9c179e\"], [0.4444444444444444, \"#bd3786\"], [0.5555555555555556, \"#d8576b\"], [0.6666666666666666, \"#ed7953\"], [0.7777777777777778, \"#fb9f3a\"], [0.8888888888888888, \"#fdca26\"], [1.0, \"#f0f921\"]], \"sequentialminus\": [[0.0, \"#0d0887\"], [0.1111111111111111, \"#46039f\"], [0.2222222222222222, \"#7201a8\"], [0.3333333333333333, \"#9c179e\"], [0.4444444444444444, \"#bd3786\"], [0.5555555555555556, \"#d8576b\"], [0.6666666666666666, \"#ed7953\"], [0.7777777777777778, \"#fb9f3a\"], [0.8888888888888888, \"#fdca26\"], [1.0, \"#f0f921\"]]}, \"colorway\": [\"#636efa\", \"#EF553B\", \"#00cc96\", \"#ab63fa\", \"#FFA15A\", \"#19d3f3\", \"#FF6692\", \"#B6E880\", \"#FF97FF\", \"#FECB52\"], \"font\": {\"color\": \"#2a3f5f\"}, \"geo\": {\"bgcolor\": \"white\", \"lakecolor\": \"white\", \"landcolor\": \"#E5ECF6\", \"showlakes\": true, \"showland\": true, \"subunitcolor\": \"white\"}, \"hoverlabel\": {\"align\": \"left\"}, \"hovermode\": \"closest\", \"mapbox\": {\"style\": \"light\"}, \"paper_bgcolor\": \"white\", \"plot_bgcolor\": \"#E5ECF6\", \"polar\": {\"angularaxis\": {\"gridcolor\": \"white\", \"linecolor\": \"white\", \"ticks\": \"\"}, \"bgcolor\": \"#E5ECF6\", \"radialaxis\": {\"gridcolor\": \"white\", \"linecolor\": \"white\", \"ticks\": \"\"}}, \"scene\": {\"xaxis\": {\"backgroundcolor\": \"#E5ECF6\", \"gridcolor\": \"white\", \"gridwidth\": 2, \"linecolor\": \"white\", \"showbackground\": true, \"ticks\": \"\", \"zerolinecolor\": \"white\"}, \"yaxis\": {\"backgroundcolor\": \"#E5ECF6\", \"gridcolor\": \"white\", \"gridwidth\": 2, \"linecolor\": \"white\", \"showbackground\": true, \"ticks\": \"\", \"zerolinecolor\": \"white\"}, \"zaxis\": {\"backgroundcolor\": \"#E5ECF6\", \"gridcolor\": \"white\", \"gridwidth\": 2, \"linecolor\": \"white\", \"showbackground\": true, \"ticks\": \"\", \"zerolinecolor\": \"white\"}}, \"shapedefaults\": {\"line\": {\"color\": \"#2a3f5f\"}}, \"ternary\": {\"aaxis\": {\"gridcolor\": \"white\", \"linecolor\": \"white\", \"ticks\": \"\"}, \"baxis\": {\"gridcolor\": \"white\", \"linecolor\": \"white\", \"ticks\": \"\"}, \"bgcolor\": \"#E5ECF6\", \"caxis\": {\"gridcolor\": \"white\", \"linecolor\": \"white\", \"ticks\": \"\"}}, \"title\": {\"x\": 0.05}, \"xaxis\": {\"automargin\": true, \"gridcolor\": \"white\", \"linecolor\": \"white\", \"ticks\": \"\", \"title\": {\"standoff\": 15}, \"zerolinecolor\": \"white\", \"zerolinewidth\": 2}, \"yaxis\": {\"automargin\": true, \"gridcolor\": \"white\", \"linecolor\": \"white\", \"ticks\": \"\", \"title\": {\"standoff\": 15}, \"zerolinecolor\": \"white\", \"zerolinewidth\": 2}}}, \"title\": {\"text\": \"Start Title\"}, \"updatemenus\": [{\"buttons\": [{\"args\": [null, {\"frame\": {\"duration\": 500, \"redraw\": true}, \"fromcurrent\": true, \"transition\": {\"duration\": 300, \"easing\": \"quadratic-in-out\"}}], \"label\": \"Play\", \"method\": \"animate\"}, {\"args\": [[null], {\"frame\": {\"duration\": 0, \"redraw\": true}, \"mode\": \"immediate\", \"transition\": {\"duration\": 0}}], \"label\": \"Pause\", \"method\": \"animate\"}]}], \"width\": 700},                        {\"responsive\": true}                    ).then(function(){\n",
       "                            Plotly.addFrames('b4414924-7027-4058-a0c4-68eae3fc248d', [{\"data\": [{\"z\": [[1, 1, 1, 1, 1, 1, 1, 1, 1, 1, 1, 1], [1, 0, 0, 0, 0, 0, 0, 0, 0, 0, 0, 1], [1, 0, 0, 0, 0, 0, 0, 0, 0, 0, 0, 1], [1, 0, 0, 0, 0, 0, 0, 0, 0, 0, 0, 1], [1, 0, 0, 0, 0, 0, 0, 0, 0, 0, 0, 1], [1, 2, 2, 3, 0, 0, 0, 0, 0, 0, 0, 1], [1, 9, 0, 0, 0, 0, 0, 0, 0, 0, 0, 1], [1, 0, 0, 0, 0, 0, 0, 0, 0, 0, 0, 1], [1, 0, 0, 0, 0, 0, 0, 0, 0, 0, 0, 1], [1, 0, 0, 0, 0, 0, 0, 0, 0, 0, 0, 1], [1, 0, 0, 0, 0, 0, 0, 0, 0, 0, 0, 1], [1, 1, 1, 1, 1, 1, 1, 1, 1, 1, 1, 1]], \"type\": \"heatmap\"}]}, {\"data\": [{\"z\": [[1, 1, 1, 1, 1, 1, 1, 1, 1, 1, 1, 1], [1, 0, 0, 0, 0, 0, 0, 0, 0, 0, 0, 1], [1, 0, 0, 0, 0, 0, 0, 0, 0, 0, 0, 1], [1, 0, 0, 0, 0, 0, 0, 0, 0, 0, 0, 1], [1, 0, 0, 0, 0, 0, 0, 0, 0, 0, 0, 1], [1, 0, 2, 2, 3, 0, 0, 0, 0, 0, 0, 1], [1, 9, 0, 0, 0, 0, 0, 0, 0, 0, 0, 1], [1, 0, 0, 0, 0, 0, 0, 0, 0, 0, 0, 1], [1, 0, 0, 0, 0, 0, 0, 0, 0, 0, 0, 1], [1, 0, 0, 0, 0, 0, 0, 0, 0, 0, 0, 1], [1, 0, 0, 0, 0, 0, 0, 0, 0, 0, 0, 1], [1, 1, 1, 1, 1, 1, 1, 1, 1, 1, 1, 1]], \"type\": \"heatmap\"}]}, {\"data\": [{\"z\": [[1, 1, 1, 1, 1, 1, 1, 1, 1, 1, 1, 1], [1, 0, 0, 0, 0, 0, 0, 0, 0, 0, 0, 1], [1, 0, 0, 0, 0, 0, 0, 0, 0, 0, 0, 1], [1, 0, 0, 0, 0, 0, 0, 0, 0, 0, 0, 1], [1, 0, 0, 0, 0, 0, 0, 0, 0, 0, 0, 1], [1, 0, 0, 2, 2, 0, 0, 0, 0, 0, 0, 1], [1, 9, 0, 0, 3, 0, 0, 0, 0, 0, 0, 1], [1, 0, 0, 0, 0, 0, 0, 0, 0, 0, 0, 1], [1, 0, 0, 0, 0, 0, 0, 0, 0, 0, 0, 1], [1, 0, 0, 0, 0, 0, 0, 0, 0, 0, 0, 1], [1, 0, 0, 0, 0, 0, 0, 0, 0, 0, 0, 1], [1, 1, 1, 1, 1, 1, 1, 1, 1, 1, 1, 1]], \"type\": \"heatmap\"}]}, {\"data\": [{\"z\": [[1, 1, 1, 1, 1, 1, 1, 1, 1, 1, 1, 1], [1, 0, 0, 0, 0, 0, 0, 0, 0, 0, 0, 1], [1, 0, 0, 0, 0, 0, 0, 0, 0, 0, 0, 1], [1, 0, 0, 0, 0, 0, 0, 0, 0, 0, 0, 1], [1, 0, 0, 0, 0, 0, 0, 0, 0, 0, 0, 1], [1, 0, 0, 0, 2, 0, 0, 0, 0, 0, 0, 1], [1, 9, 0, 3, 2, 0, 0, 0, 0, 0, 0, 1], [1, 0, 0, 0, 0, 0, 0, 0, 0, 0, 0, 1], [1, 0, 0, 0, 0, 0, 0, 0, 0, 0, 0, 1], [1, 0, 0, 0, 0, 0, 0, 0, 0, 0, 0, 1], [1, 0, 0, 0, 0, 0, 0, 0, 0, 0, 0, 1], [1, 1, 1, 1, 1, 1, 1, 1, 1, 1, 1, 1]], \"type\": \"heatmap\"}]}, {\"data\": [{\"z\": [[1, 1, 1, 1, 1, 1, 1, 1, 1, 1, 1, 1], [1, 0, 0, 0, 0, 0, 0, 0, 0, 0, 0, 1], [1, 0, 0, 0, 0, 0, 0, 0, 0, 0, 0, 1], [1, 0, 0, 0, 0, 0, 0, 0, 0, 0, 0, 1], [1, 0, 0, 0, 0, 0, 0, 0, 0, 0, 0, 1], [1, 0, 0, 3, 0, 0, 0, 0, 0, 0, 0, 1], [1, 9, 0, 2, 2, 0, 0, 0, 0, 0, 0, 1], [1, 0, 0, 0, 0, 0, 0, 0, 0, 0, 0, 1], [1, 0, 0, 0, 0, 0, 0, 0, 0, 0, 0, 1], [1, 0, 0, 0, 0, 0, 0, 0, 0, 0, 0, 1], [1, 0, 0, 0, 0, 0, 0, 0, 0, 0, 0, 1], [1, 1, 1, 1, 1, 1, 1, 1, 1, 1, 1, 1]], \"type\": \"heatmap\"}]}, {\"data\": [{\"z\": [[1, 1, 1, 1, 1, 1, 1, 1, 1, 1, 1, 1], [1, 0, 0, 0, 0, 0, 0, 0, 0, 0, 0, 1], [1, 0, 0, 0, 0, 0, 0, 0, 0, 0, 0, 1], [1, 0, 0, 0, 0, 0, 0, 0, 0, 0, 0, 1], [1, 0, 0, 3, 0, 0, 0, 0, 0, 0, 0, 1], [1, 0, 0, 2, 0, 0, 0, 0, 0, 0, 0, 1], [1, 9, 0, 2, 0, 0, 0, 0, 0, 0, 0, 1], [1, 0, 0, 0, 0, 0, 0, 0, 0, 0, 0, 1], [1, 0, 0, 0, 0, 0, 0, 0, 0, 0, 0, 1], [1, 0, 0, 0, 0, 0, 0, 0, 0, 0, 0, 1], [1, 0, 0, 0, 0, 0, 0, 0, 0, 0, 0, 1], [1, 1, 1, 1, 1, 1, 1, 1, 1, 1, 1, 1]], \"type\": \"heatmap\"}]}, {\"data\": [{\"z\": [[1, 1, 1, 1, 1, 1, 1, 1, 1, 1, 1, 1], [1, 0, 0, 0, 0, 0, 0, 0, 0, 0, 0, 1], [1, 0, 0, 0, 0, 0, 0, 0, 0, 0, 0, 1], [1, 0, 0, 3, 0, 0, 0, 0, 0, 0, 0, 1], [1, 0, 0, 2, 0, 0, 0, 0, 0, 0, 0, 1], [1, 0, 0, 2, 0, 0, 0, 0, 0, 0, 0, 1], [1, 9, 0, 0, 0, 0, 0, 0, 0, 0, 0, 1], [1, 0, 0, 0, 0, 0, 0, 0, 0, 0, 0, 1], [1, 0, 0, 0, 0, 0, 0, 0, 0, 0, 0, 1], [1, 0, 0, 0, 0, 0, 0, 0, 0, 0, 0, 1], [1, 0, 0, 0, 0, 0, 0, 0, 0, 0, 0, 1], [1, 1, 1, 1, 1, 1, 1, 1, 1, 1, 1, 1]], \"type\": \"heatmap\"}]}, {\"data\": [{\"z\": [[1, 1, 1, 1, 1, 1, 1, 1, 1, 1, 1, 1], [1, 0, 0, 0, 0, 0, 0, 0, 0, 0, 0, 1], [1, 0, 0, 0, 0, 0, 0, 0, 0, 0, 0, 1], [1, 0, 3, 2, 0, 0, 0, 0, 0, 0, 0, 1], [1, 0, 0, 2, 0, 0, 0, 0, 0, 0, 0, 1], [1, 0, 0, 0, 0, 0, 0, 0, 0, 0, 0, 1], [1, 9, 0, 0, 0, 0, 0, 0, 0, 0, 0, 1], [1, 0, 0, 0, 0, 0, 0, 0, 0, 0, 0, 1], [1, 0, 0, 0, 0, 0, 0, 0, 0, 0, 0, 1], [1, 0, 0, 0, 0, 0, 0, 0, 0, 0, 0, 1], [1, 0, 0, 0, 0, 0, 0, 0, 0, 0, 0, 1], [1, 1, 1, 1, 1, 1, 1, 1, 1, 1, 1, 1]], \"type\": \"heatmap\"}]}, {\"data\": [{\"z\": [[1, 1, 1, 1, 1, 1, 1, 1, 1, 1, 1, 1], [1, 0, 0, 0, 0, 0, 0, 0, 0, 0, 0, 1], [1, 0, 0, 0, 0, 0, 0, 0, 0, 0, 0, 1], [1, 0, 2, 2, 0, 0, 0, 0, 0, 0, 0, 1], [1, 0, 3, 0, 0, 0, 0, 0, 0, 0, 0, 1], [1, 0, 0, 0, 0, 0, 0, 0, 0, 0, 0, 1], [1, 9, 0, 0, 0, 0, 0, 0, 0, 0, 0, 1], [1, 0, 0, 0, 0, 0, 0, 0, 0, 0, 0, 1], [1, 0, 0, 0, 0, 0, 0, 0, 0, 0, 0, 1], [1, 0, 0, 0, 0, 0, 0, 0, 0, 0, 0, 1], [1, 0, 0, 0, 0, 0, 0, 0, 0, 0, 0, 1], [1, 1, 1, 1, 1, 1, 1, 1, 1, 1, 1, 1]], \"type\": \"heatmap\"}]}, {\"data\": [{\"z\": [[1, 1, 1, 1, 1, 1, 1, 1, 1, 1, 1, 1], [1, 0, 0, 0, 0, 0, 0, 0, 0, 0, 0, 1], [1, 0, 0, 0, 0, 0, 0, 0, 0, 0, 0, 1], [1, 0, 2, 0, 0, 0, 0, 0, 0, 0, 0, 1], [1, 0, 2, 0, 0, 0, 0, 0, 0, 0, 0, 1], [1, 0, 3, 0, 0, 0, 0, 0, 0, 0, 0, 1], [1, 9, 0, 0, 0, 0, 0, 0, 0, 0, 0, 1], [1, 0, 0, 0, 0, 0, 0, 0, 0, 0, 0, 1], [1, 0, 0, 0, 0, 0, 0, 0, 0, 0, 0, 1], [1, 0, 0, 0, 0, 0, 0, 0, 0, 0, 0, 1], [1, 0, 0, 0, 0, 0, 0, 0, 0, 0, 0, 1], [1, 1, 1, 1, 1, 1, 1, 1, 1, 1, 1, 1]], \"type\": \"heatmap\"}]}, {\"data\": [{\"z\": [[1, 1, 1, 1, 1, 1, 1, 1, 1, 1, 1, 1], [1, 0, 0, 0, 0, 0, 0, 0, 0, 0, 0, 1], [1, 0, 0, 0, 0, 0, 0, 0, 0, 0, 0, 1], [1, 0, 0, 0, 0, 0, 0, 0, 0, 0, 0, 1], [1, 0, 2, 0, 0, 0, 0, 0, 0, 0, 0, 1], [1, 0, 2, 3, 0, 0, 0, 0, 0, 0, 0, 1], [1, 9, 0, 0, 0, 0, 0, 0, 0, 0, 0, 1], [1, 0, 0, 0, 0, 0, 0, 0, 0, 0, 0, 1], [1, 0, 0, 0, 0, 0, 0, 0, 0, 0, 0, 1], [1, 0, 0, 0, 0, 0, 0, 0, 0, 0, 0, 1], [1, 0, 0, 0, 0, 0, 0, 0, 0, 0, 0, 1], [1, 1, 1, 1, 1, 1, 1, 1, 1, 1, 1, 1]], \"type\": \"heatmap\"}]}, {\"data\": [{\"z\": [[1, 1, 1, 1, 1, 1, 1, 1, 1, 1, 1, 1], [1, 0, 0, 0, 0, 0, 0, 0, 0, 0, 0, 1], [1, 0, 0, 0, 0, 0, 0, 0, 0, 0, 0, 1], [1, 0, 0, 0, 0, 0, 0, 0, 0, 0, 0, 1], [1, 0, 0, 0, 0, 0, 0, 0, 0, 0, 0, 1], [1, 0, 2, 2, 3, 0, 0, 0, 0, 0, 0, 1], [1, 9, 0, 0, 0, 0, 0, 0, 0, 0, 0, 1], [1, 0, 0, 0, 0, 0, 0, 0, 0, 0, 0, 1], [1, 0, 0, 0, 0, 0, 0, 0, 0, 0, 0, 1], [1, 0, 0, 0, 0, 0, 0, 0, 0, 0, 0, 1], [1, 0, 0, 0, 0, 0, 0, 0, 0, 0, 0, 1], [1, 1, 1, 1, 1, 1, 1, 1, 1, 1, 1, 1]], \"type\": \"heatmap\"}]}, {\"data\": [{\"z\": [[1, 1, 1, 1, 1, 1, 1, 1, 1, 1, 1, 1], [1, 0, 0, 0, 0, 0, 0, 0, 0, 0, 0, 1], [1, 0, 0, 0, 0, 0, 0, 0, 0, 0, 0, 1], [1, 0, 0, 0, 0, 0, 0, 0, 0, 0, 0, 1], [1, 0, 0, 0, 0, 0, 0, 0, 0, 0, 0, 1], [1, 0, 0, 2, 2, 3, 0, 0, 0, 0, 0, 1], [1, 9, 0, 0, 0, 0, 0, 0, 0, 0, 0, 1], [1, 0, 0, 0, 0, 0, 0, 0, 0, 0, 0, 1], [1, 0, 0, 0, 0, 0, 0, 0, 0, 0, 0, 1], [1, 0, 0, 0, 0, 0, 0, 0, 0, 0, 0, 1], [1, 0, 0, 0, 0, 0, 0, 0, 0, 0, 0, 1], [1, 1, 1, 1, 1, 1, 1, 1, 1, 1, 1, 1]], \"type\": \"heatmap\"}]}, {\"data\": [{\"z\": [[1, 1, 1, 1, 1, 1, 1, 1, 1, 1, 1, 1], [1, 0, 0, 0, 0, 0, 0, 0, 0, 0, 0, 1], [1, 0, 0, 0, 0, 0, 0, 0, 0, 0, 0, 1], [1, 0, 0, 0, 0, 0, 0, 0, 0, 0, 0, 1], [1, 0, 0, 0, 0, 0, 0, 0, 0, 0, 0, 1], [1, 0, 0, 0, 2, 2, 3, 0, 0, 0, 0, 1], [1, 9, 0, 0, 0, 0, 0, 0, 0, 0, 0, 1], [1, 0, 0, 0, 0, 0, 0, 0, 0, 0, 0, 1], [1, 0, 0, 0, 0, 0, 0, 0, 0, 0, 0, 1], [1, 0, 0, 0, 0, 0, 0, 0, 0, 0, 0, 1], [1, 0, 0, 0, 0, 0, 0, 0, 0, 0, 0, 1], [1, 1, 1, 1, 1, 1, 1, 1, 1, 1, 1, 1]], \"type\": \"heatmap\"}]}, {\"data\": [{\"z\": [[1, 1, 1, 1, 1, 1, 1, 1, 1, 1, 1, 1], [1, 0, 0, 0, 0, 0, 0, 0, 0, 0, 0, 1], [1, 0, 0, 0, 0, 0, 0, 0, 0, 0, 0, 1], [1, 0, 0, 0, 0, 0, 0, 0, 0, 0, 0, 1], [1, 0, 0, 0, 0, 0, 0, 0, 0, 0, 0, 1], [1, 0, 0, 0, 0, 2, 2, 3, 0, 0, 0, 1], [1, 9, 0, 0, 0, 0, 0, 0, 0, 0, 0, 1], [1, 0, 0, 0, 0, 0, 0, 0, 0, 0, 0, 1], [1, 0, 0, 0, 0, 0, 0, 0, 0, 0, 0, 1], [1, 0, 0, 0, 0, 0, 0, 0, 0, 0, 0, 1], [1, 0, 0, 0, 0, 0, 0, 0, 0, 0, 0, 1], [1, 1, 1, 1, 1, 1, 1, 1, 1, 1, 1, 1]], \"type\": \"heatmap\"}]}, {\"data\": [{\"z\": [[1, 1, 1, 1, 1, 1, 1, 1, 1, 1, 1, 1], [1, 0, 0, 0, 0, 0, 0, 0, 0, 0, 0, 1], [1, 0, 0, 0, 0, 0, 0, 0, 0, 0, 0, 1], [1, 0, 0, 0, 0, 0, 0, 0, 0, 0, 0, 1], [1, 0, 0, 0, 0, 0, 0, 0, 0, 0, 0, 1], [1, 0, 0, 0, 0, 0, 2, 2, 3, 0, 0, 1], [1, 9, 0, 0, 0, 0, 0, 0, 0, 0, 0, 1], [1, 0, 0, 0, 0, 0, 0, 0, 0, 0, 0, 1], [1, 0, 0, 0, 0, 0, 0, 0, 0, 0, 0, 1], [1, 0, 0, 0, 0, 0, 0, 0, 0, 0, 0, 1], [1, 0, 0, 0, 0, 0, 0, 0, 0, 0, 0, 1], [1, 1, 1, 1, 1, 1, 1, 1, 1, 1, 1, 1]], \"type\": \"heatmap\"}]}, {\"data\": [{\"z\": [[1, 1, 1, 1, 1, 1, 1, 1, 1, 1, 1, 1], [1, 0, 0, 0, 0, 0, 0, 0, 0, 0, 0, 1], [1, 0, 0, 0, 0, 0, 0, 0, 0, 0, 0, 1], [1, 0, 0, 0, 0, 0, 0, 0, 0, 0, 0, 1], [1, 0, 0, 0, 0, 0, 0, 0, 0, 0, 0, 1], [1, 0, 0, 0, 0, 0, 0, 2, 2, 3, 0, 1], [1, 9, 0, 0, 0, 0, 0, 0, 0, 0, 0, 1], [1, 0, 0, 0, 0, 0, 0, 0, 0, 0, 0, 1], [1, 0, 0, 0, 0, 0, 0, 0, 0, 0, 0, 1], [1, 0, 0, 0, 0, 0, 0, 0, 0, 0, 0, 1], [1, 0, 0, 0, 0, 0, 0, 0, 0, 0, 0, 1], [1, 1, 1, 1, 1, 1, 1, 1, 1, 1, 1, 1]], \"type\": \"heatmap\"}]}, {\"data\": [{\"z\": [[1, 1, 1, 1, 1, 1, 1, 1, 1, 1, 1, 1], [1, 0, 0, 0, 0, 0, 0, 0, 0, 0, 0, 1], [1, 0, 0, 0, 0, 0, 0, 0, 0, 0, 0, 1], [1, 0, 0, 0, 0, 0, 0, 0, 0, 0, 0, 1], [1, 0, 0, 0, 0, 0, 0, 0, 0, 0, 0, 1], [1, 0, 0, 0, 0, 0, 0, 0, 2, 2, 3, 1], [1, 9, 0, 0, 0, 0, 0, 0, 0, 0, 0, 1], [1, 0, 0, 0, 0, 0, 0, 0, 0, 0, 0, 1], [1, 0, 0, 0, 0, 0, 0, 0, 0, 0, 0, 1], [1, 0, 0, 0, 0, 0, 0, 0, 0, 0, 0, 1], [1, 0, 0, 0, 0, 0, 0, 0, 0, 0, 0, 1], [1, 1, 1, 1, 1, 1, 1, 1, 1, 1, 1, 1]], \"type\": \"heatmap\"}]}]);\n",
       "                        }).then(function(){\n",
       "                            \n",
       "var gd = document.getElementById('b4414924-7027-4058-a0c4-68eae3fc248d');\n",
       "var x = new MutationObserver(function (mutations, observer) {{\n",
       "        var display = window.getComputedStyle(gd).display;\n",
       "        if (!display || display === 'none') {{\n",
       "            console.log([gd, 'removed!']);\n",
       "            Plotly.purge(gd);\n",
       "            observer.disconnect();\n",
       "        }}\n",
       "}});\n",
       "\n",
       "// Listen for the removal of the full notebook cells\n",
       "var notebookContainer = gd.closest('#notebook-container');\n",
       "if (notebookContainer) {{\n",
       "    x.observe(notebookContainer, {childList: true});\n",
       "}}\n",
       "\n",
       "// Listen for the clearing of the current output cell\n",
       "var outputEl = gd.closest('.output');\n",
       "if (outputEl) {{\n",
       "    x.observe(outputEl, {childList: true});\n",
       "}}\n",
       "\n",
       "                        })                };                });            </script>        </div>"
      ]
     },
     "metadata": {},
     "output_type": "display_data"
    }
   ],
   "source": [
    "import plotly.graph_objects as go\n",
    "\n",
    "fig = go.Figure(\n",
    "    data=[go.Heatmap(z=grille_torch)],\n",
    "    layout=go.Layout(\n",
    "        title=\"Start Title\",\n",
    "        updatemenus=[{\n",
    "                    \"buttons\": [\n",
    "            {\n",
    "                \"args\": [None, {\"frame\": {\"duration\": 500, \"redraw\": True},\n",
    "                                \"fromcurrent\": True, \"transition\": {\"duration\": 300,\n",
    "                                                                    \"easing\": \"quadratic-in-out\"}}],\n",
    "                \"label\": \"Play\",\n",
    "                \"method\": \"animate\"\n",
    "            },\n",
    "            {\n",
    "                \"args\": [[None], {\"frame\": {\"duration\": 0, \"redraw\": True},\n",
    "                                  \"mode\": \"immediate\",\n",
    "                                  \"transition\": {\"duration\": 0}}],\n",
    "                \"label\": \"Pause\",\n",
    "                \"method\": \"animate\"\n",
    "            }\n",
    "        ],\n",
    "        }\n",
    "            \n",
    "        ]\n",
    "\n",
    "    ),\n",
    "    frames=[go.Frame(data=[go.Heatmap(z=g)]) for g in grilles_torch]\n",
    ")\n",
    "fig.update_layout(autosize=False,width = 700, height = 700,)\n",
    "fig.show()"
   ]
  },
  {
   "cell_type": "code",
   "execution_count": null,
   "metadata": {},
   "outputs": [],
   "source": []
  },
  {
   "cell_type": "code",
   "execution_count": 7,
   "metadata": {},
   "outputs": [],
   "source": [
    "class QLBot():\n",
    "    def __init__(self):\n",
    "        pass\n",
    "    def compute(a):\n",
    "        \n",
    "        return "
   ]
  },
  {
   "cell_type": "code",
   "execution_count": 36,
   "metadata": {},
   "outputs": [],
   "source": [
    "game_history = list(sn.play())"
   ]
  },
  {
   "cell_type": "code",
   "execution_count": 37,
   "metadata": {},
   "outputs": [],
   "source": [
    "grille_torch = list(game_history)[0][1]"
   ]
  },
  {
   "cell_type": "code",
   "execution_count": 21,
   "metadata": {},
   "outputs": [],
   "source": [
    "grilles_torch = [l[1] for l in list(game_history)]"
   ]
  },
  {
   "cell_type": "code",
   "execution_count": 22,
   "metadata": {},
   "outputs": [
    {
     "data": {
      "text/plain": [
       "[[[1, 1, 1, 1, 1, 1, 1, 1, 1, 1, 1, 1],\n",
       "  [1, 0, 0, 0, 0, 0, 0, 0, 0, 0, 0, 1],\n",
       "  [1, 0, 0, 0, 0, 0, 0, 0, 0, 0, 0, 1],\n",
       "  [1, 0, 0, 0, 0, 0, 0, 0, 0, 0, 0, 1],\n",
       "  [1, 0, 0, 0, 0, 0, 0, 0, 0, 0, 0, 1],\n",
       "  [1, 2, 2, 3, 0, 0, 0, 0, 0, 0, 0, 1],\n",
       "  [1, 9, 0, 0, 0, 0, 0, 0, 0, 0, 0, 1],\n",
       "  [1, 0, 0, 0, 0, 0, 0, 0, 0, 0, 0, 1],\n",
       "  [1, 0, 0, 0, 0, 0, 0, 0, 0, 0, 0, 1],\n",
       "  [1, 0, 0, 0, 0, 0, 0, 0, 0, 0, 0, 1],\n",
       "  [1, 0, 0, 0, 0, 0, 0, 0, 0, 0, 0, 1],\n",
       "  [1, 1, 1, 1, 1, 1, 1, 1, 1, 1, 1, 1]],\n",
       " [[1, 1, 1, 1, 1, 1, 1, 1, 1, 1, 1, 1],\n",
       "  [1, 0, 0, 0, 0, 0, 0, 0, 0, 0, 0, 1],\n",
       "  [1, 0, 0, 0, 0, 0, 0, 0, 0, 0, 0, 1],\n",
       "  [1, 0, 0, 0, 0, 0, 0, 0, 0, 0, 0, 1],\n",
       "  [1, 0, 0, 0, 0, 0, 0, 0, 0, 0, 0, 1],\n",
       "  [1, 0, 2, 2, 3, 0, 0, 0, 0, 0, 0, 1],\n",
       "  [1, 9, 0, 0, 0, 0, 0, 0, 0, 0, 0, 1],\n",
       "  [1, 0, 0, 0, 0, 0, 0, 0, 0, 0, 0, 1],\n",
       "  [1, 0, 0, 0, 0, 0, 0, 0, 0, 0, 0, 1],\n",
       "  [1, 0, 0, 0, 0, 0, 0, 0, 0, 0, 0, 1],\n",
       "  [1, 0, 0, 0, 0, 0, 0, 0, 0, 0, 0, 1],\n",
       "  [1, 1, 1, 1, 1, 1, 1, 1, 1, 1, 1, 1]],\n",
       " [[1, 1, 1, 1, 1, 1, 1, 1, 1, 1, 1, 1],\n",
       "  [1, 0, 0, 0, 0, 0, 0, 0, 0, 0, 0, 1],\n",
       "  [1, 0, 0, 0, 0, 0, 0, 0, 0, 0, 0, 1],\n",
       "  [1, 0, 0, 0, 0, 0, 0, 0, 0, 0, 0, 1],\n",
       "  [1, 0, 0, 0, 0, 0, 0, 0, 0, 0, 0, 1],\n",
       "  [1, 0, 0, 2, 2, 0, 0, 0, 0, 0, 0, 1],\n",
       "  [1, 9, 0, 0, 3, 0, 0, 0, 0, 0, 0, 1],\n",
       "  [1, 0, 0, 0, 0, 0, 0, 0, 0, 0, 0, 1],\n",
       "  [1, 0, 0, 0, 0, 0, 0, 0, 0, 0, 0, 1],\n",
       "  [1, 0, 0, 0, 0, 0, 0, 0, 0, 0, 0, 1],\n",
       "  [1, 0, 0, 0, 0, 0, 0, 0, 0, 0, 0, 1],\n",
       "  [1, 1, 1, 1, 1, 1, 1, 1, 1, 1, 1, 1]],\n",
       " [[1, 1, 1, 1, 1, 1, 1, 1, 1, 1, 1, 1],\n",
       "  [1, 0, 0, 0, 0, 0, 0, 0, 0, 0, 0, 1],\n",
       "  [1, 0, 0, 0, 0, 0, 0, 0, 0, 0, 0, 1],\n",
       "  [1, 0, 0, 0, 0, 0, 0, 0, 0, 0, 0, 1],\n",
       "  [1, 0, 0, 0, 0, 0, 0, 0, 0, 0, 0, 1],\n",
       "  [1, 0, 0, 0, 2, 0, 0, 0, 0, 0, 0, 1],\n",
       "  [1, 9, 0, 3, 2, 0, 0, 0, 0, 0, 0, 1],\n",
       "  [1, 0, 0, 0, 0, 0, 0, 0, 0, 0, 0, 1],\n",
       "  [1, 0, 0, 0, 0, 0, 0, 0, 0, 0, 0, 1],\n",
       "  [1, 0, 0, 0, 0, 0, 0, 0, 0, 0, 0, 1],\n",
       "  [1, 0, 0, 0, 0, 0, 0, 0, 0, 0, 0, 1],\n",
       "  [1, 1, 1, 1, 1, 1, 1, 1, 1, 1, 1, 1]],\n",
       " [[1, 1, 1, 1, 1, 1, 1, 1, 1, 1, 1, 1],\n",
       "  [1, 0, 0, 0, 0, 0, 0, 0, 0, 0, 0, 1],\n",
       "  [1, 0, 0, 0, 0, 0, 0, 0, 0, 0, 0, 1],\n",
       "  [1, 0, 0, 0, 0, 0, 0, 0, 0, 0, 0, 1],\n",
       "  [1, 0, 0, 0, 0, 0, 0, 0, 0, 0, 0, 1],\n",
       "  [1, 0, 0, 3, 0, 0, 0, 0, 0, 0, 0, 1],\n",
       "  [1, 9, 0, 2, 2, 0, 0, 0, 0, 0, 0, 1],\n",
       "  [1, 0, 0, 0, 0, 0, 0, 0, 0, 0, 0, 1],\n",
       "  [1, 0, 0, 0, 0, 0, 0, 0, 0, 0, 0, 1],\n",
       "  [1, 0, 0, 0, 0, 0, 0, 0, 0, 0, 0, 1],\n",
       "  [1, 0, 0, 0, 0, 0, 0, 0, 0, 0, 0, 1],\n",
       "  [1, 1, 1, 1, 1, 1, 1, 1, 1, 1, 1, 1]],\n",
       " [[1, 1, 1, 1, 1, 1, 1, 1, 1, 1, 1, 1],\n",
       "  [1, 0, 0, 0, 0, 0, 0, 0, 0, 0, 0, 1],\n",
       "  [1, 0, 0, 0, 0, 0, 0, 0, 0, 0, 0, 1],\n",
       "  [1, 0, 0, 0, 0, 0, 0, 0, 0, 0, 0, 1],\n",
       "  [1, 0, 0, 3, 0, 0, 0, 0, 0, 0, 0, 1],\n",
       "  [1, 0, 0, 2, 0, 0, 0, 0, 0, 0, 0, 1],\n",
       "  [1, 9, 0, 2, 0, 0, 0, 0, 0, 0, 0, 1],\n",
       "  [1, 0, 0, 0, 0, 0, 0, 0, 0, 0, 0, 1],\n",
       "  [1, 0, 0, 0, 0, 0, 0, 0, 0, 0, 0, 1],\n",
       "  [1, 0, 0, 0, 0, 0, 0, 0, 0, 0, 0, 1],\n",
       "  [1, 0, 0, 0, 0, 0, 0, 0, 0, 0, 0, 1],\n",
       "  [1, 1, 1, 1, 1, 1, 1, 1, 1, 1, 1, 1]],\n",
       " [[1, 1, 1, 1, 1, 1, 1, 1, 1, 1, 1, 1],\n",
       "  [1, 0, 0, 0, 0, 0, 0, 0, 0, 0, 0, 1],\n",
       "  [1, 0, 0, 0, 0, 0, 0, 0, 0, 0, 0, 1],\n",
       "  [1, 0, 0, 3, 0, 0, 0, 0, 0, 0, 0, 1],\n",
       "  [1, 0, 0, 2, 0, 0, 0, 0, 0, 0, 0, 1],\n",
       "  [1, 0, 0, 2, 0, 0, 0, 0, 0, 0, 0, 1],\n",
       "  [1, 9, 0, 0, 0, 0, 0, 0, 0, 0, 0, 1],\n",
       "  [1, 0, 0, 0, 0, 0, 0, 0, 0, 0, 0, 1],\n",
       "  [1, 0, 0, 0, 0, 0, 0, 0, 0, 0, 0, 1],\n",
       "  [1, 0, 0, 0, 0, 0, 0, 0, 0, 0, 0, 1],\n",
       "  [1, 0, 0, 0, 0, 0, 0, 0, 0, 0, 0, 1],\n",
       "  [1, 1, 1, 1, 1, 1, 1, 1, 1, 1, 1, 1]],\n",
       " [[1, 1, 1, 1, 1, 1, 1, 1, 1, 1, 1, 1],\n",
       "  [1, 0, 0, 0, 0, 0, 0, 0, 0, 0, 0, 1],\n",
       "  [1, 0, 0, 0, 0, 0, 0, 0, 0, 0, 0, 1],\n",
       "  [1, 0, 3, 2, 0, 0, 0, 0, 0, 0, 0, 1],\n",
       "  [1, 0, 0, 2, 0, 0, 0, 0, 0, 0, 0, 1],\n",
       "  [1, 0, 0, 0, 0, 0, 0, 0, 0, 0, 0, 1],\n",
       "  [1, 9, 0, 0, 0, 0, 0, 0, 0, 0, 0, 1],\n",
       "  [1, 0, 0, 0, 0, 0, 0, 0, 0, 0, 0, 1],\n",
       "  [1, 0, 0, 0, 0, 0, 0, 0, 0, 0, 0, 1],\n",
       "  [1, 0, 0, 0, 0, 0, 0, 0, 0, 0, 0, 1],\n",
       "  [1, 0, 0, 0, 0, 0, 0, 0, 0, 0, 0, 1],\n",
       "  [1, 1, 1, 1, 1, 1, 1, 1, 1, 1, 1, 1]],\n",
       " [[1, 1, 1, 1, 1, 1, 1, 1, 1, 1, 1, 1],\n",
       "  [1, 0, 0, 0, 0, 0, 0, 0, 0, 0, 0, 1],\n",
       "  [1, 0, 0, 0, 0, 0, 0, 0, 0, 0, 0, 1],\n",
       "  [1, 0, 2, 2, 0, 0, 0, 0, 0, 0, 0, 1],\n",
       "  [1, 0, 3, 0, 0, 0, 0, 0, 0, 0, 0, 1],\n",
       "  [1, 0, 0, 0, 0, 0, 0, 0, 0, 0, 0, 1],\n",
       "  [1, 9, 0, 0, 0, 0, 0, 0, 0, 0, 0, 1],\n",
       "  [1, 0, 0, 0, 0, 0, 0, 0, 0, 0, 0, 1],\n",
       "  [1, 0, 0, 0, 0, 0, 0, 0, 0, 0, 0, 1],\n",
       "  [1, 0, 0, 0, 0, 0, 0, 0, 0, 0, 0, 1],\n",
       "  [1, 0, 0, 0, 0, 0, 0, 0, 0, 0, 0, 1],\n",
       "  [1, 1, 1, 1, 1, 1, 1, 1, 1, 1, 1, 1]],\n",
       " [[1, 1, 1, 1, 1, 1, 1, 1, 1, 1, 1, 1],\n",
       "  [1, 0, 0, 0, 0, 0, 0, 0, 0, 0, 0, 1],\n",
       "  [1, 0, 0, 0, 0, 0, 0, 0, 0, 0, 0, 1],\n",
       "  [1, 0, 2, 0, 0, 0, 0, 0, 0, 0, 0, 1],\n",
       "  [1, 0, 2, 0, 0, 0, 0, 0, 0, 0, 0, 1],\n",
       "  [1, 0, 3, 0, 0, 0, 0, 0, 0, 0, 0, 1],\n",
       "  [1, 9, 0, 0, 0, 0, 0, 0, 0, 0, 0, 1],\n",
       "  [1, 0, 0, 0, 0, 0, 0, 0, 0, 0, 0, 1],\n",
       "  [1, 0, 0, 0, 0, 0, 0, 0, 0, 0, 0, 1],\n",
       "  [1, 0, 0, 0, 0, 0, 0, 0, 0, 0, 0, 1],\n",
       "  [1, 0, 0, 0, 0, 0, 0, 0, 0, 0, 0, 1],\n",
       "  [1, 1, 1, 1, 1, 1, 1, 1, 1, 1, 1, 1]],\n",
       " [[1, 1, 1, 1, 1, 1, 1, 1, 1, 1, 1, 1],\n",
       "  [1, 0, 0, 0, 0, 0, 0, 0, 0, 0, 0, 1],\n",
       "  [1, 0, 0, 0, 0, 0, 0, 0, 0, 0, 0, 1],\n",
       "  [1, 0, 0, 0, 0, 0, 0, 0, 0, 0, 0, 1],\n",
       "  [1, 0, 2, 0, 0, 0, 0, 0, 0, 0, 0, 1],\n",
       "  [1, 0, 2, 3, 0, 0, 0, 0, 0, 0, 0, 1],\n",
       "  [1, 9, 0, 0, 0, 0, 0, 0, 0, 0, 0, 1],\n",
       "  [1, 0, 0, 0, 0, 0, 0, 0, 0, 0, 0, 1],\n",
       "  [1, 0, 0, 0, 0, 0, 0, 0, 0, 0, 0, 1],\n",
       "  [1, 0, 0, 0, 0, 0, 0, 0, 0, 0, 0, 1],\n",
       "  [1, 0, 0, 0, 0, 0, 0, 0, 0, 0, 0, 1],\n",
       "  [1, 1, 1, 1, 1, 1, 1, 1, 1, 1, 1, 1]],\n",
       " [[1, 1, 1, 1, 1, 1, 1, 1, 1, 1, 1, 1],\n",
       "  [1, 0, 0, 0, 0, 0, 0, 0, 0, 0, 0, 1],\n",
       "  [1, 0, 0, 0, 0, 0, 0, 0, 0, 0, 0, 1],\n",
       "  [1, 0, 0, 0, 0, 0, 0, 0, 0, 0, 0, 1],\n",
       "  [1, 0, 0, 0, 0, 0, 0, 0, 0, 0, 0, 1],\n",
       "  [1, 0, 2, 2, 3, 0, 0, 0, 0, 0, 0, 1],\n",
       "  [1, 9, 0, 0, 0, 0, 0, 0, 0, 0, 0, 1],\n",
       "  [1, 0, 0, 0, 0, 0, 0, 0, 0, 0, 0, 1],\n",
       "  [1, 0, 0, 0, 0, 0, 0, 0, 0, 0, 0, 1],\n",
       "  [1, 0, 0, 0, 0, 0, 0, 0, 0, 0, 0, 1],\n",
       "  [1, 0, 0, 0, 0, 0, 0, 0, 0, 0, 0, 1],\n",
       "  [1, 1, 1, 1, 1, 1, 1, 1, 1, 1, 1, 1]],\n",
       " [[1, 1, 1, 1, 1, 1, 1, 1, 1, 1, 1, 1],\n",
       "  [1, 0, 0, 0, 0, 0, 0, 0, 0, 0, 0, 1],\n",
       "  [1, 0, 0, 0, 0, 0, 0, 0, 0, 0, 0, 1],\n",
       "  [1, 0, 0, 0, 0, 0, 0, 0, 0, 0, 0, 1],\n",
       "  [1, 0, 0, 0, 0, 0, 0, 0, 0, 0, 0, 1],\n",
       "  [1, 0, 0, 2, 2, 3, 0, 0, 0, 0, 0, 1],\n",
       "  [1, 9, 0, 0, 0, 0, 0, 0, 0, 0, 0, 1],\n",
       "  [1, 0, 0, 0, 0, 0, 0, 0, 0, 0, 0, 1],\n",
       "  [1, 0, 0, 0, 0, 0, 0, 0, 0, 0, 0, 1],\n",
       "  [1, 0, 0, 0, 0, 0, 0, 0, 0, 0, 0, 1],\n",
       "  [1, 0, 0, 0, 0, 0, 0, 0, 0, 0, 0, 1],\n",
       "  [1, 1, 1, 1, 1, 1, 1, 1, 1, 1, 1, 1]],\n",
       " [[1, 1, 1, 1, 1, 1, 1, 1, 1, 1, 1, 1],\n",
       "  [1, 0, 0, 0, 0, 0, 0, 0, 0, 0, 0, 1],\n",
       "  [1, 0, 0, 0, 0, 0, 0, 0, 0, 0, 0, 1],\n",
       "  [1, 0, 0, 0, 0, 0, 0, 0, 0, 0, 0, 1],\n",
       "  [1, 0, 0, 0, 0, 0, 0, 0, 0, 0, 0, 1],\n",
       "  [1, 0, 0, 0, 2, 2, 3, 0, 0, 0, 0, 1],\n",
       "  [1, 9, 0, 0, 0, 0, 0, 0, 0, 0, 0, 1],\n",
       "  [1, 0, 0, 0, 0, 0, 0, 0, 0, 0, 0, 1],\n",
       "  [1, 0, 0, 0, 0, 0, 0, 0, 0, 0, 0, 1],\n",
       "  [1, 0, 0, 0, 0, 0, 0, 0, 0, 0, 0, 1],\n",
       "  [1, 0, 0, 0, 0, 0, 0, 0, 0, 0, 0, 1],\n",
       "  [1, 1, 1, 1, 1, 1, 1, 1, 1, 1, 1, 1]],\n",
       " [[1, 1, 1, 1, 1, 1, 1, 1, 1, 1, 1, 1],\n",
       "  [1, 0, 0, 0, 0, 0, 0, 0, 0, 0, 0, 1],\n",
       "  [1, 0, 0, 0, 0, 0, 0, 0, 0, 0, 0, 1],\n",
       "  [1, 0, 0, 0, 0, 0, 0, 0, 0, 0, 0, 1],\n",
       "  [1, 0, 0, 0, 0, 0, 0, 0, 0, 0, 0, 1],\n",
       "  [1, 0, 0, 0, 0, 2, 2, 3, 0, 0, 0, 1],\n",
       "  [1, 9, 0, 0, 0, 0, 0, 0, 0, 0, 0, 1],\n",
       "  [1, 0, 0, 0, 0, 0, 0, 0, 0, 0, 0, 1],\n",
       "  [1, 0, 0, 0, 0, 0, 0, 0, 0, 0, 0, 1],\n",
       "  [1, 0, 0, 0, 0, 0, 0, 0, 0, 0, 0, 1],\n",
       "  [1, 0, 0, 0, 0, 0, 0, 0, 0, 0, 0, 1],\n",
       "  [1, 1, 1, 1, 1, 1, 1, 1, 1, 1, 1, 1]],\n",
       " [[1, 1, 1, 1, 1, 1, 1, 1, 1, 1, 1, 1],\n",
       "  [1, 0, 0, 0, 0, 0, 0, 0, 0, 0, 0, 1],\n",
       "  [1, 0, 0, 0, 0, 0, 0, 0, 0, 0, 0, 1],\n",
       "  [1, 0, 0, 0, 0, 0, 0, 0, 0, 0, 0, 1],\n",
       "  [1, 0, 0, 0, 0, 0, 0, 0, 0, 0, 0, 1],\n",
       "  [1, 0, 0, 0, 0, 0, 2, 2, 3, 0, 0, 1],\n",
       "  [1, 9, 0, 0, 0, 0, 0, 0, 0, 0, 0, 1],\n",
       "  [1, 0, 0, 0, 0, 0, 0, 0, 0, 0, 0, 1],\n",
       "  [1, 0, 0, 0, 0, 0, 0, 0, 0, 0, 0, 1],\n",
       "  [1, 0, 0, 0, 0, 0, 0, 0, 0, 0, 0, 1],\n",
       "  [1, 0, 0, 0, 0, 0, 0, 0, 0, 0, 0, 1],\n",
       "  [1, 1, 1, 1, 1, 1, 1, 1, 1, 1, 1, 1]],\n",
       " [[1, 1, 1, 1, 1, 1, 1, 1, 1, 1, 1, 1],\n",
       "  [1, 0, 0, 0, 0, 0, 0, 0, 0, 0, 0, 1],\n",
       "  [1, 0, 0, 0, 0, 0, 0, 0, 0, 0, 0, 1],\n",
       "  [1, 0, 0, 0, 0, 0, 0, 0, 0, 0, 0, 1],\n",
       "  [1, 0, 0, 0, 0, 0, 0, 0, 0, 0, 0, 1],\n",
       "  [1, 0, 0, 0, 0, 0, 0, 2, 2, 3, 0, 1],\n",
       "  [1, 9, 0, 0, 0, 0, 0, 0, 0, 0, 0, 1],\n",
       "  [1, 0, 0, 0, 0, 0, 0, 0, 0, 0, 0, 1],\n",
       "  [1, 0, 0, 0, 0, 0, 0, 0, 0, 0, 0, 1],\n",
       "  [1, 0, 0, 0, 0, 0, 0, 0, 0, 0, 0, 1],\n",
       "  [1, 0, 0, 0, 0, 0, 0, 0, 0, 0, 0, 1],\n",
       "  [1, 1, 1, 1, 1, 1, 1, 1, 1, 1, 1, 1]],\n",
       " [[1, 1, 1, 1, 1, 1, 1, 1, 1, 1, 1, 1],\n",
       "  [1, 0, 0, 0, 0, 0, 0, 0, 0, 0, 0, 1],\n",
       "  [1, 0, 0, 0, 0, 0, 0, 0, 0, 0, 0, 1],\n",
       "  [1, 0, 0, 0, 0, 0, 0, 0, 0, 0, 0, 1],\n",
       "  [1, 0, 0, 0, 0, 0, 0, 0, 0, 0, 0, 1],\n",
       "  [1, 0, 0, 0, 0, 0, 0, 0, 2, 2, 3, 1],\n",
       "  [1, 9, 0, 0, 0, 0, 0, 0, 0, 0, 0, 1],\n",
       "  [1, 0, 0, 0, 0, 0, 0, 0, 0, 0, 0, 1],\n",
       "  [1, 0, 0, 0, 0, 0, 0, 0, 0, 0, 0, 1],\n",
       "  [1, 0, 0, 0, 0, 0, 0, 0, 0, 0, 0, 1],\n",
       "  [1, 0, 0, 0, 0, 0, 0, 0, 0, 0, 0, 1],\n",
       "  [1, 1, 1, 1, 1, 1, 1, 1, 1, 1, 1, 1]]]"
      ]
     },
     "execution_count": 22,
     "metadata": {},
     "output_type": "execute_result"
    }
   ],
   "source": [
    "grilles_torch"
   ]
  },
  {
   "cell_type": "code",
   "execution_count": 68,
   "metadata": {},
   "outputs": [
    {
     "data": {
      "text/plain": [
       "torch.Size([1, 1, 12, 12])"
      ]
     },
     "execution_count": 68,
     "metadata": {},
     "output_type": "execute_result"
    }
   ],
   "source": [
    "torch.tensor(grille_torch).unsqueeze(0).unsqueeze(0).shape"
   ]
  },
  {
   "cell_type": "code",
   "execution_count": 7,
   "metadata": {},
   "outputs": [],
   "source": [
    "import torch"
   ]
  },
  {
   "cell_type": "code",
   "execution_count": 8,
   "metadata": {},
   "outputs": [],
   "source": [
    "from sklearn.preprocessing import scale"
   ]
  },
  {
   "cell_type": "code",
   "execution_count": 121,
   "metadata": {},
   "outputs": [],
   "source": [
    "def preprocess_grille(grille, to_cnn=False):\n",
    "    grille_scaled = scale(grille)\n",
    "    grille_torch = torch.tensor(grille_scaled, dtype=torch.float64)\n",
    "    if to_cnn:\n",
    "        return grille_torch.unsqueeze(0).unsqueeze(0).float()\n",
    "    grille_torch_flat = grille_torch.flatten()\n",
    "    return grille_torch_flat.float().unsqueeze(0)\n",
    "\n",
    "class Feedforward(torch.nn.Module):\n",
    "        def __init__(self, input_size, hidden_size, num_actions):\n",
    "            super(Feedforward, self).__init__()\n",
    "            self.input_size = input_size\n",
    "            self.hidden_size  = hidden_size\n",
    "            self.fc1 = torch.nn.Linear(self.input_size, self.hidden_size)\n",
    "            self.relu = torch.nn.ReLU()\n",
    "            self.fc2 = torch.nn.Linear(self.hidden_size, num_actions)\n",
    "            self.soft = torch.nn.Softmax(dim=1)\n",
    "        def forward(self, x):\n",
    "            hidden = self.fc1(x)\n",
    "            relu = self.relu(hidden)\n",
    "            output = self.fc2(relu)\n",
    "            output = self.soft(output)\n",
    "            return output\n",
    "\n",
    "\n",
    "class CNN(nn.Module):\n",
    "    def __init__(self):\n",
    "        super(CNN, self).__init__()\n",
    "        self.conv1 = nn.Conv2d(1, 32, kernel_size=2)\n",
    "        self.conv2 = nn.Conv2d(32, 32, kernel_size=2)\n",
    "        self.conv3 = nn.Conv2d(32, 64, kernel_size=2)\n",
    "        self.fc1 = nn.Linear(2*2*64, 256)\n",
    "        self.fc2 = nn.Linear(256, num_actions)\n",
    "        self.soft = torch.nn.Softmax(dim=1)\n",
    "\n",
    "    def forward(self, x):\n",
    "        x = F.relu(self.conv1(x))\n",
    "        #x = F.dropout(x, p=0.5, training=self.training)\n",
    "        x = F.relu(F.max_pool2d(self.conv2(x), 2))\n",
    "        x = F.dropout(x, p=0.5, training=self.training)\n",
    "        x = F.relu(F.max_pool2d(self.conv3(x),2))\n",
    "        x = F.dropout(x, p=0.5, training=self.training)\n",
    "        x = x.view(-1,2*2*64 )\n",
    "        x = F.relu(self.fc1(x))\n",
    "        x = F.dropout(x, training=self.training)\n",
    "        x = self.fc2(x)\n",
    "        return self.soft(x)\n",
    "\n",
    "cnn = CNN()"
   ]
  },
  {
   "cell_type": "code",
   "execution_count": 122,
   "metadata": {},
   "outputs": [],
   "source": [
    "hidden_size = 60\n",
    "num_actions = 4\n",
    "grille_torch_flat = torch.tensor(grille_torch).flatten()\n",
    "ff = Feedforward(grille_torch_flat.shape[0], hidden_size, num_actions)\n",
    "dq = DQN(sizes[0], sizes[1], num_actions)"
   ]
  },
  {
   "cell_type": "code",
   "execution_count": 123,
   "metadata": {},
   "outputs": [
    {
     "data": {
      "text/plain": [
       "tensor([[0.3280, 0.2695, 0.2126, 0.1899]], grad_fn=<SoftmaxBackward>)"
      ]
     },
     "execution_count": 123,
     "metadata": {},
     "output_type": "execute_result"
    }
   ],
   "source": [
    "cnn(torch.tensor(grille_torch).float().unsqueeze(0).unsqueeze(0))"
   ]
  },
  {
   "cell_type": "markdown",
   "metadata": {},
   "source": [
    "#### ff(grille_torch_flat.float().unsqueeze(0))"
   ]
  },
  {
   "cell_type": "code",
   "execution_count": 124,
   "metadata": {},
   "outputs": [
    {
     "data": {
      "text/plain": [
       "tensor([[0.2795, 0.2664, 0.1953, 0.2587]], grad_fn=<SoftmaxBackward>)"
      ]
     },
     "execution_count": 124,
     "metadata": {},
     "output_type": "execute_result"
    }
   ],
   "source": [
    "ff(grille_torch_flat.float().unsqueeze(0))"
   ]
  },
  {
   "cell_type": "code",
   "execution_count": 125,
   "metadata": {},
   "outputs": [],
   "source": [
    "import random\n",
    "import math\n",
    "\n",
    "steps_done = 0\n",
    "BATCH_SIZE = 128\n",
    "GAMMA = 0.999\n",
    "EPS_START = 0.9\n",
    "EPS_END = 0.05\n",
    "EPS_DECAY = 2000\n",
    "TARGET_UPDATE = 10\n",
    "device = torch.device(\"cuda\" if torch.cuda.is_available() else \"cpu\")\n",
    "\n",
    "def select_action(state, eps_decay, simulate=False):\n",
    "    global steps_done\n",
    "    sample = random.random()\n",
    "    eps_threshold = EPS_END + (EPS_START - EPS_END) * \\\n",
    "        math.exp(-1. * steps_done / eps_decay)\n",
    "    steps_done += 1\n",
    "    if sample > eps_threshold:\n",
    "        if simulate:\n",
    "            return 1\n",
    "        with torch.no_grad():\n",
    "            # t.max(1) will return largest column value of each row.\n",
    "            # second column on max result is index of where max element was\n",
    "            # found, so we pick action with the larger expected reward.\n",
    "            return policy_net(state).max(1)[1].view(1, 1)\n",
    "    else:\n",
    "        if simulate:\n",
    "            return 0\n",
    "        return torch.tensor([[random.randrange(num_actions)]], device=device, dtype=torch.long)"
   ]
  },
  {
   "cell_type": "code",
   "execution_count": 126,
   "metadata": {},
   "outputs": [
    {
     "data": {
      "text/plain": [
       "<matplotlib.legend.Legend at 0x7f5d1edd5ca0>"
      ]
     },
     "execution_count": 126,
     "metadata": {},
     "output_type": "execute_result"
    },
    {
     "data": {
      "image/png": "[encoded data removed]",
      "text/plain": [
       "<Figure size 432x288 with 1 Axes>"
      ]
     },
     "metadata": {
      "needs_background": "light"
     },
     "output_type": "display_data"
    }
   ],
   "source": [
    "import matplotlib.pyplot as plt\n",
    "bathc = grille_torch_flat.float().unsqueeze(0)\n",
    "steps_done = 0\n",
    "plt.plot(np.cumsum([select_action(bathc, eps_decay=100, simulate=True) for i in range(1200)]),label=\"eps_decay=100\" )\n",
    "steps_done = 0\n",
    "plt.plot(np.cumsum([select_action(bathc, eps_decay=200, simulate=True) for i in range(1200)]),label=\"eps_decay=200\" )\n",
    "steps_done = 0\n",
    "plt.plot(np.cumsum([select_action(bathc, eps_decay=3500, simulate=True) for i in range(1200)]),label=\"eps_decay=500\" )\n",
    "steps_done = 0\n",
    "plt.plot(np.cumsum([select_action(bathc, eps_decay=10, simulate=True) for i in range(1200)]),label=\"eps_decay=10\" )\n",
    "steps_done = 0\n",
    "plt.plot(np.cumsum([select_action(bathc, eps_decay=1, simulate=True) for i in range(1200)]),label=\"eps_decay=1\" )\n",
    "\n",
    "#plt.plot(np.cumsum([1 for i in range(1000)]))\n",
    "plt.legend()"
   ]
  },
  {
   "cell_type": "code",
   "execution_count": 127,
   "metadata": {},
   "outputs": [],
   "source": [
    "steps_done = 0\n",
    "#plt.plot(np.cumsum([select_action(bathc, eps_decay=3, simulate=True) for i in range(10)]),label=\"eps_decay=1\" )"
   ]
  },
  {
   "cell_type": "code",
   "execution_count": 128,
   "metadata": {},
   "outputs": [],
   "source": [
    "class SmartBot():\n",
    "    def __init__(self):\n",
    "        pass\n",
    "    \n",
    "    def compute(self, grille):\n",
    "        state = preprocess_grille(grille, to_cnn=True)\n",
    "        action = select_action(state, 5500)\n",
    "        action = position_to_input.get(int(action.squeeze()))\n",
    "        return action"
   ]
  },
  {
   "cell_type": "code",
   "execution_count": 129,
   "metadata": {},
   "outputs": [],
   "source": [
    "from collections import deque\n",
    "class Memory():\n",
    "    def __init__(self):\n",
    "        self.buffer= deque()\n",
    "    def sample(self, n=100):\n",
    "        sampled_ids = np.random.randint(0, len(self.buffer), n)\n",
    "        return [self.buffer[s] for s in sampled_ids]#, [self.buffer[s + 1] for s in sampled_ids if self.buffer[s][3] and s +<]\n",
    "    \n",
    "    def push(self, state, action, reward, is_done):\n",
    "        self.buffer.append((state, action, reward, is_done))\n",
    "        \n",
    "    def get_all_history(self):\n",
    "        return self.buffer\n",
    "        "
   ]
  },
  {
   "cell_type": "code",
   "execution_count": 130,
   "metadata": {},
   "outputs": [],
   "source": [
    "batch_size = 126\n",
    "\n",
    "def optimize_model(memory, policy_net, target_net):\n",
    "    samples = memory.sample(batch_size)\n",
    "    state_batch = torch.vstack([preprocess_grille(s[0],to_cnn=True) for s in samples]).float()\n",
    "    action_batch = torch.vstack([torch.tensor(s[1]) for s in samples])\n",
    "    reward_batch = torch.vstack([torch.tensor(s[2]) for s in samples]).float()\n",
    "    state_act = policy_net(state_batch)\n",
    "    state_action_values = state_act.gather(1, action_batch)\n",
    "    expected_state_action_values = reward_batch\n",
    "    loss = F.smooth_l1_loss(state_action_values, expected_state_action_values)\n",
    "    optimizer.zero_grad()\n",
    "    loss.backward()\n",
    "    for param in policy_net.parameters():\n",
    "        param.grad.data.clamp_(-1, 1)\n",
    "    optimizer.step()\n",
    "    return loss, state_act.mean(0).detach().numpy()"
   ]
  },
  {
   "cell_type": "code",
   "execution_count": null,
   "metadata": {
    "scrolled": true
   },
   "outputs": [
    {
     "name": "stdout",
     "output_type": "stream",
     "text": [
      "Episode duration:11, loss: 0.2532415986061096, steps done: 230, state acts: [0.09271115 0.21885285 0.50205016 0.18638583] ,actions [5, 6, 4, 4, 6, 5, 6, 5, 6, 6]\n",
      "##### Long duration: 11.0, long loss: 0.2532415986061096, nb eats: 0.0\n",
      "Episode duration:10, loss: 0.25345906615257263, steps done: 240, state acts: [0.0957282  0.1870647  0.49600145 0.22120573] ,actions [6, 8, 6, 8, 8, 8, 6, 6, 6, 8]\n",
      "Episode duration:14, loss: 0.2874409258365631, steps done: 254, state acts: [0.12528528 0.17884658 0.4518451  0.24402301] ,actions [6, 6, 4, 4, 5, 5, 4, 6, 4, 4]\n",
      "Episode duration:28, loss: 0.21227706968784332, steps done: 282, state acts: [0.11939912 0.23741232 0.45544052 0.18774809] ,actions [8, 6, 4, 6, 5, 6, 8, 4, 4, 5]\n",
      "Episode duration:14, loss: 0.247710183262825, steps done: 296, state acts: [0.09046593 0.26171297 0.46956664 0.17825449] ,actions [8, 6, 6, 4, 8, 4, 4, 4, 5, 5]\n",
      "Episode duration:12, loss: 0.23902983963489532, steps done: 308, state acts: [0.13786758 0.21166839 0.4952558  0.1552082 ] ,actions [4, 4, 6, 4, 6, 6, 8, 5, 8, 8]\n",
      "Episode duration:57, loss: 0.23017647862434387, steps done: 365, state acts: [0.19655444 0.18834671 0.44331586 0.171783  ] ,actions [5, 8, 4, 5, 6, 4, 8, 8, 8, 4]\n",
      "Episode duration:24, loss: 0.2558819651603699, steps done: 389, state acts: [0.17548774 0.19830257 0.42363763 0.20257202] ,actions [4, 4, 8, 4, 5, 5, 6, 8, 4, 8]\n",
      "Episode duration:17, loss: 0.2941877543926239, steps done: 406, state acts: [0.17449509 0.20500581 0.4243636  0.19613548] ,actions [4, 8, 8, 4, 4, 6, 8, 6, 8, 6]\n",
      "Episode duration:10, loss: 0.25257670879364014, steps done: 416, state acts: [0.15461408 0.24176297 0.44899407 0.15462889] ,actions [4, 5, 6, 8, 6, 6, 4, 6, 6, 4]\n",
      "Episode duration:19, loss: 0.23282930254936218, steps done: 435, state acts: [0.13870408 0.20026207 0.4445086  0.21652526] ,actions [5, 5, 5, 6, 8, 8, 4, 8, 8, 6]\n",
      "Episode duration:15, loss: 0.2618044912815094, steps done: 450, state acts: [0.17574915 0.17138971 0.43672147 0.21613967] ,actions [6, 8, 6, 5, 8, 4, 8, 8, 5, 6]\n",
      "Episode duration:11, loss: 0.25867804884910583, steps done: 461, state acts: [0.23032923 0.18594618 0.41740346 0.16632114] ,actions [8, 6, 5, 5, 5, 5, 4, 4, 5, 8]\n",
      "Episode duration:16, loss: 0.254342645406723, steps done: 477, state acts: [0.18136363 0.19288601 0.40815747 0.21759287] ,actions [5, 8, 6, 8, 4, 5, 4, 8, 8, 6]\n",
      "Episode duration:4, loss: 0.21317586302757263, steps done: 481, state acts: [0.20193    0.15516123 0.41350687 0.22940189] ,actions [8, 4, 4, 4]\n",
      "Episode duration:19, loss: 0.2519267201423645, steps done: 500, state acts: [0.20339595 0.19878782 0.4120426  0.18577367] ,actions [6, 6, 6, 8, 6, 5, 6, 4, 4, 5]\n",
      "Episode duration:15, loss: 0.24909941852092743, steps done: 515, state acts: [0.15933125 0.15643764 0.46679145 0.21743965] ,actions [6, 8, 6, 6, 8, 8, 6, 8, 6, 4]\n",
      "Episode duration:9, loss: 0.21950584650039673, steps done: 524, state acts: [0.20240612 0.18585311 0.37797597 0.23376475] ,actions [6, 8, 8, 4, 4, 6, 8, 8, 4]\n",
      "Episode duration:24, loss: 0.23430076241493225, steps done: 548, state acts: [0.16553566 0.2020672  0.38476592 0.24763124] ,actions [5, 5, 8, 8, 5, 4, 8, 5, 8, 8]\n",
      "Episode duration:32, loss: 0.25055548548698425, steps done: 580, state acts: [0.14231403 0.19434305 0.38907468 0.27426827] ,actions [4, 5, 8, 4, 6, 6, 5, 6, 8, 6]\n",
      "Episode duration:24, loss: 0.3048432469367981, steps done: 604, state acts: [0.17078982 0.23362319 0.30633727 0.28924975] ,actions [4, 8, 6, 5, 6, 5, 8, 5, 8, 4]\n",
      "Episode duration:22, loss: 0.2447184920310974, steps done: 626, state acts: [0.16554807 0.21233833 0.3218248  0.30028886] ,actions [4, 8, 6, 6, 5, 8, 4, 8, 5, 8]\n",
      "Episode duration:8, loss: 0.26487764716148376, steps done: 634, state acts: [0.14782289 0.18073894 0.4324712  0.23896697] ,actions [4, 4, 8, 8, 5, 4, 8, 8]\n",
      "Episode duration:34, loss: 0.31693121790885925, steps done: 668, state acts: [0.15466057 0.19023652 0.34043804 0.3146649 ] ,actions [6, 5, 4, 6, 5, 4, 8, 6, 6, 4]\n",
      "Episode duration:21, loss: 0.2423229217529297, steps done: 689, state acts: [0.14812064 0.23046272 0.32342178 0.29799485] ,actions [4, 4, 5, 5, 5, 4, 6, 6, 8, 8]\n",
      "Episode duration:34, loss: 0.23494289815425873, steps done: 723, state acts: [0.16575417 0.15616816 0.36873809 0.30933964] ,actions [6, 4, 4, 4, 8, 4, 4, 8, 6, 6]\n",
      "Episode duration:7, loss: 0.30081644654273987, steps done: 730, state acts: [0.15095441 0.2075979  0.30394036 0.33750737] ,actions [5, 5, 6, 5, 8, 8, 5]\n",
      "Episode duration:18, loss: 0.26872822642326355, steps done: 748, state acts: [0.18902391 0.16959554 0.3488072  0.29257336] ,actions [6, 6, 5, 4, 5, 6, 5, 4, 6, 8]\n",
      "Episode duration:29, loss: 0.3087456524372101, steps done: 777, state acts: [0.16683507 0.19820376 0.37788242 0.25707874] ,actions [5, 6, 4, 8, 4, 6, 6, 8, 6, 4]\n",
      "Episode duration:9, loss: 0.277428537607193, steps done: 786, state acts: [0.1527664  0.22892432 0.37550637 0.24280292] ,actions [6, 8, 6, 5, 8, 8, 4, 8, 6]\n",
      "Episode duration:9, loss: 0.3015301525592804, steps done: 795, state acts: [0.16190387 0.20466244 0.37547937 0.2579543 ] ,actions [6, 4, 8, 6, 6, 8, 8, 8, 8]\n",
      "Episode duration:28, loss: 0.2737845182418823, steps done: 823, state acts: [0.17957017 0.1996935  0.33897597 0.28176033] ,actions [5, 5, 4, 5, 6, 5, 6, 8, 8, 4]\n",
      "Episode duration:17, loss: 0.28275108337402344, steps done: 840, state acts: [0.1681021  0.18476143 0.38080844 0.26632804] ,actions [4, 6, 6, 5, 4, 5, 5, 8, 8, 6]\n",
      "Episode duration:11, loss: 0.2219712734222412, steps done: 851, state acts: [0.13675612 0.18912163 0.43081403 0.24330819] ,actions [4, 5, 8, 6, 4, 5, 6, 5, 8, 6]\n",
      "Episode duration:7, loss: 0.3153526484966278, steps done: 858, state acts: [0.12944312 0.19063193 0.38791257 0.2920124 ] ,actions [5, 6, 5, 4, 6, 6, 4]\n",
      "Episode duration:5, loss: 0.26572003960609436, steps done: 863, state acts: [0.16303404 0.17596671 0.38406047 0.27693877] ,actions [5, 4, 6, 5, 4]\n",
      "Episode duration:22, loss: 0.24042156338691711, steps done: 885, state acts: [0.157298   0.21645823 0.36944246 0.2568013 ] ,actions [6, 5, 5, 8, 5, 6, 4, 6, 4, 8]\n",
      "Episode duration:14, loss: 0.23437628149986267, steps done: 899, state acts: [0.17893511 0.19000526 0.32681432 0.3042453 ] ,actions [4, 4, 5, 4, 5, 8, 8, 6, 5, 4]\n",
      "Episode duration:9, loss: 0.30087241530418396, steps done: 908, state acts: [0.15572393 0.19493777 0.3615457  0.28779256] ,actions [4, 8, 6, 8, 4, 8, 6, 8, 5]\n",
      "Episode duration:51, loss: 0.2336062490940094, steps done: 959, state acts: [0.17853166 0.1579368  0.3809782  0.28255334] ,actions [8, 6, 6, 5, 8, 6, 8, 6, 5, 4]\n",
      "Episode duration:8, loss: 0.2361578792333603, steps done: 967, state acts: [0.15562068 0.22406015 0.3090908  0.3112284 ] ,actions [5, 4, 5, 6, 8, 4, 6, 6]\n",
      "Episode duration:20, loss: 0.21108478307724, steps done: 987, state acts: [0.15614747 0.19526991 0.35383224 0.29475033] ,actions [6, 4, 6, 4, 8, 4, 6, 5, 5, 8]\n",
      "Episode duration:16, loss: 0.27470991015434265, steps done: 1003, state acts: [0.12880246 0.20731938 0.37521693 0.28866127] ,actions [8, 5, 6, 4, 6, 5, 5, 4, 6, 6]\n",
      "Episode duration:18, loss: 0.28667229413986206, steps done: 1021, state acts: [0.1511595  0.1966764  0.35649365 0.2956704 ] ,actions [6, 4, 5, 6, 6, 4, 4, 5, 5, 4]\n",
      "Episode duration:14, loss: 0.25107765197753906, steps done: 1035, state acts: [0.18774173 0.18110226 0.3411238  0.2900322 ] ,actions [8, 5, 6, 5, 6, 6, 8, 4, 6, 6]\n",
      "Episode duration:11, loss: 0.2365318238735199, steps done: 1046, state acts: [0.1878446  0.16185625 0.3934015  0.2568977 ] ,actions [4, 5, 6, 4, 8, 5, 6, 4, 6, 6]\n",
      "Episode duration:6, loss: 0.23920170962810516, steps done: 1052, state acts: [0.1684965  0.23004426 0.34483808 0.25662112] ,actions [5, 8, 4, 8, 4, 4]\n",
      "Episode duration:8, loss: 0.29616647958755493, steps done: 1060, state acts: [0.16936654 0.2239715  0.36768082 0.23898114] ,actions [8, 5, 8, 6, 6, 6, 8, 5]\n",
      "Episode duration:13, loss: 0.2555357813835144, steps done: 1073, state acts: [0.17490867 0.252799   0.30732802 0.26496434] ,actions [8, 6, 8, 4, 8, 6, 5, 4, 8, 4]\n",
      "Episode duration:14, loss: 0.2941191792488098, steps done: 1087, state acts: [0.14598113 0.18058796 0.38312882 0.290302  ] ,actions [4, 4, 5, 8, 8, 8, 6, 4, 8, 4]\n",
      "Episode duration:16, loss: 0.255214661359787, steps done: 1103, state acts: [0.16336684 0.19550908 0.33945465 0.30166942] ,actions [6, 5, 6, 6, 6, 5, 4, 4, 5, 4]\n",
      "##### Long duration: 17.46, long loss: 0.255214661359787, nb eats: 0.22\n"
     ]
    },
    {
     "name": "stdout",
     "output_type": "stream",
     "text": [
      "Episode duration:13, loss: 0.22679190337657928, steps done: 1116, state acts: [0.16601823 0.17531781 0.3504915  0.30817243] ,actions [6, 4, 4, 4, 4, 5, 5, 6, 4, 5]\n",
      "Episode duration:10, loss: 0.23342309892177582, steps done: 1126, state acts: [0.21148299 0.15795732 0.3459991  0.2845606 ] ,actions [6, 6, 6, 5, 8, 4, 5, 5, 5, 8]\n",
      "Episode duration:7, loss: 0.2636497914791107, steps done: 1133, state acts: [0.17090318 0.22629265 0.2956087  0.30719545] ,actions [8, 4, 4, 8, 5, 8, 8]\n",
      "Episode duration:10, loss: 0.24670879542827606, steps done: 1143, state acts: [0.1550954  0.18202367 0.39504212 0.2678388 ] ,actions [4, 8, 6, 6, 5, 6, 4, 6, 6, 4]\n",
      "Episode duration:12, loss: 0.25114667415618896, steps done: 1155, state acts: [0.17169079 0.16714671 0.3862194  0.27494305] ,actions [4, 5, 8, 6, 6, 5, 6, 4, 5, 6]\n",
      "Episode duration:16, loss: 0.22338496148586273, steps done: 1171, state acts: [0.21938582 0.19795723 0.293979   0.2886779 ] ,actions [5, 8, 8, 6, 5, 6, 8, 4, 8, 6]\n",
      "Episode duration:7, loss: 0.23845039308071136, steps done: 1178, state acts: [0.16102476 0.22292219 0.30612966 0.30992338] ,actions [6, 5, 5, 5, 5, 5, 5]\n",
      "Episode duration:8, loss: 0.23998109996318817, steps done: 1186, state acts: [0.2102901  0.21429642 0.33257893 0.24283455] ,actions [6, 8, 4, 6, 8, 8, 5, 5]\n",
      "Episode duration:10, loss: 0.25296294689178467, steps done: 1196, state acts: [0.179121   0.22674869 0.34648708 0.24764326] ,actions [8, 8, 8, 6, 5, 5, 4, 4, 4, 6]\n",
      "Episode duration:4, loss: 0.21169063448905945, steps done: 1200, state acts: [0.17163274 0.19567372 0.3635728  0.26912075] ,actions [8, 4, 6, 6]\n",
      "Episode duration:26, loss: 0.2627159357070923, steps done: 1226, state acts: [0.16558339 0.20650294 0.34549147 0.2824222 ] ,actions [6, 8, 8, 6, 6, 8, 6, 6, 8, 6]\n",
      "Episode duration:33, loss: 0.279662549495697, steps done: 1259, state acts: [0.19143006 0.19212863 0.3299786  0.28646275] ,actions [6, 5, 6, 6, 6, 4, 6, 5, 4, 8]\n",
      "Episode duration:15, loss: 0.267880380153656, steps done: 1274, state acts: [0.15325417 0.21110207 0.3750503  0.2605934 ] ,actions [4, 6, 6, 8, 6, 6, 6, 5, 8, 6]\n",
      "Episode duration:8, loss: 0.2544710040092468, steps done: 1282, state acts: [0.14590865 0.21522199 0.35288244 0.28598693] ,actions [5, 5, 6, 8, 4, 6, 4, 6]\n",
      "Episode duration:18, loss: 0.23298777639865875, steps done: 1300, state acts: [0.19418713 0.21663283 0.3172439  0.27193618] ,actions [5, 4, 8, 5, 4, 5, 6, 5, 6, 6]\n",
      "Episode duration:20, loss: 0.2316485047340393, steps done: 1320, state acts: [0.17458898 0.226608   0.34616548 0.25263757] ,actions [5, 8, 6, 8, 8, 5, 4, 4, 5, 6]\n",
      "Episode duration:33, loss: 0.23370137810707092, steps done: 1353, state acts: [0.17421931 0.21383768 0.35292572 0.2590173 ] ,actions [8, 6, 6, 8, 4, 6, 6, 8, 6, 5]\n",
      "Episode duration:11, loss: 0.24622945487499237, steps done: 1364, state acts: [0.15275858 0.22300315 0.36901304 0.25522515] ,actions [5, 5, 4, 6, 5, 8, 6, 4, 4, 5]\n",
      "Episode duration:19, loss: 0.2677035927772522, steps done: 1383, state acts: [0.16535151 0.19242446 0.3759452  0.26627886] ,actions [6, 4, 6, 5, 6, 5, 6, 6, 5, 5]\n",
      "Episode duration:17, loss: 0.28236231207847595, steps done: 1400, state acts: [0.18131045 0.22851993 0.34123448 0.2489351 ] ,actions [5, 5, 6, 8, 6, 8, 5, 8, 6, 6]\n",
      "Episode duration:55, loss: 0.2672731280326843, steps done: 1455, state acts: [0.1734947  0.25026634 0.3715369  0.20470205] ,actions [5, 8, 5, 8, 6, 8, 4, 8, 8, 6]\n",
      "Episode duration:6, loss: 0.22315749526023865, steps done: 1461, state acts: [0.15286851 0.21142028 0.36664397 0.26906723] ,actions [8, 5, 4, 6, 8, 4]\n",
      "Episode duration:6, loss: 0.21911565959453583, steps done: 1467, state acts: [0.15529989 0.22135545 0.3485648  0.27477986] ,actions [5, 8, 8, 8, 8, 8]\n",
      "Episode duration:10, loss: 0.29231131076812744, steps done: 1477, state acts: [0.18760258 0.21573362 0.36476824 0.23189557] ,actions [4, 8, 5, 6, 6, 4, 6, 8, 5, 8]\n",
      "Episode duration:10, loss: 0.276399165391922, steps done: 1487, state acts: [0.16827323 0.17946474 0.34102735 0.31123474] ,actions [8, 4, 4, 8, 8, 6, 6, 6, 8, 8]\n",
      "Episode duration:9, loss: 0.2642345130443573, steps done: 1496, state acts: [0.18987581 0.17819312 0.36216685 0.26976418] ,actions [8, 4, 5, 5, 6, 4, 5, 4, 8]\n",
      "Episode duration:6, loss: 0.2733861804008484, steps done: 1502, state acts: [0.16622403 0.19854486 0.3544021  0.280829  ] ,actions [5, 5, 5, 8, 5, 8]\n",
      "Episode duration:8, loss: 0.23736126720905304, steps done: 1510, state acts: [0.1606277  0.21903919 0.35417062 0.26616248] ,actions [5, 6, 5, 4, 5, 8, 5, 8]\n",
      "Episode duration:11, loss: 0.20428335666656494, steps done: 1521, state acts: [0.18353347 0.20951237 0.35841477 0.2485394 ] ,actions [4, 8, 4, 8, 8, 6, 6, 6, 6, 8]\n",
      "Episode duration:8, loss: 0.242018461227417, steps done: 1529, state acts: [0.23176675 0.17697604 0.335136   0.25612125] ,actions [5, 6, 5, 8, 8, 8, 4, 5]\n",
      "Episode duration:16, loss: 0.24491164088249207, steps done: 1545, state acts: [0.16640571 0.20844854 0.3785772  0.24656853] ,actions [5, 6, 4, 8, 6, 6, 6, 6, 8, 8]\n",
      "Episode duration:16, loss: 0.2809589207172394, steps done: 1561, state acts: [0.17647257 0.20151652 0.31121373 0.31079713] ,actions [8, 5, 6, 6, 5, 8, 8, 4, 6, 5]\n",
      "Episode duration:13, loss: 0.23503755033016205, steps done: 1574, state acts: [0.18885906 0.18399487 0.3451788  0.28196728] ,actions [4, 4, 8, 6, 8, 8, 8, 6, 4, 6]\n",
      "Episode duration:10, loss: 0.25474119186401367, steps done: 1584, state acts: [0.19070978 0.17079104 0.392609   0.24589017] ,actions [6, 4, 5, 4, 8, 8, 4, 6, 6, 4]\n",
      "Episode duration:6, loss: 0.2802734375, steps done: 1590, state acts: [0.16150281 0.17982662 0.39361125 0.26505932] ,actions [6, 5, 4, 6, 6, 6]\n",
      "Episode duration:10, loss: 0.28826069831848145, steps done: 1600, state acts: [0.14187607 0.23550335 0.31373927 0.30888137] ,actions [5, 8, 4, 8, 8, 8, 5, 5, 4, 6]\n",
      "Episode duration:17, loss: 0.260156512260437, steps done: 1617, state acts: [0.17878412 0.20316307 0.31382003 0.3042328 ] ,actions [8, 4, 5, 8, 5, 6, 8, 6, 4, 4]\n",
      "Episode duration:7, loss: 0.23100988566875458, steps done: 1624, state acts: [0.14835459 0.2397293  0.34299025 0.26892588] ,actions [4, 8, 8, 8, 4, 8, 5]\n",
      "Episode duration:4, loss: 0.2944086492061615, steps done: 1628, state acts: [0.13054958 0.2081877  0.42543906 0.23582368] ,actions [8, 4, 4, 6]\n",
      "Episode duration:5, loss: 0.28197622299194336, steps done: 1633, state acts: [0.13796932 0.20236667 0.34281713 0.31684688] ,actions [5, 5, 4, 4, 4]\n",
      "Episode duration:8, loss: 0.24261823296546936, steps done: 1641, state acts: [0.15782353 0.1954064  0.3601681  0.286602  ] ,actions [8, 5, 8, 4, 5, 8, 4, 6]\n",
      "Episode duration:9, loss: 0.2463068664073944, steps done: 1650, state acts: [0.14835697 0.23180147 0.37995294 0.2398886 ] ,actions [6, 4, 6, 4, 4, 4, 5, 6, 6]\n",
      "Episode duration:41, loss: 0.2186318039894104, steps done: 1691, state acts: [0.13304365 0.26272997 0.29303104 0.31119537] ,actions [4, 4, 8, 5, 4, 5, 6, 4, 6, 5]\n",
      "Episode duration:21, loss: 0.2637576758861542, steps done: 1712, state acts: [0.16581206 0.18143445 0.33813062 0.31462288] ,actions [5, 6, 8, 4, 8, 6, 5, 5, 5, 8]\n",
      "Episode duration:13, loss: 0.24213887751102448, steps done: 1725, state acts: [0.17744912 0.19370635 0.3746487  0.25419584] ,actions [4, 6, 8, 5, 8, 8, 6, 4, 6, 5]\n",
      "Episode duration:10, loss: 0.2521866261959076, steps done: 1735, state acts: [0.18346076 0.22406529 0.35567626 0.23679768] ,actions [6, 5, 6, 8, 8, 4, 6, 6, 6, 6]\n",
      "Episode duration:7, loss: 0.2690589427947998, steps done: 1742, state acts: [0.15423591 0.19480732 0.404948   0.24600877] ,actions [5, 5, 5, 8, 8, 6, 5]\n",
      "Episode duration:10, loss: 0.2716626226902008, steps done: 1752, state acts: [0.15073228 0.2702666  0.3012324  0.2777688 ] ,actions [4, 4, 4, 5, 8, 6, 6, 6, 4, 6]\n",
      "Episode duration:4, loss: 0.2287948727607727, steps done: 1756, state acts: [0.13865082 0.24606794 0.3086722  0.30660903] ,actions [5, 4, 4, 6]\n",
      "Episode duration:9, loss: 0.2820914685726166, steps done: 1765, state acts: [0.13320409 0.25191322 0.33556542 0.27931726] ,actions [6, 5, 5, 4, 6, 5, 5, 4, 6]\n",
      "##### Long duration: 13.24, long loss: 0.2820914685726166, nb eats: 0.18\n",
      "Episode duration:5, loss: 0.29260513186454773, steps done: 1770, state acts: [0.20792675 0.20267193 0.3167729  0.27262846] ,actions [5, 4, 8, 4, 4]\n",
      "Episode duration:48, loss: 0.2645440697669983, steps done: 1818, state acts: [0.18108274 0.21064891 0.361727   0.24654132] ,actions [6, 6, 5, 6, 5, 5, 8, 6, 8, 5]\n"
     ]
    },
    {
     "name": "stdout",
     "output_type": "stream",
     "text": [
      "Episode duration:22, loss: 0.25002264976501465, steps done: 1840, state acts: [0.16621254 0.22014211 0.3159221  0.29772323] ,actions [4, 5, 8, 8, 8, 8, 6, 4, 4, 6]\n",
      "Episode duration:6, loss: 0.2952609658241272, steps done: 1846, state acts: [0.1989738  0.20313217 0.32056427 0.27732977] ,actions [5, 5, 5, 5, 8, 8]\n",
      "Episode duration:10, loss: 0.25210410356521606, steps done: 1856, state acts: [0.19886735 0.19207405 0.3642448  0.24481386] ,actions [6, 6, 6, 6, 8, 5, 8, 4, 8, 5]\n",
      "Episode duration:19, loss: 0.23040752112865448, steps done: 1875, state acts: [0.21519358 0.18961968 0.30358905 0.29159772] ,actions [6, 6, 5, 6, 6, 5, 4, 4, 5, 6]\n",
      "Episode duration:25, loss: 0.26292967796325684, steps done: 1900, state acts: [0.16116875 0.2519837  0.3038932  0.2829544 ] ,actions [8, 8, 6, 6, 5, 4, 6, 4, 8, 6]\n",
      "Episode duration:10, loss: 0.23462456464767456, steps done: 1910, state acts: [0.16046499 0.21395504 0.36015132 0.26542866] ,actions [6, 6, 4, 8, 5, 6, 8, 6, 8, 8]\n",
      "Episode duration:13, loss: 0.25497129559516907, steps done: 1923, state acts: [0.17974442 0.19545531 0.3651355  0.25966477] ,actions [4, 6, 5, 5, 4, 8, 4, 6, 5, 8]\n",
      "Episode duration:13, loss: 0.27563172578811646, steps done: 1936, state acts: [0.18004297 0.20352091 0.35576993 0.2606662 ] ,actions [4, 6, 6, 5, 6, 5, 5, 8, 5, 6]\n",
      "Episode duration:17, loss: 0.21200941503047943, steps done: 1953, state acts: [0.18024623 0.18919434 0.33880714 0.29175234] ,actions [8, 4, 8, 6, 6, 6, 5, 8, 6, 6]\n",
      "Episode duration:25, loss: 0.2262679487466812, steps done: 1978, state acts: [0.16578232 0.24549015 0.351829   0.23689851] ,actions [5, 8, 6, 6, 6, 8, 8, 6, 5, 4]\n",
      "Episode duration:16, loss: 0.23812896013259888, steps done: 1994, state acts: [0.15527032 0.2012637  0.38901296 0.2544531 ] ,actions [6, 5, 8, 8, 6, 8, 5, 4, 5, 5]\n",
      "Episode duration:25, loss: 0.28180059790611267, steps done: 2019, state acts: [0.16913846 0.18692754 0.4069493  0.23698477] ,actions [4, 6, 4, 5, 4, 4, 4, 4, 8, 6]\n",
      "Episode duration:15, loss: 0.24544626474380493, steps done: 2034, state acts: [0.17491116 0.27803424 0.33863246 0.20842212] ,actions [4, 5, 6, 6, 8, 6, 5, 5, 8, 6]\n",
      "Episode duration:25, loss: 0.2436904013156891, steps done: 2059, state acts: [0.13773632 0.28696036 0.31494537 0.26035798] ,actions [6, 8, 6, 6, 5, 6, 8, 6, 5, 6]\n",
      "Episode duration:9, loss: 0.23246751725673676, steps done: 2068, state acts: [0.18676248 0.23229977 0.32855108 0.2523867 ] ,actions [4, 8, 5, 8, 6, 8, 6, 4, 8]\n",
      "Episode duration:28, loss: 0.256743460893631, steps done: 2096, state acts: [0.17668861 0.21723789 0.29715237 0.3089211 ] ,actions [8, 6, 4, 4, 6, 6, 5, 5, 5, 4]\n",
      "Episode duration:20, loss: 0.22774332761764526, steps done: 2116, state acts: [0.1513696  0.24088345 0.31739452 0.2903524 ] ,actions [4, 5, 6, 8, 6, 8, 6, 6, 6, 4]\n",
      "Episode duration:31, loss: 0.21819628775119781, steps done: 2147, state acts: [0.11609831 0.2138267  0.38677472 0.28330025] ,actions [4, 5, 6, 4, 8, 4, 5, 6, 8, 5]\n",
      "Episode duration:16, loss: 0.2698213756084442, steps done: 2163, state acts: [0.1630672  0.23631567 0.40260026 0.19801687] ,actions [5, 5, 8, 8, 6, 8, 8, 8, 4, 4]\n",
      "Episode duration:32, loss: 0.25029730796813965, steps done: 2195, state acts: [0.15490134 0.24022347 0.30730835 0.29756686] ,actions [5, 6, 5, 5, 6, 8, 8, 8, 8, 6]\n",
      "Episode duration:29, loss: 0.2345873862504959, steps done: 2224, state acts: [0.15212527 0.21922335 0.334472   0.29417938] ,actions [4, 5, 8, 4, 8, 6, 8, 6, 5, 8]\n",
      "Episode duration:36, loss: 0.2705179750919342, steps done: 2260, state acts: [0.12677258 0.22576171 0.35751706 0.28994864] ,actions [6, 5, 8, 8, 4, 8, 4, 4, 5, 6]\n",
      "Episode duration:12, loss: 0.25595375895500183, steps done: 2272, state acts: [0.11900917 0.19595559 0.3431374  0.34189785] ,actions [5, 5, 6, 6, 6, 5, 6, 5, 8, 6]\n",
      "Episode duration:21, loss: 0.23237629234790802, steps done: 2293, state acts: [0.15161476 0.22901745 0.34533378 0.274034  ] ,actions [5, 8, 6, 8, 8, 4, 5, 6, 8, 6]\n",
      "Episode duration:20, loss: 0.23772083222866058, steps done: 2313, state acts: [0.1843927  0.19716884 0.3415358  0.27690265] ,actions [8, 8, 6, 6, 8, 6, 6, 6, 6, 5]\n",
      "Episode duration:13, loss: 0.261979341506958, steps done: 2326, state acts: [0.16861883 0.20872329 0.36161232 0.26104555] ,actions [4, 5, 4, 8, 5, 6, 6, 4, 6, 8]\n",
      "Episode duration:23, loss: 0.24516139924526215, steps done: 2349, state acts: [0.13018738 0.24637114 0.34189934 0.28154212] ,actions [6, 6, 4, 6, 6, 8, 8, 4, 6, 6]\n",
      "Episode duration:29, loss: 0.20880037546157837, steps done: 2378, state acts: [0.1584293  0.25030053 0.33198997 0.25928023] ,actions [8, 6, 8, 6, 6, 5, 6, 4, 6, 6]\n",
      "Episode duration:7, loss: 0.26190266013145447, steps done: 2385, state acts: [0.14117388 0.21219343 0.3666973  0.27993542] ,actions [8, 6, 4, 8, 5, 8, 5]\n",
      "Episode duration:18, loss: 0.2316591888666153, steps done: 2403, state acts: [0.15492119 0.22077118 0.30583397 0.3184737 ] ,actions [8, 6, 6, 4, 6, 6, 6, 6, 5, 4]\n",
      "Episode duration:45, loss: 0.2505783438682556, steps done: 2448, state acts: [0.16739771 0.22781585 0.3774357  0.22735076] ,actions [5, 6, 5, 6, 4, 6, 5, 4, 5, 5]\n",
      "Episode duration:9, loss: 0.24578018486499786, steps done: 2457, state acts: [0.17952195 0.2003733  0.3581526  0.26195216] ,actions [5, 8, 8, 4, 8, 5, 5, 4, 6]\n",
      "Episode duration:15, loss: 0.2382303923368454, steps done: 2472, state acts: [0.16418093 0.23850046 0.30412564 0.29319295] ,actions [4, 5, 4, 8, 5, 8, 8, 4, 6, 8]\n",
      "Episode duration:14, loss: 0.28596732020378113, steps done: 2486, state acts: [0.15651351 0.19696468 0.36405593 0.28246582] ,actions [8, 6, 6, 6, 6, 6, 6, 8, 8, 4]\n",
      "Episode duration:18, loss: 0.2763993740081787, steps done: 2504, state acts: [0.1601918  0.21835287 0.3633583  0.25809696] ,actions [4, 5, 8, 4, 6, 8, 5, 4, 5, 5]\n",
      "Episode duration:43, loss: 0.2512807548046112, steps done: 2547, state acts: [0.16316953 0.24681169 0.32776707 0.26225168] ,actions [4, 6, 5, 6, 4, 5, 4, 8, 4, 4]\n",
      "Episode duration:14, loss: 0.2356172651052475, steps done: 2561, state acts: [0.12183757 0.2417047  0.36370912 0.27274862] ,actions [5, 6, 8, 5, 4, 6, 5, 5, 5, 8]\n",
      "Episode duration:12, loss: 0.23034152388572693, steps done: 2573, state acts: [0.13654739 0.23068143 0.37195086 0.26082027] ,actions [6, 5, 5, 6, 6, 6, 4, 5, 8, 6]\n",
      "Episode duration:32, loss: 0.2290998250246048, steps done: 2605, state acts: [0.13768905 0.24583888 0.32243195 0.29404014] ,actions [5, 8, 6, 6, 6, 6, 4, 8, 8, 8]\n",
      "Episode duration:29, loss: 0.2394373118877411, steps done: 2634, state acts: [0.18297818 0.22939944 0.34786394 0.23975848] ,actions [5, 4, 4, 8, 8, 8, 6, 6, 6, 5]\n",
      "Episode duration:19, loss: 0.2601666748523712, steps done: 2653, state acts: [0.13100724 0.2466261  0.36405984 0.25830683] ,actions [8, 8, 6, 6, 4, 4, 5, 8, 5, 4]\n",
      "Episode duration:32, loss: 0.26358649134635925, steps done: 2685, state acts: [0.13355821 0.2614036  0.3233937  0.2816445 ] ,actions [5, 6, 4, 5, 6, 6, 4, 8, 5, 5]\n",
      "Episode duration:16, loss: 0.2605723738670349, steps done: 2701, state acts: [0.15089652 0.29517925 0.29395846 0.2599658 ] ,actions [8, 6, 5, 6, 6, 6, 6, 8, 6, 6]\n",
      "Episode duration:9, loss: 0.21998444199562073, steps done: 2710, state acts: [0.16262098 0.24712813 0.3450912  0.2451597 ] ,actions [4, 4, 6, 4, 4, 8, 6, 4, 4]\n",
      "Episode duration:7, loss: 0.25712984800338745, steps done: 2717, state acts: [0.20010714 0.23241444 0.3020952  0.26538324] ,actions [4, 4, 8, 5, 8, 8, 8]\n",
      "Episode duration:22, loss: 0.22644856572151184, steps done: 2739, state acts: [0.15555832 0.28902304 0.3317278  0.22369082] ,actions [6, 4, 5, 6, 8, 6, 5, 5, 6, 6]\n",
      "Episode duration:11, loss: 0.2312210500240326, steps done: 2750, state acts: [0.15773952 0.20852105 0.3654819  0.2682575 ] ,actions [8, 8, 8, 5, 4, 5, 5, 4, 8, 8]\n",
      "Episode duration:21, loss: 0.23324815928936005, steps done: 2771, state acts: [0.14611657 0.21780577 0.33022937 0.30584827] ,actions [5, 5, 8, 6, 6, 8, 5, 6, 8, 4]\n",
      "##### Long duration: 20.12, long loss: 0.23324815928936005, nb eats: 0.14\n",
      "Episode duration:18, loss: 0.24096831679344177, steps done: 2789, state acts: [0.14613856 0.25811565 0.3294935  0.26625225] ,actions [6, 6, 8, 6, 6, 5, 8, 4, 8, 4]\n",
      "Episode duration:13, loss: 0.26205188035964966, steps done: 2802, state acts: [0.15777789 0.22806868 0.3415313  0.27262217] ,actions [8, 6, 5, 6, 6, 8, 6, 6, 6, 4]\n"
     ]
    },
    {
     "name": "stdout",
     "output_type": "stream",
     "text": [
      "Episode duration:13, loss: 0.24767766892910004, steps done: 2815, state acts: [0.14206617 0.21881281 0.32453638 0.3145847 ] ,actions [4, 8, 5, 4, 6, 8, 5, 6, 6, 5]\n",
      "Episode duration:4, loss: 0.24489693343639374, steps done: 2819, state acts: [0.14078593 0.18716028 0.36483848 0.30721524] ,actions [5, 4, 6, 6]\n",
      "Episode duration:5, loss: 0.2226603627204895, steps done: 2824, state acts: [0.18312657 0.1942159  0.3637764  0.25888115] ,actions [5, 4, 4, 8, 4]\n",
      "Episode duration:12, loss: 0.26912233233451843, steps done: 2836, state acts: [0.14747429 0.26684457 0.34647676 0.23920433] ,actions [4, 4, 8, 6, 6, 6, 8, 5, 8, 6]\n",
      "Episode duration:17, loss: 0.24284563958644867, steps done: 2853, state acts: [0.14749363 0.22939625 0.32005337 0.3030567 ] ,actions [6, 8, 8, 6, 6, 5, 8, 8, 5, 6]\n",
      "Episode duration:28, loss: 0.22835640609264374, steps done: 2881, state acts: [0.18163845 0.19656254 0.34347355 0.27832547] ,actions [4, 8, 6, 6, 4, 4, 6, 8, 6, 5]\n",
      "Episode duration:19, loss: 0.28114062547683716, steps done: 2900, state acts: [0.16487437 0.21466853 0.36222357 0.25823352] ,actions [8, 6, 6, 5, 5, 6, 5, 6, 5, 4]\n",
      "Episode duration:8, loss: 0.261807918548584, steps done: 2908, state acts: [0.18065561 0.21476625 0.3136971  0.29088104] ,actions [5, 5, 5, 4, 8, 8, 4, 6]\n",
      "Episode duration:23, loss: 0.2088112235069275, steps done: 2931, state acts: [0.17344847 0.23918466 0.3314877  0.25587916] ,actions [8, 8, 5, 8, 6, 6, 4, 6, 6, 5]\n",
      "Episode duration:25, loss: 0.23505975306034088, steps done: 2956, state acts: [0.13460305 0.25294426 0.37556237 0.23689036] ,actions [5, 5, 5, 8, 4, 8, 8, 5, 5, 5]\n",
      "Episode duration:13, loss: 0.2576146721839905, steps done: 2969, state acts: [0.15480311 0.24694991 0.31199074 0.28625628] ,actions [6, 5, 5, 6, 6, 8, 5, 8, 6, 4]\n",
      "Episode duration:26, loss: 0.27498096227645874, steps done: 2995, state acts: [0.14216118 0.2583787  0.35391417 0.24554595] ,actions [5, 5, 8, 4, 8, 6, 4, 6, 6, 8]\n",
      "Episode duration:24, loss: 0.24042090773582458, steps done: 3019, state acts: [0.15938674 0.2506933  0.34098303 0.24893689] ,actions [6, 6, 4, 8, 8, 4, 6, 6, 5, 6]\n",
      "Episode duration:24, loss: 0.24099156260490417, steps done: 3043, state acts: [0.13343039 0.23520194 0.3495737  0.28179395] ,actions [6, 4, 6, 6, 5, 6, 5, 4, 6, 8]\n",
      "Episode duration:17, loss: 0.2573322057723999, steps done: 3060, state acts: [0.16161995 0.20087236 0.34043396 0.29707372] ,actions [8, 6, 6, 6, 8, 6, 5, 8, 5, 8]\n",
      "Episode duration:15, loss: 0.21188275516033173, steps done: 3075, state acts: [0.16498874 0.21331988 0.39054734 0.23114401] ,actions [5, 8, 6, 4, 4, 6, 8, 8, 4, 5]\n",
      "Episode duration:10, loss: 0.24989715218544006, steps done: 3085, state acts: [0.12601356 0.25023684 0.33434758 0.289402  ] ,actions [6, 8, 6, 5, 8, 4, 6, 4, 6, 4]\n",
      "Episode duration:21, loss: 0.2624712884426117, steps done: 3106, state acts: [0.15032515 0.24575467 0.27697065 0.32694948] ,actions [6, 8, 6, 4, 6, 6, 5, 4, 6, 6]\n",
      "Episode duration:8, loss: 0.24583256244659424, steps done: 3114, state acts: [0.18870379 0.21605372 0.31304595 0.2821965 ] ,actions [4, 5, 8, 8, 5, 8, 4, 5]\n",
      "Episode duration:7, loss: 0.22430935502052307, steps done: 3121, state acts: [0.20008492 0.2271447  0.32051918 0.25225118] ,actions [5, 8, 4, 5, 8, 4, 6]\n",
      "Episode duration:19, loss: 0.21799030900001526, steps done: 3140, state acts: [0.13022104 0.2456307  0.33101612 0.29313213] ,actions [4, 4, 4, 6, 8, 6, 8, 8, 6, 4]\n",
      "Episode duration:11, loss: 0.24946579337120056, steps done: 3151, state acts: [0.13781461 0.23364352 0.39922956 0.22931229] ,actions [4, 5, 6, 6, 8, 5, 5, 5, 8, 6]\n",
      "Episode duration:13, loss: 0.20803311467170715, steps done: 3164, state acts: [0.15472859 0.19301136 0.37527648 0.2769836 ] ,actions [6, 4, 4, 5, 8, 6, 4, 5, 5, 8]\n",
      "Episode duration:12, loss: 0.2908226549625397, steps done: 3176, state acts: [0.12183122 0.22230935 0.40123966 0.25461978] ,actions [5, 6, 8, 5, 8, 4, 6, 8, 5, 6]\n",
      "Episode duration:16, loss: 0.21870307624340057, steps done: 3192, state acts: [0.15283789 0.21775289 0.35914725 0.270262  ] ,actions [5, 4, 8, 6, 6, 4, 6, 5, 4, 5]\n",
      "Episode duration:12, loss: 0.2496768832206726, steps done: 3204, state acts: [0.15616077 0.21664289 0.36004305 0.26715326] ,actions [4, 4, 4, 8, 8, 4, 6, 4, 8, 4]\n",
      "Episode duration:30, loss: 0.23550675809383392, steps done: 3234, state acts: [0.13354091 0.24567825 0.3019632  0.31881765] ,actions [6, 6, 8, 6, 6, 5, 4, 6, 6, 6]\n",
      "Episode duration:8, loss: 0.2801562547683716, steps done: 3242, state acts: [0.13349935 0.27367777 0.33852717 0.2542957 ] ,actions [6, 4, 8, 4, 6, 6, 6, 4]\n",
      "Episode duration:18, loss: 0.23914849758148193, steps done: 3260, state acts: [0.15157977 0.27282396 0.36402577 0.21157049] ,actions [6, 8, 6, 5, 5, 4, 6, 4, 5, 8]\n",
      "Episode duration:33, loss: 0.25744131207466125, steps done: 3293, state acts: [0.14179458 0.25476617 0.32339838 0.28004086] ,actions [4, 5, 5, 4, 4, 8, 6, 4, 6, 6]\n",
      "Episode duration:16, loss: 0.2553027272224426, steps done: 3309, state acts: [0.14856702 0.24150302 0.30823204 0.30169794] ,actions [5, 5, 6, 4, 8, 8, 6, 6, 5, 6]\n",
      "Episode duration:7, loss: 0.29730224609375, steps done: 3316, state acts: [0.10864483 0.2907692  0.34086365 0.25972238] ,actions [8, 8, 4, 6, 8, 8, 4]\n",
      "Episode duration:13, loss: 0.2061058133840561, steps done: 3329, state acts: [0.1168554  0.25983208 0.3418702  0.28144234] ,actions [4, 6, 4, 6, 5, 5, 8, 6, 6, 4]\n",
      "Episode duration:9, loss: 0.24043285846710205, steps done: 3338, state acts: [0.1630738  0.18961596 0.3500285  0.29728174] ,actions [6, 5, 5, 6, 6, 5, 8, 5, 5]\n",
      "Episode duration:22, loss: 0.19414962828159332, steps done: 3360, state acts: [0.13841629 0.21049401 0.36487752 0.2862122 ] ,actions [5, 8, 8, 6, 8, 5, 8, 4, 8, 6]\n",
      "Episode duration:15, loss: 0.2739584743976593, steps done: 3375, state acts: [0.15362519 0.15922317 0.40229902 0.28485265] ,actions [6, 5, 6, 6, 4, 4, 5, 4, 5, 6]\n",
      "Episode duration:11, loss: 0.23617681860923767, steps done: 3386, state acts: [0.1281455  0.20666805 0.3685979  0.29658857] ,actions [5, 6, 8, 8, 8, 8, 4, 6, 6, 8]\n",
      "Episode duration:14, loss: 0.296047568321228, steps done: 3400, state acts: [0.11786499 0.22266962 0.37792107 0.2815443 ] ,actions [4, 4, 8, 6, 8, 4, 8, 6, 5, 6]\n",
      "Episode duration:22, loss: 0.26912420988082886, steps done: 3422, state acts: [0.15126419 0.2534609  0.3182703  0.27700454] ,actions [5, 5, 4, 4, 5, 5, 6, 6, 4, 6]\n",
      "Episode duration:16, loss: 0.281524658203125, steps done: 3438, state acts: [0.1856343  0.20965296 0.3364576  0.26825514] ,actions [6, 6, 4, 4, 4, 8, 5, 6, 5, 8]\n",
      "Episode duration:7, loss: 0.22278814017772675, steps done: 3445, state acts: [0.1277236  0.24424526 0.38307548 0.24495564] ,actions [6, 6, 8, 8, 8, 8, 8]\n",
      "Episode duration:17, loss: 0.2210080325603485, steps done: 3462, state acts: [0.19936626 0.20191628 0.3315528  0.26716465] ,actions [5, 5, 5, 6, 8, 5, 4, 8, 6, 5]\n",
      "Episode duration:13, loss: 0.28892290592193604, steps done: 3475, state acts: [0.1556057  0.25140414 0.30575573 0.28723443] ,actions [6, 6, 6, 6, 6, 4, 5, 5, 8, 6]\n",
      "Episode duration:24, loss: 0.28683605790138245, steps done: 3499, state acts: [0.1974316  0.21740662 0.31028852 0.2748733 ] ,actions [5, 6, 5, 5, 8, 4, 8, 8, 8, 5]\n",
      "Episode duration:14, loss: 0.27485498785972595, steps done: 3513, state acts: [0.1710177  0.22584373 0.34909925 0.25403932] ,actions [4, 5, 6, 4, 8, 4, 6, 4, 5, 8]\n",
      "Episode duration:22, loss: 0.2759678065776825, steps done: 3535, state acts: [0.1483262  0.22280107 0.34517556 0.28369713] ,actions [4, 5, 6, 5, 4, 8, 6, 5, 4, 4]\n",
      "Episode duration:13, loss: 0.20565718412399292, steps done: 3548, state acts: [0.14922424 0.2194477  0.3761666  0.25516146] ,actions [4, 5, 8, 6, 5, 6, 6, 5, 6, 6]\n",
      "Episode duration:16, loss: 0.23480334877967834, steps done: 3564, state acts: [0.13869655 0.29066047 0.2959194  0.27472356] ,actions [8, 6, 5, 5, 6, 6, 5, 4, 6, 5]\n",
      "##### Long duration: 15.86, long loss: 0.23480334877967834, nb eats: 0.08\n",
      "Episode duration:10, loss: 0.239085391163826, steps done: 3574, state acts: [0.13752286 0.26987273 0.3347949  0.25780946] ,actions [6, 8, 6, 6, 4, 8, 8, 6, 8, 5]\n",
      "Episode duration:28, loss: 0.25894397497177124, steps done: 3602, state acts: [0.12852159 0.21746625 0.36647308 0.28753904] ,actions [6, 6, 4, 8, 6, 4, 8, 8, 8, 6]\n",
      "Episode duration:22, loss: 0.2215624302625656, steps done: 3624, state acts: [0.13829292 0.2600764  0.34864977 0.2529809 ] ,actions [8, 6, 6, 8, 6, 8, 4, 8, 6, 6]\n"
     ]
    },
    {
     "name": "stdout",
     "output_type": "stream",
     "text": [
      "Episode duration:5, loss: 0.2622718811035156, steps done: 3629, state acts: [0.1555553  0.21320605 0.37298882 0.25824985] ,actions [8, 4, 4, 8, 4]\n",
      "Episode duration:24, loss: 0.2471260279417038, steps done: 3653, state acts: [0.16131455 0.20140421 0.3451876  0.29209366] ,actions [5, 6, 8, 6, 6, 8, 6, 4, 6, 5]\n",
      "Episode duration:20, loss: 0.21878992021083832, steps done: 3673, state acts: [0.14524384 0.22258797 0.38925716 0.24291104] ,actions [4, 8, 6, 6, 8, 4, 6, 6, 5, 6]\n",
      "Episode duration:22, loss: 0.2684246599674225, steps done: 3695, state acts: [0.16844659 0.23840003 0.33525324 0.25790012] ,actions [5, 6, 8, 5, 5, 6, 5, 5, 8, 4]\n",
      "Episode duration:48, loss: 0.24561026692390442, steps done: 3743, state acts: [0.1289593  0.21733049 0.3564065  0.29730377] ,actions [4, 4, 8, 5, 6, 4, 5, 8, 6, 8]\n",
      "Episode duration:6, loss: 0.24096764624118805, steps done: 3749, state acts: [0.16880555 0.2120265  0.31687585 0.30229208] ,actions [5, 8, 8, 4, 6, 4]\n",
      "Episode duration:16, loss: 0.20116084814071655, steps done: 3765, state acts: [0.08869592 0.25414282 0.40286112 0.25430015] ,actions [5, 6, 4, 8, 6, 8, 6, 5, 5, 6]\n",
      "Episode duration:9, loss: 0.28965744376182556, steps done: 3774, state acts: [0.13828878 0.18978772 0.4055978  0.26632577] ,actions [5, 6, 5, 8, 8, 4, 4, 4, 4]\n",
      "Episode duration:4, loss: 0.22859400510787964, steps done: 3778, state acts: [0.14841203 0.25777948 0.3326569  0.26115158] ,actions [5, 4, 4, 6]\n",
      "Episode duration:17, loss: 0.23738643527030945, steps done: 3795, state acts: [0.11287382 0.21799204 0.32616383 0.34297037] ,actions [6, 5, 6, 5, 4, 4, 5, 8, 6, 6]\n",
      "Episode duration:19, loss: 0.2202034890651703, steps done: 3814, state acts: [0.11774504 0.24350087 0.35894924 0.27980486] ,actions [8, 6, 6, 8, 8, 4, 4, 8, 6, 6]\n",
      "Episode duration:23, loss: 0.24148458242416382, steps done: 3837, state acts: [0.13795024 0.19317104 0.38860056 0.28027818] ,actions [8, 8, 6, 6, 8, 6, 6, 8, 4, 6]\n",
      "Episode duration:9, loss: 0.22357304394245148, steps done: 3846, state acts: [0.17245713 0.22400837 0.325149   0.27838552] ,actions [6, 5, 8, 8, 4, 8, 4, 6, 6]\n",
      "Episode duration:6, loss: 0.21810637414455414, steps done: 3852, state acts: [0.17559282 0.20327125 0.3452576  0.2758783 ] ,actions [5, 5, 5, 8, 5, 8]\n",
      "Episode duration:10, loss: 0.24706433713436127, steps done: 3862, state acts: [0.1393476  0.25115582 0.3009907  0.3085059 ] ,actions [6, 5, 6, 6, 8, 8, 5, 5, 5, 5]\n",
      "Episode duration:35, loss: 0.25473231077194214, steps done: 3897, state acts: [0.1512877  0.23771112 0.29593748 0.31506366] ,actions [6, 4, 8, 6, 6, 6, 5, 8, 6, 4]\n",
      "Episode duration:26, loss: 0.23641467094421387, steps done: 3923, state acts: [0.1685109  0.22551067 0.28444728 0.32153118] ,actions [5, 8, 8, 8, 8, 4, 4, 8, 8, 8]\n",
      "Episode duration:4, loss: 0.2105318009853363, steps done: 3927, state acts: [0.13916095 0.27663675 0.33622876 0.24797353] ,actions [8, 4, 6, 6]\n",
      "Episode duration:18, loss: 0.17995788156986237, steps done: 3945, state acts: [0.1412623  0.21086094 0.35453296 0.2933438 ] ,actions [6, 8, 8, 5, 8, 6, 6, 6, 6, 5]\n",
      "Episode duration:14, loss: 0.25570520758628845, steps done: 3959, state acts: [0.14250167 0.20746695 0.35756817 0.29246327] ,actions [6, 5, 8, 6, 4, 6, 5, 4, 5, 6]\n",
      "Episode duration:16, loss: 0.2106323540210724, steps done: 3975, state acts: [0.16118401 0.21170837 0.32071978 0.30638793] ,actions [8, 4, 5, 6, 5, 8, 8, 6, 8, 4]\n",
      "Episode duration:24, loss: 0.27010324597358704, steps done: 3999, state acts: [0.1349184  0.2826637  0.34124926 0.24116863] ,actions [8, 5, 4, 5, 6, 4, 4, 4, 6, 5]\n",
      "Episode duration:24, loss: 0.2653784453868866, steps done: 4023, state acts: [0.12533303 0.18500823 0.3681579  0.32150087] ,actions [5, 5, 6, 4, 6, 6, 4, 5, 4, 4]\n",
      "Episode duration:13, loss: 0.24236613512039185, steps done: 4036, state acts: [0.12192054 0.24501105 0.36015704 0.2729113 ] ,actions [8, 6, 8, 6, 6, 6, 5, 6, 6, 8]\n",
      "Episode duration:11, loss: 0.22243496775627136, steps done: 4047, state acts: [0.14063698 0.23938331 0.34828186 0.27169782] ,actions [4, 8, 6, 6, 8, 8, 8, 4, 6, 6]\n",
      "Episode duration:7, loss: 0.22513629496097565, steps done: 4054, state acts: [0.14643358 0.2382585  0.34552062 0.2697873 ] ,actions [5, 6, 8, 4, 4, 4, 4]\n",
      "Episode duration:10, loss: 0.20414593815803528, steps done: 4064, state acts: [0.13542601 0.23146011 0.34907517 0.2840387 ] ,actions [4, 6, 6, 6, 4, 6, 5, 5, 6, 4]\n",
      "Episode duration:39, loss: 0.24284213781356812, steps done: 4103, state acts: [0.18682487 0.22029908 0.31524915 0.2776269 ] ,actions [6, 4, 4, 8, 6, 6, 5, 5, 4, 8]\n",
      "Episode duration:6, loss: 0.21913231909275055, steps done: 4109, state acts: [0.13526171 0.23715201 0.33061132 0.29697496] ,actions [5, 8, 8, 8, 8, 5]\n",
      "Episode duration:15, loss: 0.22189879417419434, steps done: 4124, state acts: [0.18357046 0.21944845 0.3350952  0.26188585] ,actions [4, 4, 4, 8, 6, 6, 4, 6, 5, 8]\n",
      "Episode duration:6, loss: 0.22684505581855774, steps done: 4130, state acts: [0.16265632 0.1885845  0.34189016 0.30686903] ,actions [8, 8, 8, 4, 4, 4]\n",
      "Episode duration:37, loss: 0.21609675884246826, steps done: 4167, state acts: [0.13699958 0.22644298 0.32062602 0.3159314 ] ,actions [8, 6, 6, 6, 6, 5, 4, 6, 5, 8]\n",
      "Episode duration:5, loss: 0.22462359070777893, steps done: 4172, state acts: [0.12055963 0.21527918 0.35209388 0.31206736] ,actions [8, 8, 8, 8, 8]\n",
      "Episode duration:36, loss: 0.2540099620819092, steps done: 4208, state acts: [0.11845546 0.25987288 0.355499   0.26617268] ,actions [5, 6, 4, 8, 5, 8, 6, 5, 6, 6]\n"
     ]
    }
   ],
   "source": [
    "from torch import  optim\n",
    "import torch.nn.functional as F\n",
    "continue_train = True\n",
    "\n",
    "if not continue_train:\n",
    "    steps_done = 0\n",
    "    #policy_net = Feedforward(grille_torch_flat.shape[0], hidden_size, num_actions)\n",
    "    #target_net = Feedforward(grille_torch_flat.shape[0], hidden_size, num_actions)\n",
    "    policy_net = CNN()\n",
    "    target_net = CNN()\n",
    "    optimizer = optim.RMSprop(policy_net.parameters(), lr=0.0005)\n",
    "    memory = Memory()\n",
    "\n",
    "sb = SmartBot()\n",
    "num_episodes = 1000\n",
    "len_episodes = []\n",
    "nb_eats = []\n",
    "for i_episode in range(num_episodes):\n",
    "    sn = Snake(sizes, sb)\n",
    "    state = sn.reset()\n",
    "    state = preprocess_grille(state, to_cnn=True)\n",
    "    game_iterator = sn.play()\n",
    "    len_episode = 0\n",
    "    nb_eat = 0\n",
    "    losses = []\n",
    "    actions = []\n",
    "    while True:\n",
    "        len_episode+=1\n",
    "        reward, grille, user_action, is_done = next(game_iterator)\n",
    "        if is_done:\n",
    "            reward = 0\n",
    "        if reward > 1:\n",
    "            nb_eat+=1\n",
    "        memory.push(grille, input_to_position.get(user_action), reward, is_done)\n",
    "        loss, state_act = optimize_model(memory, policy_net, target_net)\n",
    "        actions.append(user_action)\n",
    "        if is_done:\n",
    "            len_episodes.append(len_episode)\n",
    "            losses.append(loss.item())\n",
    "            nb_eats.append(nb_eat)\n",
    "            print(f\"Episode duration:{len_episode}, loss: {loss}, steps done: {steps_done}, state acts: {state_act} ,actions {actions[:10]}\")\n",
    "            break\n",
    "\n",
    "        if i_episode % TARGET_UPDATE == 0:\n",
    "            target_net.load_state_dict(policy_net.state_dict())\n",
    "    if i_episode % 50 == 0:\n",
    "        print(\"#\"*5 ,f\"Long duration: {np.mean(len_episodes[-50:])}, long loss: {np.mean(losses[-50:])}, nb eats: {np.mean(nb_eats[-50:])}\")"
   ]
  },
  {
   "cell_type": "code",
   "execution_count": null,
   "metadata": {},
   "outputs": [],
   "source": [
    "pr"
   ]
  },
  {
   "cell_type": "code",
   "execution_count": 348,
   "metadata": {},
   "outputs": [],
   "source": [
    "h = memory.get_all_history()"
   ]
  },
  {
   "cell_type": "code",
   "execution_count": 352,
   "metadata": {
    "collapsed": true
   },
   "outputs": [
    {
     "data": {
      "text/plain": [
       "[([[1, 1, 1, 1, 1, 1, 1, 1, 1, 1, 1, 1],\n",
       "   [1, 0, 0, 0, 0, 0, 0, 0, 0, 0, 0, 1],\n",
       "   [1, 0, 0, 0, 0, 0, 0, 0, 0, 0, 0, 1],\n",
       "   [1, 0, 0, 0, 0, 0, 0, 0, 0, 3, 9, 1],\n",
       "   [1, 0, 0, 0, 0, 0, 0, 0, 0, 2, 0, 1],\n",
       "   [1, 0, 0, 0, 0, 0, 0, 0, 0, 2, 0, 1],\n",
       "   [1, 0, 0, 0, 0, 0, 0, 0, 0, 0, 0, 1],\n",
       "   [1, 0, 0, 0, 0, 0, 0, 0, 0, 0, 0, 1],\n",
       "   [1, 0, 0, 0, 0, 0, 0, 0, 0, 0, 0, 1],\n",
       "   [1, 0, 0, 0, 0, 0, 0, 0, 0, 0, 0, 1],\n",
       "   [1, 0, 0, 0, 0, 0, 0, 0, 0, 0, 0, 1],\n",
       "   [1, 1, 1, 1, 1, 1, 1, 1, 1, 1, 1, 1]],\n",
       "  2,\n",
       "  2,\n",
       "  False),\n",
       " ([[1, 1, 1, 1, 1, 1, 1, 1, 1, 1, 1, 1],\n",
       "   [1, 0, 0, 0, 0, 0, 0, 0, 0, 0, 0, 1],\n",
       "   [1, 0, 0, 0, 0, 0, 0, 0, 0, 0, 0, 1],\n",
       "   [1, 0, 0, 0, 0, 0, 0, 0, 0, 0, 0, 1],\n",
       "   [1, 0, 0, 0, 0, 9, 0, 0, 0, 0, 0, 1],\n",
       "   [1, 0, 0, 0, 0, 3, 0, 0, 0, 0, 0, 1],\n",
       "   [1, 0, 0, 0, 0, 2, 0, 0, 0, 0, 0, 1],\n",
       "   [1, 0, 0, 0, 0, 2, 0, 0, 0, 0, 0, 1],\n",
       "   [1, 0, 0, 0, 0, 0, 0, 0, 0, 0, 0, 1],\n",
       "   [1, 0, 0, 0, 0, 0, 0, 0, 0, 0, 0, 1],\n",
       "   [1, 0, 0, 0, 0, 0, 0, 0, 0, 0, 0, 1],\n",
       "   [1, 1, 1, 1, 1, 1, 1, 1, 1, 1, 1, 1]],\n",
       "  1,\n",
       "  2,\n",
       "  False),\n",
       " ([[1, 1, 1, 1, 1, 1, 1, 1, 1, 1, 1, 1],\n",
       "   [1, 0, 0, 0, 0, 0, 0, 0, 0, 0, 0, 1],\n",
       "   [1, 0, 0, 0, 0, 3, 9, 0, 0, 0, 0, 1],\n",
       "   [1, 0, 0, 0, 0, 2, 0, 0, 0, 0, 0, 1],\n",
       "   [1, 0, 0, 0, 0, 2, 0, 0, 0, 0, 0, 1],\n",
       "   [1, 0, 0, 0, 0, 2, 0, 0, 0, 0, 0, 1],\n",
       "   [1, 0, 0, 0, 0, 0, 0, 0, 0, 0, 0, 1],\n",
       "   [1, 0, 0, 0, 0, 0, 0, 0, 0, 0, 0, 1],\n",
       "   [1, 0, 0, 0, 0, 0, 0, 0, 0, 0, 0, 1],\n",
       "   [1, 0, 0, 0, 0, 0, 0, 0, 0, 0, 0, 1],\n",
       "   [1, 0, 0, 0, 0, 0, 0, 0, 0, 0, 0, 1],\n",
       "   [1, 1, 1, 1, 1, 1, 1, 1, 1, 1, 1, 1]],\n",
       "  2,\n",
       "  2,\n",
       "  False),\n",
       " ([[1, 1, 1, 1, 1, 1, 1, 1, 1, 1, 1, 1],\n",
       "   [1, 0, 0, 0, 0, 0, 0, 0, 0, 0, 0, 1],\n",
       "   [1, 0, 0, 0, 0, 0, 0, 0, 0, 0, 0, 1],\n",
       "   [1, 0, 0, 0, 0, 0, 0, 0, 0, 0, 0, 1],\n",
       "   [1, 0, 0, 9, 0, 0, 0, 0, 0, 0, 0, 1],\n",
       "   [1, 2, 2, 3, 0, 0, 0, 0, 0, 0, 0, 1],\n",
       "   [1, 0, 0, 0, 0, 0, 0, 0, 0, 0, 0, 1],\n",
       "   [1, 0, 0, 0, 0, 0, 0, 0, 0, 0, 0, 1],\n",
       "   [1, 0, 0, 0, 0, 0, 0, 0, 0, 0, 0, 1],\n",
       "   [1, 0, 0, 0, 0, 0, 0, 0, 0, 0, 0, 1],\n",
       "   [1, 0, 0, 0, 0, 0, 0, 0, 0, 0, 0, 1],\n",
       "   [1, 1, 1, 1, 1, 1, 1, 1, 1, 1, 1, 1]],\n",
       "  3,\n",
       "  2,\n",
       "  False)]"
      ]
     },
     "execution_count": 352,
     "metadata": {},
     "output_type": "execute_result"
    }
   ],
   "source": [
    "[a for a in h if a[2]>1]"
   ]
  },
  {
   "cell_type": "code",
   "execution_count": 350,
   "metadata": {},
   "outputs": [],
   "source": [
    "# Replaybot"
   ]
  },
  {
   "cell_type": "code",
   "execution_count": 48,
   "metadata": {},
   "outputs": [],
   "source": [
    "class Replaybot():\n",
    "    def __init__(self):\n",
    "        pass\n",
    "    \n",
    "    def compute(self, grille):\n",
    "        pnet = policy_net.eval()\n",
    "        state = preprocess_grille(grille)\n",
    "        actions_probas = pnet(state).squeeze(0)\n",
    "        best_prob = [(input_to_dir[i], a.item()) for i, a in enumerate(actions_probas)]\n",
    "        print(sorted(best_prob, key=lambda x: x[1],reverse=True))\n",
    "        return position_to_input[actions_probas.argmax(0).item()]\n",
    "rb = Replaybot()"
   ]
  },
  {
   "cell_type": "code",
   "execution_count": 49,
   "metadata": {},
   "outputs": [],
   "source": [
    "from pprint import pprint\n",
    "from time import sleep\n",
    "from IPython.display import clear_output\n",
    "sn = Snake(sizes, rb)\n",
    "state = sn.reset()\n",
    "state = preprocess_grille(state)\n",
    "game_iterator = sn.play()\n",
    "step = 0\n",
    "while True:\n",
    "    step+=1\n",
    "    print(\"Step:\", step)\n",
    "    reward, grille, user_action, is_done = next(game_iterator)\n",
    "    pprint(grille)\n",
    "    sleep(2.5)\n",
    "    clear_output()\n",
    "    if is_done:\n",
    "        break"
   ]
  },
  {
   "cell_type": "code",
   "execution_count": 282,
   "metadata": {},
   "outputs": [
    {
     "data": {
      "text/plain": [
       "[]"
      ]
     },
     "execution_count": 282,
     "metadata": {},
     "output_type": "execute_result"
    }
   ],
   "source": [
    "input_to_dir = {\n",
    "    0 :\"left\",\n",
    "    2 :\"right\",\n",
    "    3 :\"up\",\n",
    "    1 :\"down\"\n",
    "}"
   ]
  },
  {
   "cell_type": "code",
   "execution_count": 270,
   "metadata": {},
   "outputs": [
    {
     "data": {
      "text/plain": [
       "1"
      ]
     },
     "execution_count": 270,
     "metadata": {},
     "output_type": "execute_result"
    }
   ],
   "source": [
    "i_episode%50"
   ]
  },
  {
   "cell_type": "code",
   "execution_count": 268,
   "metadata": {},
   "outputs": [
    {
     "data": {
      "text/plain": [
       "1"
      ]
     },
     "execution_count": 268,
     "metadata": {},
     "output_type": "execute_result"
    }
   ],
   "source": [
    "i_episode"
   ]
  },
  {
   "cell_type": "code",
   "execution_count": 133,
   "metadata": {},
   "outputs": [],
   "source": [
    "samples = memory.sample(batch_size)\n",
    "state_batch = torch.vstack([preprocess_grille(s[0], to_cnn=True) for s in samples])\n",
    "action_batch = torch.vstack([torch.tensor(s[1]) for s in samples])\n",
    "reward_batch = torch.vstack([torch.tensor(s[2]) for s in samples]).float()\n",
    "\n",
    "state_action_values = policy_net(state_batch).gather(1, action_batch)\n",
    "expected_state_action_values = reward_batch\n",
    "loss = F.smooth_l1_loss(state_action_values, expected_state_action_values)"
   ]
  },
  {
   "cell_type": "code",
   "execution_count": 138,
   "metadata": {},
   "outputs": [
    {
     "data": {
      "text/plain": [
       "tensor([11.5310, 30.7950, 53.9331, 29.7409], grad_fn=<SumBackward1>)"
      ]
     },
     "execution_count": 138,
     "metadata": {},
     "output_type": "execute_result"
    }
   ],
   "source": [
    "policy_net(state_batch).sum(0)"
   ]
  },
  {
   "cell_type": "code",
   "execution_count": null,
   "metadata": {},
   "outputs": [],
   "source": [
    "position_to_input = {\n",
    "    0:4,\n",
    "    1:5,\n",
    "    2:6,\n",
    "    3:8\n",
    "}"
   ]
  },
  {
   "cell_type": "code",
   "execution_count": 367,
   "metadata": {},
   "outputs": [
    {
     "data": {
      "text/plain": [
       "tensor([2.2177e-07, 8.7067e-07, 9.9919e-01, 8.1304e-04],\n",
       "       grad_fn=<SelectBackward>)"
      ]
     },
     "execution_count": 367,
     "metadata": {},
     "output_type": "execute_result"
    }
   ],
   "source": [
    "policy_net(state_batch)[0]"
   ]
  },
  {
   "cell_type": "code",
   "execution_count": 286,
   "metadata": {},
   "outputs": [
    {
     "data": {
      "text/plain": [
       "tensor([[1],\n",
       "        [3],\n",
       "        [1],\n",
       "        [1],\n",
       "        [1],\n",
       "        [1],\n",
       "        [0],\n",
       "        [1],\n",
       "        [3],\n",
       "        [0],\n",
       "        [1],\n",
       "        [3],\n",
       "        [2],\n",
       "        [1],\n",
       "        [1],\n",
       "        [1],\n",
       "        [3],\n",
       "        [0],\n",
       "        [1],\n",
       "        [2],\n",
       "        [1],\n",
       "        [1],\n",
       "        [2],\n",
       "        [2],\n",
       "        [2],\n",
       "        [0],\n",
       "        [1],\n",
       "        [1],\n",
       "        [1],\n",
       "        [0],\n",
       "        [1],\n",
       "        [1],\n",
       "        [1],\n",
       "        [3],\n",
       "        [0],\n",
       "        [0],\n",
       "        [0],\n",
       "        [1],\n",
       "        [1],\n",
       "        [0],\n",
       "        [2],\n",
       "        [3],\n",
       "        [1],\n",
       "        [1],\n",
       "        [0],\n",
       "        [2],\n",
       "        [3],\n",
       "        [2],\n",
       "        [1],\n",
       "        [3],\n",
       "        [2],\n",
       "        [1],\n",
       "        [1],\n",
       "        [1],\n",
       "        [1],\n",
       "        [3],\n",
       "        [1],\n",
       "        [1],\n",
       "        [3],\n",
       "        [1],\n",
       "        [1],\n",
       "        [1],\n",
       "        [1],\n",
       "        [1],\n",
       "        [1],\n",
       "        [1],\n",
       "        [1],\n",
       "        [0],\n",
       "        [1],\n",
       "        [2],\n",
       "        [1],\n",
       "        [1],\n",
       "        [0],\n",
       "        [3],\n",
       "        [0],\n",
       "        [1],\n",
       "        [1],\n",
       "        [1],\n",
       "        [0],\n",
       "        [3],\n",
       "        [1],\n",
       "        [1],\n",
       "        [0],\n",
       "        [1],\n",
       "        [2],\n",
       "        [2],\n",
       "        [1],\n",
       "        [3],\n",
       "        [1],\n",
       "        [3],\n",
       "        [3],\n",
       "        [1],\n",
       "        [0],\n",
       "        [3],\n",
       "        [3],\n",
       "        [1],\n",
       "        [1],\n",
       "        [1],\n",
       "        [3],\n",
       "        [1],\n",
       "        [2],\n",
       "        [2],\n",
       "        [3],\n",
       "        [1],\n",
       "        [3],\n",
       "        [1],\n",
       "        [2],\n",
       "        [1],\n",
       "        [1],\n",
       "        [2],\n",
       "        [1],\n",
       "        [0],\n",
       "        [1],\n",
       "        [3],\n",
       "        [0],\n",
       "        [2],\n",
       "        [1],\n",
       "        [0],\n",
       "        [1],\n",
       "        [1],\n",
       "        [3],\n",
       "        [3],\n",
       "        [1],\n",
       "        [0],\n",
       "        [1],\n",
       "        [1]])"
      ]
     },
     "execution_count": 286,
     "metadata": {},
     "output_type": "execute_result"
    }
   ],
   "source": [
    "action_batch"
   ]
  },
  {
   "cell_type": "code",
   "execution_count": 309,
   "metadata": {},
   "outputs": [
    {
     "data": {
      "text/plain": [
       "2"
      ]
     },
     "execution_count": 309,
     "metadata": {},
     "output_type": "execute_result"
    }
   ],
   "source": [
    "policy_net(state_batch).argmax(1)[0].item()"
   ]
  },
  {
   "cell_type": "code",
   "execution_count": null,
   "metadata": {},
   "outputs": [],
   "source": [
    "input_to_dir = {\n",
    "    0 :\"left\",\n",
    "    2 :\"right\",\n",
    "    3 :\"up\",\n",
    "    1 :\"down\"\n",
    "}\n",
    "\n",
    "position_to_input = {\n",
    "    0:4,\n",
    "    1:5,\n",
    "    2:6,\n",
    "    3:8\n",
    "}\n",
    "\n",
    "{\n",
    "    4: \"left\"\n",
    "    5: \"down\",\n",
    "    6: \"right\"\n",
    "    8: \"up\"\n",
    "}"
   ]
  },
  {
   "cell_type": "code",
   "execution_count": 207,
   "metadata": {},
   "outputs": [
    {
     "data": {
      "text/plain": [
       "7.526709489612e-08"
      ]
     },
     "execution_count": 207,
     "metadata": {},
     "output_type": "execute_result"
    }
   ],
   "source": [
    "np.sum([4.7006e-09, 4.9460e-13, 2.9612e-16, 7.0566e-08])"
   ]
  },
  {
   "cell_type": "code",
   "execution_count": null,
   "metadata": {},
   "outputs": [],
   "source": []
  },
  {
   "cell_type": "code",
   "execution_count": 241,
   "metadata": {},
   "outputs": [
    {
     "data": {
      "text/plain": [
       "([[1, 1, 1, 1, 1, 1, 1, 1, 1, 1, 1, 1],\n",
       "  [1, 0, 0, 0, 0, 0, 0, 0, 0, 0, 0, 1],\n",
       "  [1, 0, 0, 0, 0, 0, 0, 0, 0, 0, 0, 1],\n",
       "  [1, 0, 0, 0, 0, 0, 0, 0, 0, 0, 0, 1],\n",
       "  [1, 0, 0, 0, 0, 0, 0, 0, 0, 0, 0, 1],\n",
       "  [1, 0, 0, 0, 0, 2, 0, 0, 0, 0, 0, 1],\n",
       "  [1, 0, 0, 0, 3, 2, 9, 0, 0, 0, 0, 1],\n",
       "  [1, 0, 0, 0, 0, 0, 0, 0, 0, 0, 0, 1],\n",
       "  [1, 0, 0, 0, 0, 0, 0, 0, 0, 0, 0, 1],\n",
       "  [1, 0, 0, 0, 0, 0, 0, 0, 0, 0, 0, 1],\n",
       "  [1, 0, 0, 0, 0, 0, 0, 0, 0, 0, 0, 1],\n",
       "  [1, 1, 1, 1, 1, 1, 1, 1, 1, 1, 1, 1]],\n",
       " 2,\n",
       " 1,\n",
       " False)"
      ]
     },
     "execution_count": 241,
     "metadata": {},
     "output_type": "execute_result"
    }
   ],
   "source": [
    "samples[1]"
   ]
  },
  {
   "cell_type": "code",
   "execution_count": 193,
   "metadata": {},
   "outputs": [
    {
     "data": {
      "text/plain": [
       "1959"
      ]
     },
     "execution_count": 193,
     "metadata": {},
     "output_type": "execute_result"
    }
   ],
   "source": [
    "steps_done"
   ]
  },
  {
   "cell_type": "code",
   "execution_count": 185,
   "metadata": {},
   "outputs": [
    {
     "data": {
      "text/plain": [
       "[0,\n",
       " 0,\n",
       " 0,\n",
       " 0,\n",
       " 0,\n",
       " 0,\n",
       " 0,\n",
       " 0,\n",
       " 3,\n",
       " 0,\n",
       " 0,\n",
       " 0,\n",
       " 0,\n",
       " 0,\n",
       " 0,\n",
       " 0,\n",
       " 0,\n",
       " 0,\n",
       " 0,\n",
       " 0,\n",
       " 0,\n",
       " 0,\n",
       " 0,\n",
       " 0,\n",
       " 0,\n",
       " 0,\n",
       " 0,\n",
       " 0,\n",
       " 0,\n",
       " 0,\n",
       " 0,\n",
       " 0,\n",
       " 0,\n",
       " 0,\n",
       " 0,\n",
       " 0,\n",
       " 0,\n",
       " 2,\n",
       " 0,\n",
       " 0,\n",
       " 0,\n",
       " 0,\n",
       " 0,\n",
       " 0,\n",
       " 0,\n",
       " 0,\n",
       " 0,\n",
       " 0,\n",
       " 0,\n",
       " 0,\n",
       " 0,\n",
       " 0,\n",
       " 0,\n",
       " 0,\n",
       " 0,\n",
       " 0,\n",
       " 0,\n",
       " 0,\n",
       " 0,\n",
       " 0,\n",
       " 0,\n",
       " 0,\n",
       " 0,\n",
       " 0,\n",
       " 0,\n",
       " 0,\n",
       " 0,\n",
       " 0,\n",
       " 0,\n",
       " 0,\n",
       " 0,\n",
       " 0,\n",
       " 0,\n",
       " 0,\n",
       " 0,\n",
       " 0,\n",
       " 0,\n",
       " 0,\n",
       " 0,\n",
       " 0,\n",
       " 0,\n",
       " 0,\n",
       " 0,\n",
       " 0,\n",
       " 0,\n",
       " 0,\n",
       " 0,\n",
       " 0,\n",
       " 0,\n",
       " 0,\n",
       " 0,\n",
       " 0,\n",
       " 0,\n",
       " 0,\n",
       " 3,\n",
       " 0,\n",
       " 0,\n",
       " 0,\n",
       " 0,\n",
       " 0,\n",
       " 0,\n",
       " 0,\n",
       " 0,\n",
       " 0,\n",
       " 0,\n",
       " 0,\n",
       " 0,\n",
       " 0,\n",
       " 0,\n",
       " 0,\n",
       " 0,\n",
       " 0,\n",
       " 0,\n",
       " 0,\n",
       " 0,\n",
       " 0,\n",
       " 0,\n",
       " 0,\n",
       " 0,\n",
       " 0,\n",
       " 0,\n",
       " 0,\n",
       " 0,\n",
       " 1,\n",
       " 0,\n",
       " 0]"
      ]
     },
     "execution_count": 185,
     "metadata": {},
     "output_type": "execute_result"
    }
   ],
   "source": [
    "[s[1] for s in samples]"
   ]
  },
  {
   "cell_type": "code",
   "execution_count": 91,
   "metadata": {},
   "outputs": [
    {
     "data": {
      "text/plain": [
       "deque([([[1, 1, 1, 1, 1, 1, 1, 1, 1, 1, 1, 1],\n",
       "         [1, 0, 0, 0, 0, 0, 0, 0, 0, 9, 0, 1],\n",
       "         [1, 0, 0, 0, 0, 0, 0, 0, 0, 0, 0, 1],\n",
       "         [1, 0, 0, 0, 0, 0, 0, 0, 0, 0, 0, 1],\n",
       "         [1, 0, 0, 0, 0, 0, 0, 0, 0, 0, 0, 1],\n",
       "         [1, 2, 2, 3, 0, 0, 0, 0, 0, 0, 0, 1],\n",
       "         [1, 0, 0, 0, 0, 0, 0, 0, 0, 0, 0, 1],\n",
       "         [1, 0, 0, 0, 0, 0, 0, 0, 0, 0, 0, 1],\n",
       "         [1, 0, 0, 0, 0, 0, 0, 0, 0, 0, 0, 1],\n",
       "         [1, 0, 0, 0, 0, 0, 0, 0, 0, 0, 0, 1],\n",
       "         [1, 0, 0, 0, 0, 0, 0, 0, 0, 0, 0, 1],\n",
       "         [1, 1, 1, 1, 1, 1, 1, 1, 1, 1, 1, 1]],\n",
       "        1,\n",
       "        1,\n",
       "        False)])"
      ]
     },
     "execution_count": 91,
     "metadata": {},
     "output_type": "execute_result"
    }
   ],
   "source": [
    "memory.get_all_history()"
   ]
  },
  {
   "cell_type": "code",
   "execution_count": null,
   "metadata": {},
   "outputs": [],
   "source": [
    "sn.reset()\n",
    "game_iterator = sn.play()"
   ]
  },
  {
   "cell_type": "code",
   "execution_count": null,
   "metadata": {},
   "outputs": [],
   "source": [
    "next(gen)"
   ]
  },
  {
   "cell_type": "code",
   "execution_count": null,
   "metadata": {},
   "outputs": [],
   "source": [
    "next(game_iterator)"
   ]
  },
  {
   "cell_type": "code",
   "execution_count": 60,
   "metadata": {},
   "outputs": [],
   "source": [
    "import gym\n",
    "env = gym.make('CartPole-v0').unwrapped"
   ]
  },
  {
   "cell_type": "code",
   "execution_count": null,
   "metadata": {},
   "outputs": [],
   "source": []
  },
  {
   "cell_type": "code",
   "execution_count": null,
   "metadata": {},
   "outputs": [],
   "source": [
    "is\n",
    "sn.reset()\n",
    "gen = sn.play()"
   ]
  },
  {
   "cell_type": "code",
   "execution_count": null,
   "metadata": {},
   "outputs": [],
   "source": [
    "\n",
    "next(gen)"
   ]
  },
  {
   "cell_type": "code",
   "execution_count": null,
   "metadata": {},
   "outputs": [],
   "source": [
    "\n",
    "state = preprocess_grille(state)"
   ]
  },
  {
   "cell_type": "code",
   "execution_count": null,
   "metadata": {},
   "outputs": [],
   "source": [
    "action"
   ]
  },
  {
   "cell_type": "code",
   "execution_count": null,
   "metadata": {},
   "outputs": [],
   "source": [
    "sequence_length = 10\n",
    "bathc = grille_torch_flat.float().repeat(1, sequence_length).view(sequence_length, grille_torch_flat.shape[0])"
   ]
  },
  {
   "cell_type": "code",
   "execution_count": 168,
   "metadata": {},
   "outputs": [
    {
     "data": {
      "text/plain": [
       "torch.Size([10, 144])"
      ]
     },
     "execution_count": 168,
     "metadata": {},
     "output_type": "execute_result"
    }
   ],
   "source": [
    "bathc.shape"
   ]
  },
  {
   "cell_type": "code",
   "execution_count": 175,
   "metadata": {},
   "outputs": [
    {
     "data": {
      "text/plain": [
       "tensor([3, 3, 3, 3, 3, 3, 3, 3, 3, 3])"
      ]
     },
     "execution_count": 175,
     "metadata": {},
     "output_type": "execute_result"
    }
   ],
   "source": [
    "ff(bathc).max(1)[1]"
   ]
  },
  {
   "cell_type": "code",
   "execution_count": 182,
   "metadata": {},
   "outputs": [],
   "source": [
    "bathc = grille_torch_flat.float().unsqueeze(0)"
   ]
  },
  {
   "cell_type": "code",
   "execution_count": 183,
   "metadata": {},
   "outputs": [
    {
     "data": {
      "text/plain": [
       "tensor([[ 0.0000, -0.0338,  1.0690,  0.6767,  2.2361,  2.2361,  2.2361,  2.2361,\n",
       "          2.2361,  2.2361,  2.2361,  0.0000,  0.0000, -0.4395, -0.5345, -0.4834,\n",
       "         -0.4472, -0.4472, -0.4472, -0.4472, -0.4472, -0.4472, -0.4472,  0.0000,\n",
       "          0.0000, -0.4395, -0.5345, -0.4834, -0.4472, -0.4472, -0.4472, -0.4472,\n",
       "         -0.4472, -0.4472, -0.4472,  0.0000,  0.0000,  3.2116, -0.5345, -0.4834,\n",
       "         -0.4472, -0.4472, -0.4472, -0.4472, -0.4472, -0.4472, -0.4472,  0.0000,\n",
       "          0.0000, -0.4395, -0.5345, -0.4834, -0.4472, -0.4472, -0.4472, -0.4472,\n",
       "         -0.4472, -0.4472, -0.4472,  0.0000,  0.0000,  0.3719,  2.6726,  2.9969,\n",
       "         -0.4472, -0.4472, -0.4472, -0.4472, -0.4472, -0.4472, -0.4472,  0.0000,\n",
       "          0.0000, -0.4395, -0.5345, -0.4834, -0.4472, -0.4472, -0.4472, -0.4472,\n",
       "         -0.4472, -0.4472, -0.4472,  0.0000,  0.0000, -0.4395, -0.5345, -0.4834,\n",
       "         -0.4472, -0.4472, -0.4472, -0.4472, -0.4472, -0.4472, -0.4472,  0.0000,\n",
       "          0.0000, -0.4395, -0.5345, -0.4834, -0.4472, -0.4472, -0.4472, -0.4472,\n",
       "         -0.4472, -0.4472, -0.4472,  0.0000,  0.0000, -0.4395, -0.5345, -0.4834,\n",
       "         -0.4472, -0.4472, -0.4472, -0.4472, -0.4472, -0.4472, -0.4472,  0.0000,\n",
       "          0.0000, -0.4395, -0.5345, -0.4834, -0.4472, -0.4472, -0.4472, -0.4472,\n",
       "         -0.4472, -0.4472, -0.4472,  0.0000,  0.0000, -0.0338,  1.0690,  0.6767,\n",
       "          2.2361,  2.2361,  2.2361,  2.2361,  2.2361,  2.2361,  2.2361,  0.0000]])"
      ]
     },
     "execution_count": 183,
     "metadata": {},
     "output_type": "execute_result"
    }
   ],
   "source": [
    "bathc"
   ]
  },
  {
   "cell_type": "code",
   "execution_count": null,
   "metadata": {},
   "outputs": [],
   "source": []
  }
 ],
 "metadata": {
  "kernelspec": {
   "display_name": "Python 3",
   "language": "python",
   "name": "python3"
  },
  "language_info": {
   "codemirror_mode": {
    "name": "ipython",
    "version": 3
   },
   "file_extension": ".py",
   "mimetype": "text/x-python",
   "name": "python",
   "nbconvert_exporter": "python",
   "pygments_lexer": "ipython3",
   "version": "3.8.5"
  }
 },
 "nbformat": 4,
 "nbformat_minor": 4
}
